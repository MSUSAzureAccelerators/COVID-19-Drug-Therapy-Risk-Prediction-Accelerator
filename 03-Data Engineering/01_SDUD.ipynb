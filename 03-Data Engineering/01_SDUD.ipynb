{
  "cells": [
    {
      "cell_type": "markdown",
      "source": [
        "## Update variables"
      ],
      "metadata": {
        "nteract": {
          "transient": {
            "deleting": false
          }
        }
      }
    },
    {
      "cell_type": "code",
      "source": [
        "# list all tables in spark db\r\n",
        "\r\n",
        "from pyspark.sql import SparkSession\r\n",
        "\r\n",
        "for table in spark.catalog.listTables():\r\n",
        "    print(table.name)"
      ],
      "outputs": [],
      "execution_count": null,
      "metadata": {
        "jupyter": {
          "source_hidden": false,
          "outputs_hidden": false
        },
        "nteract": {
          "transient": {
            "deleting": false
          }
        }
      }
    },
    {
      "cell_type": "code",
      "source": [
        "# drop tables\r\n",
        "\r\n",
        "from pyspark.sql import HiveContext\r\n",
        "sqlContext = HiveContext(sc)\r\n",
        "sqlContext.sql('drop table tb2')"
      ],
      "outputs": [],
      "execution_count": null,
      "metadata": {
        "jupyter": {
          "source_hidden": false,
          "outputs_hidden": false
        },
        "nteract": {
          "transient": {
            "deleting": false
          }
        }
      }
    },
    {
      "cell_type": "code",
      "source": [
        "storage_account_name = 'asastgsusa4bhqynzjymxma'\r\n",
        "container_name = 'raw'\r\n",
        "#sql_pool_name = 'SQLPool01'"
      ],
      "outputs": [
        {
          "output_type": "display_data",
          "data": {
            "application/vnd.livy.statement-meta+json": {
              "spark_pool": "SparkPool01",
              "session_id": 10,
              "statement_id": 1,
              "state": "finished",
              "livy_statement_state": "available",
              "queued_time": "2022-03-29T18:12:24.3801227Z",
              "session_start_time": "2022-03-29T18:12:24.412527Z",
              "execution_start_time": "2022-03-29T18:16:20.7390548Z",
              "execution_finish_time": "2022-03-29T18:16:20.7396268Z"
            },
            "text/plain": "StatementMeta(SparkPool01, 10, 1, Finished, Available)"
          },
          "metadata": {}
        }
      ],
      "execution_count": 26,
      "metadata": {
        "jupyter": {
          "source_hidden": false,
          "outputs_hidden": false
        },
        "nteract": {
          "transient": {
            "deleting": false
          }
        }
      }
    },
    {
      "cell_type": "markdown",
      "source": [
        "## Load datasets"
      ],
      "metadata": {
        "application/vnd.databricks.v1+cell": {
          "title": "",
          "showTitle": false,
          "inputWidgets": {},
          "nuid": "d4987a88-a78a-4782-874f-1dfa326265a3"
        }
      }
    },
    {
      "cell_type": "code",
      "source": [
        "# load 2018-2021 SDUD data from ADLS2 into Spark dataframe and join\r\n",
        "\r\n",
        "df_18 = spark.read.format('csv').options(header='true', inferschema='true').load(f\"abfss://{container_name}@{storage_account_name}.dfs.core.windows.net/SDUD/State_Drug_Utilization_Data_2018.csv\")\r\n",
        "df_19 = spark.read.format('csv').options(header='true', inferschema='true').load(f\"abfss://{container_name}@{storage_account_name}.dfs.core.windows.net/SDUD/State_Drug_Utilization_Data_2019.csv\")\r\n",
        "df_20 = spark.read.format('csv').options(header='true', inferschema='true').load(f\"abfss://{container_name}@{storage_account_name}.dfs.core.windows.net/SDUD/State_Drug_Utilization_Data_2020.csv\")\r\n",
        "df_21 = spark.read.format('csv').options(header='true', inferschema='true').load(f\"abfss://{container_name}@{storage_account_name}.dfs.core.windows.net/SDUD/State_Drug_Utilization_Data_2021.csv\")\r\n",
        "\r\n",
        "\r\n",
        "df = df_18.union(df_19).union(df_20).union(df_21)"
      ],
      "outputs": [
        {
          "output_type": "display_data",
          "data": {
            "application/vnd.livy.statement-meta+json": {
              "spark_pool": "SparkPool01",
              "session_id": 10,
              "statement_id": 2,
              "state": "finished",
              "livy_statement_state": "available",
              "queued_time": "2022-03-29T18:12:24.5134513Z",
              "session_start_time": null,
              "execution_start_time": "2022-03-29T18:16:20.834729Z",
              "execution_finish_time": "2022-03-29T18:17:00.1452152Z"
            },
            "text/plain": "StatementMeta(SparkPool01, 10, 2, Finished, Available)"
          },
          "metadata": {}
        }
      ],
      "execution_count": 27,
      "metadata": {
        "jupyter": {
          "source_hidden": false,
          "outputs_hidden": false
        },
        "nteract": {
          "transient": {
            "deleting": false
          }
        },
        "microsoft": {}
      }
    },
    {
      "cell_type": "markdown",
      "source": [
        "## Explore the data"
      ],
      "metadata": {
        "nteract": {
          "transient": {
            "deleting": false
          }
        }
      }
    },
    {
      "cell_type": "code",
      "source": [
        "# display joined dataframe\r\n",
        "\r\n",
        "display(df.limit(10))"
      ],
      "outputs": [
        {
          "output_type": "display_data",
          "data": {
            "application/vnd.livy.statement-meta+json": {
              "spark_pool": "SparkPool01",
              "session_id": 10,
              "statement_id": 77,
              "state": "finished",
              "livy_statement_state": "available",
              "queued_time": "2022-03-29T21:25:17.8728703Z",
              "session_start_time": null,
              "execution_start_time": "2022-03-29T21:25:17.9879958Z",
              "execution_finish_time": "2022-03-29T21:25:19.8221811Z"
            },
            "text/plain": "StatementMeta(SparkPool01, 10, 77, Finished, Available)"
          },
          "metadata": {}
        },
        {
          "output_type": "display_data",
          "data": {
            "application/vnd.synapse.widget-view+json": {
              "widget_id": "260e77e6-310b-49a7-8eda-f8a110133285",
              "widget_type": "Synapse.DataFrame"
            },
            "text/plain": "SynapseWidget(Synapse.DataFrame, 260e77e6-310b-49a7-8eda-f8a110133285)"
          },
          "metadata": {}
        }
      ],
      "execution_count": 101,
      "metadata": {
        "jupyter": {
          "source_hidden": false,
          "outputs_hidden": false
        },
        "nteract": {
          "transient": {
            "deleting": false
          }
        },
        "collapsed": false
      }
    },
    {
      "cell_type": "code",
      "source": [
        "# how many rows, columns\r\n",
        "\r\n",
        "print((df.count(), len(df.columns)))"
      ],
      "outputs": [
        {
          "output_type": "display_data",
          "data": {
            "application/vnd.livy.statement-meta+json": {
              "spark_pool": "SparkPool01",
              "session_id": 10,
              "statement_id": 4,
              "state": "finished",
              "livy_statement_state": "available",
              "queued_time": "2022-03-29T18:12:24.8831625Z",
              "session_start_time": null,
              "execution_start_time": "2022-03-29T18:17:04.2690364Z",
              "execution_finish_time": "2022-03-29T18:17:11.3383301Z"
            },
            "text/plain": "StatementMeta(SparkPool01, 10, 4, Finished, Available)"
          },
          "metadata": {}
        },
        {
          "output_type": "stream",
          "name": "stdout",
          "text": [
            "(14743821, 20)"
          ]
        }
      ],
      "execution_count": 29,
      "metadata": {
        "application/vnd.databricks.v1+cell": {
          "title": "",
          "showTitle": false,
          "inputWidgets": {},
          "nuid": "30457283-8715-45ba-b839-9dc321ba8e92"
        },
        "microsoft": {}
      }
    },
    {
      "cell_type": "markdown",
      "source": [
        "### Print schema and modify"
      ],
      "metadata": {
        "nteract": {
          "transient": {
            "deleting": false
          }
        }
      }
    },
    {
      "cell_type": "code",
      "source": [
        "# current schema\r\n",
        "\r\n",
        "df.printSchema()"
      ],
      "outputs": [
        {
          "output_type": "display_data",
          "data": {
            "application/vnd.livy.statement-meta+json": {
              "spark_pool": "SparkPool01",
              "session_id": 10,
              "statement_id": 5,
              "state": "finished",
              "livy_statement_state": "available",
              "queued_time": "2022-03-29T18:12:24.9934157Z",
              "session_start_time": null,
              "execution_start_time": "2022-03-29T18:17:11.962875Z",
              "execution_finish_time": "2022-03-29T18:17:12.1308357Z"
            },
            "text/plain": "StatementMeta(SparkPool01, 10, 5, Finished, Available)"
          },
          "metadata": {}
        },
        {
          "output_type": "stream",
          "name": "stdout",
          "text": [
            "root\n |-- Utilization Type: string (nullable = true)\n |-- State: string (nullable = true)\n |-- Labeler Code: integer (nullable = true)\n |-- Product Code: integer (nullable = true)\n |-- Package Size: integer (nullable = true)\n |-- Year: integer (nullable = true)\n |-- Quarter: integer (nullable = true)\n |-- Product Name: string (nullable = true)\n |-- Suppression Used: boolean (nullable = true)\n |-- Units Reimbursed: string (nullable = true)\n |-- Number of Prescriptions: string (nullable = true)\n |-- Total Amount Reimbursed: string (nullable = true)\n |-- Medicaid Amount Reimbursed: string (nullable = true)\n |-- Non Medicaid Amount Reimbursed: string (nullable = true)\n |-- Quarter Begin: string (nullable = true)\n |-- Quarter Begin Date: string (nullable = true)\n |-- Latitude: double (nullable = true)\n |-- Longitude: double (nullable = true)\n |-- Location: string (nullable = true)\n |-- NDC: long (nullable = true)"
          ]
        }
      ],
      "execution_count": 30,
      "metadata": {
        "jupyter": {
          "source_hidden": false,
          "outputs_hidden": false
        },
        "nteract": {
          "transient": {
            "deleting": false
          }
        },
        "microsoft": {}
      }
    },
    {
      "cell_type": "code",
      "source": [
        "# cast Number_of_Prescriptions from string to int\r\n",
        "\r\n",
        "df1 = df.withColumn(\"Number of Prescriptions\", df[\"Number of Prescriptions\"].cast('int'))"
      ],
      "outputs": [
        {
          "output_type": "display_data",
          "data": {
            "application/vnd.livy.statement-meta+json": {
              "spark_pool": "SparkPool01",
              "session_id": 10,
              "statement_id": 6,
              "state": "finished",
              "livy_statement_state": "available",
              "queued_time": "2022-03-29T18:12:25.1121075Z",
              "session_start_time": null,
              "execution_start_time": "2022-03-29T18:17:12.2165768Z",
              "execution_finish_time": "2022-03-29T18:17:12.7170397Z"
            },
            "text/plain": "StatementMeta(SparkPool01, 10, 6, Finished, Available)"
          },
          "metadata": {}
        }
      ],
      "execution_count": 31,
      "metadata": {
        "jupyter": {
          "source_hidden": false,
          "outputs_hidden": false
        },
        "nteract": {
          "transient": {
            "deleting": false
          }
        }
      }
    },
    {
      "cell_type": "code",
      "source": [
        "# rename columns\r\n",
        "\r\n",
        "oldColumns = df1.schema.names\r\n",
        "newColumns = [\"Utilization_Type\", \"State\", \"Labeler_Code\", \"Product_Code\",\r\n",
        "       \"Package_Size\", \"Year\", \"Quarter\", \"Product_Name\", \"Supression_Used\",\r\n",
        "       \"Units_Reimbursed\", \"Number_of_Prescriptions\",\r\n",
        "       \"Total_Amount_Reimbursed\", \"Medicaid_Amount_Reimbursed\",\r\n",
        "       \"Non_Medicaid_Amount_Reimbursed\", \"Quarter_Begin\", \"Quarter_Begin_Date\",\r\n",
        "       \"Latitude\", \"Longitude\", \"Location\", \"NDC\"]\r\n",
        "\r\n",
        "from functools import reduce\r\n",
        "\r\n",
        "df2 = reduce(lambda df1, idx: df1.withColumnRenamed(oldColumns[idx], newColumns[idx]), range(len(oldColumns)), df1)"
      ],
      "outputs": [
        {
          "output_type": "display_data",
          "data": {
            "application/vnd.livy.statement-meta+json": {
              "spark_pool": "SparkPool01",
              "session_id": 10,
              "statement_id": 7,
              "state": "finished",
              "livy_statement_state": "available",
              "queued_time": "2022-03-29T18:12:25.2263583Z",
              "session_start_time": null,
              "execution_start_time": "2022-03-29T18:17:12.8018613Z",
              "execution_finish_time": "2022-03-29T18:17:12.963019Z"
            },
            "text/plain": "StatementMeta(SparkPool01, 10, 7, Finished, Available)"
          },
          "metadata": {}
        }
      ],
      "execution_count": 32,
      "metadata": {
        "jupyter": {
          "source_hidden": false,
          "outputs_hidden": false
        },
        "nteract": {
          "transient": {
            "deleting": false
          }
        },
        "microsoft": {}
      }
    },
    {
      "cell_type": "code",
      "source": [
        "# new schema\r\n",
        "\r\n",
        "df2.printSchema()\r\n"
      ],
      "outputs": [
        {
          "output_type": "display_data",
          "data": {
            "application/vnd.livy.statement-meta+json": {
              "spark_pool": "SparkPool01",
              "session_id": 10,
              "statement_id": 8,
              "state": "finished",
              "livy_statement_state": "available",
              "queued_time": "2022-03-29T18:12:25.3955548Z",
              "session_start_time": null,
              "execution_start_time": "2022-03-29T18:17:13.0796392Z",
              "execution_finish_time": "2022-03-29T18:17:13.2233655Z"
            },
            "text/plain": "StatementMeta(SparkPool01, 10, 8, Finished, Available)"
          },
          "metadata": {}
        },
        {
          "output_type": "stream",
          "name": "stdout",
          "text": [
            "root\n |-- Utilization_Type: string (nullable = true)\n |-- State: string (nullable = true)\n |-- Labeler_Code: integer (nullable = true)\n |-- Product_Code: integer (nullable = true)\n |-- Package_Size: integer (nullable = true)\n |-- Year: integer (nullable = true)\n |-- Quarter: integer (nullable = true)\n |-- Product_Name: string (nullable = true)\n |-- Supression_Used: boolean (nullable = true)\n |-- Units_Reimbursed: string (nullable = true)\n |-- Number_of_Prescriptions: integer (nullable = true)\n |-- Total_Amount_Reimbursed: string (nullable = true)\n |-- Medicaid_Amount_Reimbursed: string (nullable = true)\n |-- Non_Medicaid_Amount_Reimbursed: string (nullable = true)\n |-- Quarter_Begin: string (nullable = true)\n |-- Quarter_Begin_Date: string (nullable = true)\n |-- Latitude: double (nullable = true)\n |-- Longitude: double (nullable = true)\n |-- Location: string (nullable = true)\n |-- NDC: long (nullable = true)"
          ]
        }
      ],
      "execution_count": 33,
      "metadata": {
        "jupyter": {
          "source_hidden": false,
          "outputs_hidden": false
        },
        "nteract": {
          "transient": {
            "deleting": false
          }
        }
      }
    },
    {
      "cell_type": "markdown",
      "source": [
        "### Create Spark table for downstream querying"
      ],
      "metadata": {
        "nteract": {
          "transient": {
            "deleting": false
          }
        }
      }
    },
    {
      "cell_type": "code",
      "source": [
        "df2.write.saveAsTable(\"tb1\")"
      ],
      "outputs": [
        {
          "output_type": "display_data",
          "data": {
            "application/vnd.livy.statement-meta+json": {
              "spark_pool": "SparkPool01",
              "session_id": 10,
              "statement_id": 16,
              "state": "finished",
              "livy_statement_state": "available",
              "queued_time": "2022-03-29T18:40:07.11826Z",
              "session_start_time": null,
              "execution_start_time": "2022-03-29T18:40:07.2860285Z",
              "execution_finish_time": "2022-03-29T18:40:32.2313534Z"
            },
            "text/plain": "StatementMeta(SparkPool01, 10, 16, Finished, Available)"
          },
          "metadata": {}
        }
      ],
      "execution_count": 41,
      "metadata": {
        "jupyter": {
          "source_hidden": false,
          "outputs_hidden": false
        },
        "nteract": {
          "transient": {
            "deleting": false
          }
        }
      }
    },
    {
      "cell_type": "code",
      "source": [
        "# temporary view\r\n",
        "\r\n",
        "#df2.createOrReplaceTempView(\"df3\")"
      ],
      "outputs": [
        {
          "output_type": "display_data",
          "data": {
            "application/vnd.livy.statement-meta+json": {
              "spark_pool": "SparkPool01",
              "session_id": 10,
              "statement_id": 9,
              "state": "finished",
              "livy_statement_state": "available",
              "queued_time": "2022-03-29T18:12:25.5163917Z",
              "session_start_time": null,
              "execution_start_time": "2022-03-29T18:17:13.3119925Z",
              "execution_finish_time": "2022-03-29T18:17:13.4602625Z"
            },
            "text/plain": "StatementMeta(SparkPool01, 10, 9, Finished, Available)"
          },
          "metadata": {}
        }
      ],
      "execution_count": 34,
      "metadata": {
        "jupyter": {
          "source_hidden": false,
          "outputs_hidden": false
        },
        "nteract": {
          "transient": {
            "deleting": false
          }
        }
      }
    },
    {
      "cell_type": "markdown",
      "source": [
        "### Get top prescriptions by product from 2018-2021"
      ],
      "metadata": {
        "nteract": {
          "transient": {
            "deleting": false
          }
        }
      }
    },
    {
      "cell_type": "code",
      "source": [
        "# top Rx by product - 2018-2020\r\n",
        "\r\n",
        "display(spark.sql(\"select Product_Name, sum(Number_of_Prescriptions) \\\r\n",
        "    from tb1 \\\r\n",
        "    where Product_Name <> 'UNKNOWN' \\\r\n",
        "    group by Product_Name \\\r\n",
        "    order by sum(Number_of_Prescriptions) desc\").limit(25))"
      ],
      "outputs": [
        {
          "output_type": "display_data",
          "data": {
            "application/vnd.livy.statement-meta+json": {
              "spark_pool": "SparkPool01",
              "session_id": 10,
              "statement_id": 17,
              "state": "finished",
              "livy_statement_state": "available",
              "queued_time": "2022-03-29T18:40:43.8362856Z",
              "session_start_time": null,
              "execution_start_time": "2022-03-29T18:40:43.9226617Z",
              "execution_finish_time": "2022-03-29T18:40:47.842565Z"
            },
            "text/plain": "StatementMeta(SparkPool01, 10, 17, Finished, Available)"
          },
          "metadata": {}
        },
        {
          "output_type": "display_data",
          "data": {
            "application/vnd.synapse.widget-view+json": {
              "widget_id": "167cad35-c5a9-4ec7-8f62-ea8fd93c8eae",
              "widget_type": "Synapse.DataFrame"
            },
            "text/plain": "SynapseWidget(Synapse.DataFrame, 167cad35-c5a9-4ec7-8f62-ea8fd93c8eae)"
          },
          "metadata": {}
        }
      ],
      "execution_count": 42,
      "metadata": {
        "jupyter": {
          "source_hidden": false,
          "outputs_hidden": false
        },
        "nteract": {
          "transient": {
            "deleting": false
          }
        },
        "collapsed": false
      }
    },
    {
      "cell_type": "markdown",
      "source": [
        "### Note that Albuterol (respiratory inhaler) had one of the highest prespription counts between 2018-2021.  It was a common drug used to treat COVID-19 symptoms, such as breathing difficulties.  Let's try to find additional trends by looking a little closer at the top prescriptions in 2020."
      ],
      "metadata": {
        "nteract": {
          "transient": {
            "deleting": false
          }
        }
      }
    },
    {
      "cell_type": "code",
      "source": [
        "# top Rx by product - 2020\r\n",
        "\r\n",
        "display(spark.sql(\"select Product_Name, sum(Number_of_Prescriptions) \\\r\n",
        "    from tb1 \\\r\n",
        "    where Year = '2020' \\\r\n",
        "    and Product_Name <> 'UNKNOWN' \\\r\n",
        "    group by Product_Name \\\r\n",
        "    order by sum(Number_of_Prescriptions) desc\").limit(50))"
      ],
      "outputs": [
        {
          "output_type": "display_data",
          "data": {
            "application/vnd.livy.statement-meta+json": {
              "spark_pool": "SparkPool01",
              "session_id": 10,
              "statement_id": 18,
              "state": "finished",
              "livy_statement_state": "available",
              "queued_time": "2022-03-29T18:40:59.8572171Z",
              "session_start_time": null,
              "execution_start_time": "2022-03-29T18:40:59.954201Z",
              "execution_finish_time": "2022-03-29T18:41:02.725858Z"
            },
            "text/plain": "StatementMeta(SparkPool01, 10, 18, Finished, Available)"
          },
          "metadata": {}
        },
        {
          "output_type": "display_data",
          "data": {
            "application/vnd.synapse.widget-view+json": {
              "widget_id": "6f396b6f-d3a4-4fb5-9215-c826224e4e3d",
              "widget_type": "Synapse.DataFrame"
            },
            "text/plain": "SynapseWidget(Synapse.DataFrame, 6f396b6f-d3a4-4fb5-9215-c826224e4e3d)"
          },
          "metadata": {}
        }
      ],
      "execution_count": 43,
      "metadata": {
        "jupyter": {
          "source_hidden": false,
          "outputs_hidden": false
        },
        "nteract": {
          "transient": {
            "deleting": false
          }
        },
        "collapsed": false
      }
    },
    {
      "cell_type": "markdown",
      "source": [
        "### In addition to using Albuterol to treat common COVID-19 symptoms, Corticosteroids (e.g., Dexamethasone, Prednisone, Methylprednisolone, Hydrocortisone) were also used to control inflammation in severe cases*.  Let's look at these drug trends from 2018-2021.  "
      ],
      "metadata": {
        "nteract": {
          "transient": {
            "deleting": false
          }
        }
      }
    },
    {
      "cell_type": "code",
      "source": [
        "# top Rx by product by year (Albuterol + Corticosteroids) - 2018-2021\r\n",
        "\r\n",
        "# Methyprednisolone - Brand Names: A-Methapred, DEPO-Medrol, SOLU-Medrol. See https://www.drugs.com/mtm/methylprednisolone-injection.html\r\n",
        "# Hydrocortisone - Brand Names: Solu-CORTEF.  See https://www.drugs.com/mtm/solu-cortef-injection.html\r\n",
        "\r\n",
        "display(spark.sql(\"select Product_Name, Year, Quarter, sum(Number_of_Prescriptions) \\\r\n",
        "                   from tb1 \\\r\n",
        "                   where Product_Name LIKE 'ALBUTEROL%' \\\r\n",
        "                   OR \\\r\n",
        "                   Product_Name LIKE ('DEXAMETHA%') \\\r\n",
        "                   OR \\\r\n",
        "                   Product_Name LIKE ('PREDNISON%') \\\r\n",
        "                   OR \\\r\n",
        "                   Product_Name LIKE ('A-METHA%') \\\r\n",
        "                   OR \\\r\n",
        "                   Product_Name LIKE ('SOLU-MEDR%') \\\r\n",
        "                   OR \\\r\n",
        "                   Product_Name LIKE ('DEPO-MEDR%') \\\r\n",
        "                   OR \\\r\n",
        "                   Product_Name LIKE ('SOLU-CORTE%') \\\r\n",
        "                   group by Product_Name, Year, Quarter \\\r\n",
        "                   order by Year asc, Quarter asc, Product_Name asc, sum(Number_of_Prescriptions) desc\"))"
      ],
      "outputs": [
        {
          "output_type": "display_data",
          "data": {
            "application/vnd.livy.statement-meta+json": {
              "spark_pool": "SparkPool01",
              "session_id": 10,
              "statement_id": 101,
              "state": "finished",
              "livy_statement_state": "available",
              "queued_time": "2022-03-29T22:01:30.5327245Z",
              "session_start_time": null,
              "execution_start_time": "2022-03-29T22:01:30.6225642Z",
              "execution_finish_time": "2022-03-29T22:01:34.5127554Z"
            },
            "text/plain": "StatementMeta(SparkPool01, 10, 101, Finished, Available)"
          },
          "metadata": {}
        },
        {
          "output_type": "display_data",
          "data": {
            "application/vnd.synapse.widget-view+json": {
              "widget_id": "d7e803da-1bc9-4c3d-82bf-0a780b8a9796",
              "widget_type": "Synapse.DataFrame"
            },
            "text/plain": "SynapseWidget(Synapse.DataFrame, d7e803da-1bc9-4c3d-82bf-0a780b8a9796)"
          },
          "metadata": {}
        }
      ],
      "execution_count": 125,
      "metadata": {
        "jupyter": {
          "source_hidden": false,
          "outputs_hidden": false
        },
        "nteract": {
          "transient": {
            "deleting": false
          }
        },
        "collapsed": false
      }
    },
    {
      "cell_type": "markdown",
      "source": [
        "### Albuterol + Corticosteroid trends for 2020 only."
      ],
      "metadata": {
        "nteract": {
          "transient": {
            "deleting": false
          }
        }
      }
    },
    {
      "cell_type": "code",
      "source": [
        "# top Rx by product by year quarter (Albuterol + Corticosteroids) - 2020\r\n",
        "\r\n",
        "display(spark.sql(\"select Product_Name, Year, Quarter, sum(Number_of_Prescriptions) \\\r\n",
        "                  from tb1 \\\r\n",
        "                  where Year = '2020' \\\r\n",
        "                  and Product_Name LIKE ('ALBUTER%') \\\r\n",
        "                        OR \\\r\n",
        "                        Product_Name LIKE ('DEXAMETH%') \\\r\n",
        "                        OR \\\r\n",
        "                        Product_Name LIKE ('PREDNISON%') \\\r\n",
        "                        OR \\\r\n",
        "                        Product_Name LIKE ('A-METHA%') \\\r\n",
        "                        OR \\\r\n",
        "                        Product_Name LIKE ('SOLU-MEDR%') \\\r\n",
        "                        OR \\\r\n",
        "                        Product_Name LIKE ('DEPO-MEDR%') \\\r\n",
        "                        OR \\\r\n",
        "                        Product_Name LIKE ('SOLU-CORTE%') \\\r\n",
        "                  group by Product_Name, Year, Quarter \\\r\n",
        "                  order by Product_Name asc, sum(Number_of_Prescriptions) desc\"))"
      ],
      "outputs": [
        {
          "output_type": "display_data",
          "data": {
            "application/vnd.livy.statement-meta+json": {
              "spark_pool": "SparkPool01",
              "session_id": 10,
              "statement_id": 92,
              "state": "finished",
              "livy_statement_state": "available",
              "queued_time": "2022-03-29T21:49:09.9125121Z",
              "session_start_time": null,
              "execution_start_time": "2022-03-29T21:49:10.0050181Z",
              "execution_finish_time": "2022-03-29T21:49:13.9356388Z"
            },
            "text/plain": "StatementMeta(SparkPool01, 10, 92, Finished, Available)"
          },
          "metadata": {}
        },
        {
          "output_type": "display_data",
          "data": {
            "application/vnd.synapse.widget-view+json": {
              "widget_id": "7f3fa73a-cc1c-43b4-b0bf-e301773b87be",
              "widget_type": "Synapse.DataFrame"
            },
            "text/plain": "SynapseWidget(Synapse.DataFrame, 7f3fa73a-cc1c-43b4-b0bf-e301773b87be)"
          },
          "metadata": {}
        }
      ],
      "execution_count": 116,
      "metadata": {
        "jupyter": {
          "source_hidden": false,
          "outputs_hidden": false
        },
        "nteract": {
          "transient": {
            "deleting": false
          }
        },
        "collapsed": false
      }
    },
    {
      "cell_type": "markdown",
      "source": [
        "## Pre-process the data"
      ],
      "metadata": {
        "nteract": {
          "transient": {
            "deleting": false
          }
        }
      }
    },
    {
      "cell_type": "markdown",
      "source": [
        "### We've noted some interesting Rx trends among Albuterol + Corticosteroid drugs throughout 2020.   Note the drop in Albuterol Rx from Q1 to Q4.  Prednisone was also more widely prescribed vs other Corticosteroids.  We will consolidate these product groups for cleaner reporting."
      ],
      "metadata": {
        "nteract": {
          "transient": {
            "deleting": false
          }
        }
      }
    },
    {
      "cell_type": "code",
      "source": [
        "# check for similar Corticosteroid Product_Names\r\n",
        "\r\n",
        "display(spark.sql(\"select DISTINCT Product_Name, NDC \\\r\n",
        "                    from tb1 \\\r\n",
        "                    where Product_Name LIKE ('ALBUTER%') \\\r\n",
        "                        OR \\\r\n",
        "                        Product_Name LIKE ('DEXAMETHA%') \\\r\n",
        "                        OR \\\r\n",
        "                        Product_Name LIKE ('PREDNISON%') \\\r\n",
        "                        OR \\\r\n",
        "                        Product_Name LIKE ('A-METHA%') \\\r\n",
        "                        OR \\\r\n",
        "                        Product_Name LIKE ('SOLU-MEDR%') \\\r\n",
        "                        OR \\\r\n",
        "                        Product_Name LIKE ('DEPO-MEDR%') \\\r\n",
        "                        OR \\\r\n",
        "                        Product_Name LIKE ('SOLU-CORTE%') \\\r\n",
        "                    order by Product_Name asc\" ))"
      ],
      "outputs": [
        {
          "output_type": "display_data",
          "data": {
            "application/vnd.livy.statement-meta+json": {
              "spark_pool": "SparkPool01",
              "session_id": 10,
              "statement_id": 93,
              "state": "finished",
              "livy_statement_state": "available",
              "queued_time": "2022-03-29T21:50:26.3248739Z",
              "session_start_time": null,
              "execution_start_time": "2022-03-29T21:50:26.4767196Z",
              "execution_finish_time": "2022-03-29T21:50:30.3736512Z"
            },
            "text/plain": "StatementMeta(SparkPool01, 10, 93, Finished, Available)"
          },
          "metadata": {}
        },
        {
          "output_type": "display_data",
          "data": {
            "application/vnd.synapse.widget-view+json": {
              "widget_id": "0c7a8226-b67b-4741-8c64-e78fd2710c3f",
              "widget_type": "Synapse.DataFrame"
            },
            "text/plain": "SynapseWidget(Synapse.DataFrame, 0c7a8226-b67b-4741-8c64-e78fd2710c3f)"
          },
          "metadata": {}
        }
      ],
      "execution_count": 117,
      "metadata": {
        "jupyter": {
          "source_hidden": false,
          "outputs_hidden": false
        },
        "nteract": {
          "transient": {
            "deleting": false
          }
        },
        "collapsed": false
      }
    },
    {
      "cell_type": "markdown",
      "source": [
        "### Consolidate Product Names"
      ],
      "metadata": {
        "nteract": {
          "transient": {
            "deleting": false
          }
        }
      }
    },
    {
      "cell_type": "code",
      "source": [
        "# write spark table out as dataframe and consolidate Product_Name\r\n",
        "\r\n",
        "from pyspark.sql.functions import when\r\n",
        "\r\n",
        "df2 = spark.read.table(\"tb1\")\r\n",
        "\r\n",
        "df3 = df2.withColumn('Product_Name', \r\n",
        "      when(df2.Product_Name.startswith(\"DEXAMETHA\"), \"DEXAMETHASONE\") \\\r\n",
        "      .when(df2.Product_Name.startswith(\"PREDNISON\"), \"PREDNISONE\") \\\r\n",
        "      .when(df2.Product_Name == \"A-METHAPRED\", \"METHYLPREDNISOLONE\") \\\r\n",
        "      .when(df2.Product_Name == \"DEPO-MEDRO\", \"METHYLPREDNISOLONE\") \\\r\n",
        "      .when(df2.Product_Name == \"SOLU-MEDRO\", \"METHYLPREDNISOLONE\") \\\r\n",
        "      .when(df2.Product_Name == \"SOLU-CORTE\", \"HYDROCORTISONE\") \\\r\n",
        "      .otherwise(df2.Product_Name))\r\n",
        "\r\n",
        "#display(df3)\r\n"
      ],
      "outputs": [
        {
          "output_type": "display_data",
          "data": {
            "application/vnd.livy.statement-meta+json": {
              "spark_pool": "SparkPool01",
              "session_id": 10,
              "statement_id": 128,
              "state": "finished",
              "livy_statement_state": "available",
              "queued_time": "2022-03-29T23:04:41.7034652Z",
              "session_start_time": null,
              "execution_start_time": "2022-03-29T23:04:41.796676Z",
              "execution_finish_time": "2022-03-29T23:04:42.0084912Z"
            },
            "text/plain": "StatementMeta(SparkPool01, 10, 128, Finished, Available)"
          },
          "metadata": {}
        }
      ],
      "execution_count": 152,
      "metadata": {
        "jupyter": {
          "source_hidden": false,
          "outputs_hidden": false
        },
        "nteract": {
          "transient": {
            "deleting": false
          }
        },
        "collapsed": false
      }
    },
    {
      "cell_type": "code",
      "source": [
        "# write back as Spark table\r\n",
        "\r\n",
        "\r\n",
        "df3.write.saveAsTable(\"tb2\")"
      ],
      "outputs": [
        {
          "output_type": "display_data",
          "data": {
            "application/vnd.livy.statement-meta+json": {
              "spark_pool": "SparkPool01",
              "session_id": 10,
              "statement_id": 131,
              "state": "finished",
              "livy_statement_state": "available",
              "queued_time": "2022-03-29T23:04:54.8926451Z",
              "session_start_time": null,
              "execution_start_time": "2022-03-29T23:04:54.9814637Z",
              "execution_finish_time": "2022-03-29T23:05:06.1599758Z"
            },
            "text/plain": "StatementMeta(SparkPool01, 10, 131, Finished, Available)"
          },
          "metadata": {}
        }
      ],
      "execution_count": 155,
      "metadata": {
        "jupyter": {
          "source_hidden": false,
          "outputs_hidden": false
        },
        "nteract": {
          "transient": {
            "deleting": false
          }
        }
      }
    },
    {
      "cell_type": "code",
      "source": [
        "# view after operation\r\n",
        "\r\n",
        "display(spark.sql(\"select DISTINCT Product_Name \\\r\n",
        "                   from tb2 \\\r\n",
        "                   where Product_Name =='ALBUTEROL' \\\r\n",
        "                         OR \\\r\n",
        "                         Product_Name =='DEXAMETHASONE' \\\r\n",
        "                         OR \\\r\n",
        "                         Product_Name == 'PREDNISONE' \\\r\n",
        "                         OR \\\r\n",
        "                         Product_Name == 'METHYLPREDNISOLONE' \\\r\n",
        "                         OR \\\r\n",
        "                         Product_Name == 'HYDROCORTISONE' \\\r\n",
        "                    order by Product_Name asc\" ))"
      ],
      "outputs": [
        {
          "output_type": "display_data",
          "data": {
            "application/vnd.livy.statement-meta+json": {
              "spark_pool": "SparkPool01",
              "session_id": 10,
              "statement_id": 132,
              "state": "finished",
              "livy_statement_state": "available",
              "queued_time": "2022-03-29T23:04:57.6337286Z",
              "session_start_time": null,
              "execution_start_time": "2022-03-29T23:05:06.2518618Z",
              "execution_finish_time": "2022-03-29T23:05:08.1733505Z"
            },
            "text/plain": "StatementMeta(SparkPool01, 10, 132, Finished, Available)"
          },
          "metadata": {}
        },
        {
          "output_type": "display_data",
          "data": {
            "application/vnd.synapse.widget-view+json": {
              "widget_id": "63afa080-684c-4b49-bdb0-7ca249691523",
              "widget_type": "Synapse.DataFrame"
            },
            "text/plain": "SynapseWidget(Synapse.DataFrame, 63afa080-684c-4b49-bdb0-7ca249691523)"
          },
          "metadata": {}
        }
      ],
      "execution_count": 156,
      "metadata": {
        "jupyter": {
          "source_hidden": false,
          "outputs_hidden": false
        },
        "nteract": {
          "transient": {
            "deleting": false
          }
        },
        "collapsed": false
      }
    },
    {
      "cell_type": "markdown",
      "source": [
        "### Re-run query (Albuterol + Corticosteroid trends for 2020 only.)"
      ],
      "metadata": {
        "nteract": {
          "transient": {
            "deleting": false
          }
        }
      }
    },
    {
      "cell_type": "code",
      "source": [
        "# run query again\r\n",
        "\r\n",
        "display(spark.sql(\"select Product_Name, Year, Quarter, sum(Number_of_Prescriptions) \\\r\n",
        "                   from tb2 \\\r\n",
        "                   where Year = '2020' \\\r\n",
        "                   and Product_Name =='ALBUTEROL' \\\r\n",
        "                         OR \\\r\n",
        "                         Product_Name =='DEXAMETHASONE' \\\r\n",
        "                         OR \\\r\n",
        "                         Product_Name == 'PREDNISONE' \\\r\n",
        "                         OR \\\r\n",
        "                         Product_Name == 'METHYLPREDNISOLONE' \\\r\n",
        "                         OR \\\r\n",
        "                         Product_Name == 'HYDROCORTISONE' \\\r\n",
        "                   group by Product_Name, Year, Quarter \\\r\n",
        "                   order by Product_Name asc, sum(Number_of_Prescriptions) desc\"))"
      ],
      "outputs": [
        {
          "output_type": "display_data",
          "data": {
            "application/vnd.livy.statement-meta+json": {
              "spark_pool": "SparkPool01",
              "session_id": 10,
              "statement_id": 134,
              "state": "finished",
              "livy_statement_state": "available",
              "queued_time": "2022-03-29T23:06:28.9970099Z",
              "session_start_time": null,
              "execution_start_time": "2022-03-29T23:06:29.0979399Z",
              "execution_finish_time": "2022-03-29T23:06:31.8825792Z"
            },
            "text/plain": "StatementMeta(SparkPool01, 10, 134, Finished, Available)"
          },
          "metadata": {}
        },
        {
          "output_type": "display_data",
          "data": {
            "application/vnd.synapse.widget-view+json": {
              "widget_id": "bfd2c05e-6aec-4f67-b9f7-da3725c52f41",
              "widget_type": "Synapse.DataFrame"
            },
            "text/plain": "SynapseWidget(Synapse.DataFrame, bfd2c05e-6aec-4f67-b9f7-da3725c52f41)"
          },
          "metadata": {}
        }
      ],
      "execution_count": 158,
      "metadata": {
        "jupyter": {
          "source_hidden": false,
          "outputs_hidden": false
        },
        "nteract": {
          "transient": {
            "deleting": false
          }
        },
        "collapsed": false
      }
    },
    {
      "cell_type": "code",
      "source": [
        "# save to ADLS2 as parquet\r\n",
        "\r\n",
        "df_all_mod.write.parquet(f\"abfss://{container_name}@{storage_account_name}.dfs.core.windows.net/SDUD/State_Drug_Utilization_Data_All.parquet\")"
      ],
      "outputs": [
        {
          "output_type": "display_data",
          "data": {
            "application/vnd.livy.statement-meta+json": {
              "spark_pool": null,
              "session_id": null,
              "statement_id": null,
              "state": "cancelled",
              "livy_statement_state": null,
              "queued_time": "2022-03-29T15:55:44.0644126Z",
              "session_start_time": null,
              "execution_start_time": null,
              "execution_finish_time": "2022-03-29T15:56:51.3085639Z"
            },
            "text/plain": "StatementMeta(, , , Cancelled, )"
          },
          "metadata": {}
        }
      ],
      "execution_count": null,
      "metadata": {
        "jupyter": {
          "source_hidden": false,
          "outputs_hidden": false
        },
        "nteract": {
          "transient": {
            "deleting": false
          }
        }
      }
    },
    {
      "cell_type": "markdown",
      "source": [
        "## Write Spark dataframe into SQL Pool table"
      ],
      "metadata": {
        "nteract": {
          "transient": {
            "deleting": false
          }
        }
      }
    },
    {
      "cell_type": "code",
      "source": [
        "%%spark\r\n",
        "//create Scala dataframe - use %%spark magic command\r\n",
        "\r\n",
        "val df_scala = spark.sql(\"SELECT * FROM tb2\")"
      ],
      "outputs": [
        {
          "output_type": "display_data",
          "data": {
            "application/vnd.livy.statement-meta+json": {
              "spark_pool": "SparkPool01",
              "session_id": 10,
              "statement_id": 76,
              "state": "finished",
              "livy_statement_state": "available",
              "queued_time": "2022-03-29T21:24:27.2761238Z",
              "session_start_time": null,
              "execution_start_time": "2022-03-29T21:24:29.4135637Z",
              "execution_finish_time": "2022-03-29T21:24:29.9357711Z"
            },
            "text/plain": "StatementMeta(SparkPool01, 10, 76, Finished, Available)"
          },
          "metadata": {}
        },
        {
          "output_type": "stream",
          "name": "stdout",
          "text": [
            "df_all_scala: org.apache.spark.sql.DataFrame = [Utilization_Type: string, State: string ... 18 more fields]\n"
          ]
        }
      ],
      "execution_count": 100,
      "metadata": {
        "jupyter": {
          "source_hidden": false,
          "outputs_hidden": false
        },
        "nteract": {
          "transient": {
            "deleting": false
          }
        },
        "microsoft": {
          "language": "scala"
        }
      }
    },
    {
      "cell_type": "code",
      "source": [
        "%%spark\r\n",
        "// write the dataframe into sql pool \r\n",
        "\r\n",
        "import org.apache.spark.sql.SqlAnalyticsConnector._\r\n",
        "import com.microsoft.spark.sqlanalytics.utils.Constants\r\n",
        "\r\n",
        "val sql_pool_name = \"SQLPool01\"\r\n",
        "\r\n",
        "df_scala.write.sqlanalytics(s\"$sql_pool_name.dbo.mergeSDUD\", Constants.INTERNAL)\r\n"
      ],
      "outputs": [
        {
          "output_type": "display_data",
          "data": {
            "application/vnd.livy.statement-meta+json": {
              "spark_pool": null,
              "session_id": null,
              "statement_id": null,
              "state": "cancelled",
              "livy_statement_state": null,
              "queued_time": "2022-03-29T15:55:44.7893419Z",
              "session_start_time": null,
              "execution_start_time": null,
              "execution_finish_time": "2022-03-29T15:56:51.3111297Z"
            },
            "text/plain": "StatementMeta(, , , Cancelled, )"
          },
          "metadata": {}
        }
      ],
      "execution_count": null,
      "metadata": {
        "jupyter": {
          "source_hidden": false,
          "outputs_hidden": false
        },
        "nteract": {
          "transient": {
            "deleting": false
          }
        },
        "microsoft": {
          "language": "scala"
        }
      }
    }
  ],
  "metadata": {
    "kernelspec": {
      "name": "synapse_pyspark",
      "language": "Python",
      "display_name": "Synapse PySpark"
    },
    "language_info": {
      "name": "python"
    },
    "kernel_info": {
      "name": "synapse_pyspark"
    },
    "description": null,
    "save_output": true,
    "synapse_widget": {
      "version": "0.1",
      "state": {
        "167cad35-c5a9-4ec7-8f62-ea8fd93c8eae": {
          "type": "Synapse.DataFrame",
          "sync_state": {
            "table": {
              "rows": [
                {
                  "0": "AMOXICILLI",
                  "1": "57267835"
                },
                {
                  "0": "ALBUTEROL",
                  "1": "54169496"
                },
                {
                  "0": "ATORVASTAT",
                  "1": "52009414"
                },
                {
                  "0": "IBUPROFEN",
                  "1": "51681145"
                },
                {
                  "0": "LISINOPRIL",
                  "1": "51039043"
                },
                {
                  "0": "GABAPENTIN",
                  "1": "50036819"
                },
                {
                  "0": "METFORMIN",
                  "1": "42848501"
                },
                {
                  "0": "CETIRIZINE",
                  "1": "41119634"
                },
                {
                  "0": "OMEPRAZOLE",
                  "1": "39461324"
                },
                {
                  "0": "FLUTICASON",
                  "1": "38983854"
                },
                {
                  "0": "AMLODIPINE",
                  "1": "35787307"
                },
                {
                  "0": "LEVOTHYROX",
                  "1": "35081686"
                },
                {
                  "0": "SERTRALINE",
                  "1": "34195149"
                },
                {
                  "0": "LORATADINE",
                  "1": "34038914"
                },
                {
                  "0": "MONTELUKAS",
                  "1": "32566074"
                },
                {
                  "0": "ONDANSETRO",
                  "1": "30394499"
                },
                {
                  "0": "HYDROCODON",
                  "1": "29340820"
                },
                {
                  "0": "METOPROLOL",
                  "1": "29017848"
                },
                {
                  "0": "TRAZODONE",
                  "1": "28786547"
                },
                {
                  "0": "HYDROXYZIN",
                  "1": "25743253"
                },
                {
                  "0": "FLUOXETINE",
                  "1": "25147581"
                },
                {
                  "0": "VITAMIN D2",
                  "1": "24698812"
                },
                {
                  "0": "BUPROPION",
                  "1": "23278040"
                },
                {
                  "0": "CLONIDINE",
                  "1": "23067004"
                },
                {
                  "0": "QUETIAPINE",
                  "1": "22970866"
                }
              ],
              "schema": [
                {
                  "key": "0",
                  "name": "Product_Name",
                  "type": "string"
                },
                {
                  "key": "1",
                  "name": "sum(Number_of_Prescriptions)",
                  "type": "bigint"
                }
              ],
              "truncated": false
            },
            "isSummary": false,
            "language": "scala"
          },
          "persist_state": {
            "view": {
              "type": "details",
              "tableOptions": {},
              "chartOptions": {
                "chartType": "bar",
                "aggregationType": "sum",
                "categoryFieldKeys": [
                  "0"
                ],
                "seriesFieldKeys": [
                  "1"
                ],
                "isStacked": false
              }
            }
          }
        },
        "6f396b6f-d3a4-4fb5-9215-c826224e4e3d": {
          "type": "Synapse.DataFrame",
          "sync_state": {
            "table": {
              "rows": [
                {
                  "0": "ALBUTEROL",
                  "1": "27251355"
                },
                {
                  "0": "ATORVASTAT",
                  "1": "24254649"
                },
                {
                  "0": "GABAPENTIN",
                  "1": "22583689"
                },
                {
                  "0": "LISINOPRIL",
                  "1": "22506350"
                },
                {
                  "0": "IBUPROFEN",
                  "1": "21931918"
                },
                {
                  "0": "AMOXICILLI",
                  "1": "21572583"
                },
                {
                  "0": "METFORMIN",
                  "1": "19505024"
                },
                {
                  "0": "OMEPRAZOLE",
                  "1": "18869076"
                },
                {
                  "0": "CETIRIZINE",
                  "1": "18553505"
                },
                {
                  "0": "FLUTICASON",
                  "1": "18157354"
                },
                {
                  "0": "AMLODIPINE",
                  "1": "16208324"
                },
                {
                  "0": "SERTRALINE",
                  "1": "16017703"
                },
                {
                  "0": "LORATADINE",
                  "1": "15465804"
                },
                {
                  "0": "LEVOTHYROX",
                  "1": "14730370"
                },
                {
                  "0": "MONTELUKAS",
                  "1": "14422674"
                },
                {
                  "0": "TRAZODONE",
                  "1": "13777741"
                },
                {
                  "0": "ONDANSETRO",
                  "1": "12780755"
                },
                {
                  "0": "METOPROLOL",
                  "1": "12629853"
                },
                {
                  "0": "HYDROCODON",
                  "1": "12446802"
                },
                {
                  "0": "HYDROXYZIN",
                  "1": "12375109"
                },
                {
                  "0": "VITAMIN D2",
                  "1": "11867001"
                },
                {
                  "0": "FLUOXETINE",
                  "1": "11456985"
                },
                {
                  "0": "CLONIDINE",
                  "1": "10715906"
                },
                {
                  "0": "QUETIAPINE",
                  "1": "10128397"
                },
                {
                  "0": "BUPROPION",
                  "1": "10113719"
                },
                {
                  "0": "ESCITALOPR",
                  "1": "9906819"
                },
                {
                  "0": "PREDNISONE",
                  "1": "8992955"
                },
                {
                  "0": "PANTOPRAZO",
                  "1": "8745881"
                },
                {
                  "0": "HYDROCHLOR",
                  "1": "8706465"
                },
                {
                  "0": "CYCLOBENZA",
                  "1": "8494088"
                },
                {
                  "0": "AZITHROMYC",
                  "1": "8338992"
                },
                {
                  "0": "TRIAMCINOL",
                  "1": "7715965"
                },
                {
                  "0": "DEXTROAMPH",
                  "1": "7579061"
                },
                {
                  "0": "BUPRENORPH",
                  "1": "7534230"
                },
                {
                  "0": "DULOXETINE",
                  "1": "7293709"
                },
                {
                  "0": "FAMOTIDINE",
                  "1": "7211142"
                },
                {
                  "0": "BUSPIRONE",
                  "1": "7117918"
                },
                {
                  "0": "ALPRAZOLAM",
                  "1": "6980319"
                },
                {
                  "0": "CLONAZEPAM",
                  "1": "6961087"
                },
                {
                  "0": "PROAIR HFA",
                  "1": "6919612"
                },
                {
                  "0": "FUROSEMIDE",
                  "1": "6901266"
                },
                {
                  "0": "ARIPIPRAZO",
                  "1": "6775349"
                },
                {
                  "0": "LOSARTAN P",
                  "1": "6682674"
                },
                {
                  "0": "LAMOTRIGIN",
                  "1": "6599790"
                },
                {
                  "0": "METHYLPHEN",
                  "1": "6481349"
                },
                {
                  "0": "CEPHALEXIN",
                  "1": "6418340"
                },
                {
                  "0": "FOLIC ACID",
                  "1": "6320057"
                },
                {
                  "0": "RISPERIDON",
                  "1": "6176066"
                },
                {
                  "0": "CITALOPRAM",
                  "1": "6173095"
                },
                {
                  "0": "GUANFACINE",
                  "1": "6171980"
                }
              ],
              "schema": [
                {
                  "key": "0",
                  "name": "Product_Name",
                  "type": "string"
                },
                {
                  "key": "1",
                  "name": "sum(Number_of_Prescriptions)",
                  "type": "bigint"
                }
              ],
              "truncated": false
            },
            "isSummary": false,
            "language": "scala"
          },
          "persist_state": {
            "view": {
              "type": "details",
              "tableOptions": {},
              "chartOptions": {
                "chartType": "bar",
                "aggregationType": "sum",
                "categoryFieldKeys": [
                  "0"
                ],
                "seriesFieldKeys": [
                  "1"
                ],
                "isStacked": false
              }
            }
          }
        },
        "260e77e6-310b-49a7-8eda-f8a110133285": {
          "type": "Synapse.DataFrame",
          "sync_state": {
            "table": {
              "rows": [
                {
                  "0": "FFSU",
                  "1": "XX",
                  "2": "30698",
                  "3": "144",
                  "4": "1",
                  "5": "2018",
                  "6": "2",
                  "7": "ROCALTROL",
                  "8": "true",
                  "14": "4/1",
                  "15": "04/01/2018 12:00:00 AM",
                  "19": "30698014401"
                },
                {
                  "0": "MCOU",
                  "1": "XX",
                  "2": "60505",
                  "3": "749",
                  "4": "4",
                  "5": "2018",
                  "6": "1",
                  "7": "CEFAZOLIN",
                  "8": "false",
                  "9": "2,978.5",
                  "10": "173",
                  "11": "4,180.52",
                  "12": "2,847.88",
                  "13": "1,332.64",
                  "14": "1/1",
                  "15": "01/01/2018 12:00:00 AM",
                  "19": "60505074904"
                },
                {
                  "0": "MCOU",
                  "1": "XX",
                  "2": "68180",
                  "3": "414",
                  "4": "6",
                  "5": "2018",
                  "6": "4",
                  "7": "IRBESARTAN",
                  "8": "false",
                  "9": "4,996",
                  "10": "158",
                  "11": "2,818.64",
                  "12": "2,801.64",
                  "13": "17",
                  "14": "10/1",
                  "15": "10/01/2018 12:00:00 AM",
                  "19": "68180041406"
                },
                {
                  "0": "MCOU",
                  "1": "XX",
                  "2": "536",
                  "3": "1099",
                  "4": "94",
                  "5": "2018",
                  "6": "4",
                  "7": "LUBRICATIN",
                  "8": "false",
                  "9": "11,605",
                  "10": "740",
                  "11": "5,870.12",
                  "12": "5,850.87",
                  "13": "19.25",
                  "14": "10/1",
                  "15": "10/01/2018 12:00:00 AM",
                  "19": "536109994"
                },
                {
                  "0": "MCOU",
                  "1": "MN",
                  "2": "11994",
                  "3": "11",
                  "4": "4",
                  "5": "2018",
                  "6": "1",
                  "7": "DEFINITY",
                  "8": "false",
                  "9": "122",
                  "10": "91",
                  "11": "9,074.11",
                  "12": "8,669.18",
                  "13": "404.93",
                  "14": "1/1",
                  "15": "01/01/2018 12:00:00 AM",
                  "16": "43.3504",
                  "17": "-84.5603",
                  "18": "(43.3504, -84.5603)",
                  "19": "11994001104"
                },
                {
                  "0": "FFSU",
                  "1": "XX",
                  "2": "60758",
                  "3": "60",
                  "4": "15",
                  "5": "2018",
                  "6": "1",
                  "7": "LEVOBUNOLO",
                  "8": "true",
                  "14": "1/1",
                  "15": "01/01/2018 12:00:00 AM",
                  "19": "60758006015"
                },
                {
                  "0": "FFSU",
                  "1": "XX",
                  "2": "54458",
                  "3": "926",
                  "4": "10",
                  "5": "2018",
                  "6": "2",
                  "7": "PRAVASTATI",
                  "8": "true",
                  "14": "4/1",
                  "15": "04/01/2018 12:00:00 AM",
                  "19": "54458092610"
                },
                {
                  "0": "MCOU",
                  "1": "XX",
                  "2": "13668",
                  "3": "190",
                  "4": "5",
                  "5": "2018",
                  "6": "1",
                  "7": "TOLTERODIN",
                  "8": "false",
                  "9": "9,032",
                  "10": "284",
                  "11": "34,879.31",
                  "12": "34,879.31",
                  "13": "0",
                  "14": "1/1",
                  "15": "01/01/2018 12:00:00 AM",
                  "19": "13668019005"
                },
                {
                  "0": "MCOU",
                  "1": "XX",
                  "2": "68682",
                  "3": "102",
                  "4": "30",
                  "5": "2018",
                  "6": "4",
                  "7": "OMEPRAZOLE",
                  "8": "false",
                  "9": "1,958",
                  "10": "56",
                  "11": "27,075.76",
                  "12": "27,075.76",
                  "13": "0",
                  "14": "10/1",
                  "15": "10/01/2018 12:00:00 AM",
                  "19": "68682010230"
                },
                {
                  "0": "FFSU",
                  "1": "XX",
                  "2": "58657",
                  "3": "111",
                  "4": "60",
                  "5": "2018",
                  "6": "4",
                  "7": "FOCALGIN C",
                  "8": "true",
                  "14": "10/1",
                  "15": "10/01/2018 12:00:00 AM",
                  "19": "58657011160"
                }
              ],
              "schema": [
                {
                  "key": "0",
                  "name": "Utilization Type",
                  "type": "string"
                },
                {
                  "key": "1",
                  "name": "State",
                  "type": "string"
                },
                {
                  "key": "2",
                  "name": "Labeler Code",
                  "type": "int"
                },
                {
                  "key": "3",
                  "name": "Product Code",
                  "type": "int"
                },
                {
                  "key": "4",
                  "name": "Package Size",
                  "type": "int"
                },
                {
                  "key": "5",
                  "name": "Year",
                  "type": "int"
                },
                {
                  "key": "6",
                  "name": "Quarter",
                  "type": "int"
                },
                {
                  "key": "7",
                  "name": "Product Name",
                  "type": "string"
                },
                {
                  "key": "8",
                  "name": "Suppression Used",
                  "type": "boolean"
                },
                {
                  "key": "9",
                  "name": "Units Reimbursed",
                  "type": "string"
                },
                {
                  "key": "10",
                  "name": "Number of Prescriptions",
                  "type": "string"
                },
                {
                  "key": "11",
                  "name": "Total Amount Reimbursed",
                  "type": "string"
                },
                {
                  "key": "12",
                  "name": "Medicaid Amount Reimbursed",
                  "type": "string"
                },
                {
                  "key": "13",
                  "name": "Non Medicaid Amount Reimbursed",
                  "type": "string"
                },
                {
                  "key": "14",
                  "name": "Quarter Begin",
                  "type": "string"
                },
                {
                  "key": "15",
                  "name": "Quarter Begin Date",
                  "type": "string"
                },
                {
                  "key": "16",
                  "name": "Latitude",
                  "type": "double"
                },
                {
                  "key": "17",
                  "name": "Longitude",
                  "type": "double"
                },
                {
                  "key": "18",
                  "name": "Location",
                  "type": "string"
                },
                {
                  "key": "19",
                  "name": "NDC",
                  "type": "bigint"
                }
              ],
              "truncated": false
            },
            "isSummary": false,
            "language": "scala"
          },
          "persist_state": {
            "view": {
              "type": "details",
              "tableOptions": {},
              "chartOptions": {
                "chartType": "bar",
                "aggregationType": "sum",
                "categoryFieldKeys": [
                  "0"
                ],
                "seriesFieldKeys": [
                  "2"
                ],
                "isStacked": false
              }
            }
          }
        },
        "7f3fa73a-cc1c-43b4-b0bf-e301773b87be": {
          "type": "Synapse.DataFrame",
          "sync_state": {
            "table": {
              "rows": [
                {
                  "0": "A-METHAPRE",
                  "1": "2019",
                  "2": "2",
                  "3": "46"
                },
                {
                  "0": "A-METHAPRE",
                  "1": "2020",
                  "2": "2",
                  "3": "33"
                },
                {
                  "0": "A-METHAPRE",
                  "1": "2019",
                  "2": "3",
                  "3": "32"
                },
                {
                  "0": "A-METHAPRE",
                  "1": "2019",
                  "2": "1",
                  "3": "30"
                },
                {
                  "0": "A-METHAPRE",
                  "1": "2020",
                  "2": "1",
                  "3": "26"
                },
                {
                  "0": "A-METHAPRE",
                  "1": "2018",
                  "2": "2",
                  "3": "21"
                },
                {
                  "0": "A-METHAPRE",
                  "1": "2018",
                  "2": "1",
                  "3": "18"
                },
                {
                  "0": "A-METHAPRE",
                  "1": "2018",
                  "2": "3",
                  "3": "17"
                },
                {
                  "0": "A-METHAPRE",
                  "1": "2018",
                  "2": "4",
                  "3": "14"
                },
                {
                  "0": "A-METHAPRE",
                  "1": "2021",
                  "2": "1"
                },
                {
                  "0": "A-METHAPRE",
                  "1": "2020",
                  "2": "4"
                },
                {
                  "0": "A-METHAPRE",
                  "1": "2020",
                  "2": "3"
                },
                {
                  "0": "A-METHAPRE",
                  "1": "2019",
                  "2": "4"
                },
                {
                  "0": "ALBUTEROL",
                  "1": "2020",
                  "2": "1",
                  "3": "8198970"
                },
                {
                  "0": "ALBUTEROL",
                  "1": "2020",
                  "2": "3",
                  "3": "6855125"
                },
                {
                  "0": "ALBUTEROL",
                  "1": "2020",
                  "2": "2",
                  "3": "6403596"
                },
                {
                  "0": "ALBUTEROL",
                  "1": "2020",
                  "2": "4",
                  "3": "5793664"
                },
                {
                  "0": "DEPO-MEDRO",
                  "1": "2019",
                  "2": "2",
                  "3": "360958"
                },
                {
                  "0": "DEPO-MEDRO",
                  "1": "2019",
                  "2": "3",
                  "3": "356570"
                },
                {
                  "0": "DEPO-MEDRO",
                  "1": "2019",
                  "2": "1",
                  "3": "348480"
                },
                {
                  "0": "DEPO-MEDRO",
                  "1": "2019",
                  "2": "4",
                  "3": "323039"
                },
                {
                  "0": "DEPO-MEDRO",
                  "1": "2020",
                  "2": "1",
                  "3": "277494"
                },
                {
                  "0": "DEPO-MEDRO",
                  "1": "2020",
                  "2": "3",
                  "3": "277153"
                },
                {
                  "0": "DEPO-MEDRO",
                  "1": "2020",
                  "2": "2",
                  "3": "214740"
                },
                {
                  "0": "DEPO-MEDRO",
                  "1": "2020",
                  "2": "4",
                  "3": "213435"
                },
                {
                  "0": "DEPO-MEDRO",
                  "1": "2018",
                  "2": "2",
                  "3": "112990"
                },
                {
                  "0": "DEPO-MEDRO",
                  "1": "2018",
                  "2": "1",
                  "3": "112111"
                },
                {
                  "0": "DEPO-MEDRO",
                  "1": "2018",
                  "2": "4",
                  "3": "111028"
                },
                {
                  "0": "DEPO-MEDRO",
                  "1": "2018",
                  "2": "3",
                  "3": "109580"
                },
                {
                  "0": "DEPO-MEDRO",
                  "1": "2021",
                  "2": "1",
                  "3": "17134"
                },
                {
                  "0": "DEXAMETHA",
                  "1": "2019",
                  "2": "1",
                  "3": "56200"
                },
                {
                  "0": "DEXAMETHA",
                  "1": "2019",
                  "2": "4",
                  "3": "55059"
                },
                {
                  "0": "DEXAMETHA",
                  "1": "2020",
                  "2": "1",
                  "3": "54894"
                },
                {
                  "0": "DEXAMETHA",
                  "1": "2019",
                  "2": "2",
                  "3": "51789"
                },
                {
                  "0": "DEXAMETHA",
                  "1": "2020",
                  "2": "4",
                  "3": "50267"
                },
                {
                  "0": "DEXAMETHA",
                  "1": "2020",
                  "2": "3",
                  "3": "48095"
                },
                {
                  "0": "DEXAMETHA",
                  "1": "2019",
                  "2": "3",
                  "3": "46882"
                },
                {
                  "0": "DEXAMETHA",
                  "1": "2020",
                  "2": "2",
                  "3": "32398"
                },
                {
                  "0": "DEXAMETHA",
                  "1": "2018",
                  "2": "4",
                  "3": "29545"
                },
                {
                  "0": "DEXAMETHA",
                  "1": "2018",
                  "2": "1",
                  "3": "27057"
                },
                {
                  "0": "DEXAMETHA",
                  "1": "2018",
                  "2": "2",
                  "3": "25723"
                },
                {
                  "0": "DEXAMETHA",
                  "1": "2018",
                  "2": "3",
                  "3": "25302"
                },
                {
                  "0": "DEXAMETHA",
                  "1": "2021",
                  "2": "1",
                  "3": "259"
                },
                {
                  "0": "DEXAMETHAS",
                  "1": "2019",
                  "2": "4",
                  "3": "1019853"
                },
                {
                  "0": "DEXAMETHAS",
                  "1": "2019",
                  "2": "1",
                  "3": "918380"
                },
                {
                  "0": "DEXAMETHAS",
                  "1": "2019",
                  "2": "3",
                  "3": "916711"
                },
                {
                  "0": "DEXAMETHAS",
                  "1": "2019",
                  "2": "2",
                  "3": "910602"
                },
                {
                  "0": "DEXAMETHAS",
                  "1": "2020",
                  "2": "1",
                  "3": "909401"
                },
                {
                  "0": "DEXAMETHAS",
                  "1": "2020",
                  "2": "3",
                  "3": "753673"
                },
                {
                  "0": "DEXAMETHAS",
                  "1": "2020",
                  "2": "4",
                  "3": "667924"
                },
                {
                  "0": "DEXAMETHAS",
                  "1": "2020",
                  "2": "2",
                  "3": "585521"
                },
                {
                  "0": "DEXAMETHAS",
                  "1": "2018",
                  "2": "4",
                  "3": "231486"
                },
                {
                  "0": "DEXAMETHAS",
                  "1": "2018",
                  "2": "3",
                  "3": "213688"
                },
                {
                  "0": "DEXAMETHAS",
                  "1": "2018",
                  "2": "1",
                  "3": "213056"
                },
                {
                  "0": "DEXAMETHAS",
                  "1": "2018",
                  "2": "2",
                  "3": "209964"
                },
                {
                  "0": "DEXAMETHAS",
                  "1": "2021",
                  "2": "1",
                  "3": "49151"
                },
                {
                  "0": "PREDNISON",
                  "1": "2019",
                  "2": "4",
                  "3": "4480"
                },
                {
                  "0": "PREDNISON",
                  "1": "2018",
                  "2": "1",
                  "3": "4286"
                },
                {
                  "0": "PREDNISON",
                  "1": "2019",
                  "2": "1",
                  "3": "4236"
                },
                {
                  "0": "PREDNISON",
                  "1": "2018",
                  "2": "4",
                  "3": "4103"
                },
                {
                  "0": "PREDNISON",
                  "1": "2020",
                  "2": "1",
                  "3": "4067"
                },
                {
                  "0": "PREDNISON",
                  "1": "2019",
                  "2": "2",
                  "3": "3901"
                },
                {
                  "0": "PREDNISON",
                  "1": "2018",
                  "2": "2",
                  "3": "3647"
                },
                {
                  "0": "PREDNISON",
                  "1": "2019",
                  "2": "3",
                  "3": "3271"
                },
                {
                  "0": "PREDNISON",
                  "1": "2018",
                  "2": "3",
                  "3": "3247"
                },
                {
                  "0": "PREDNISON",
                  "1": "2020",
                  "2": "3",
                  "3": "1897"
                },
                {
                  "0": "PREDNISON",
                  "1": "2020",
                  "2": "2",
                  "3": "1506"
                },
                {
                  "0": "PREDNISON",
                  "1": "2020",
                  "2": "4",
                  "3": "1432"
                },
                {
                  "0": "PREDNISON",
                  "1": "2021",
                  "2": "1"
                },
                {
                  "0": "PREDNISONE",
                  "1": "2019",
                  "2": "1",
                  "3": "3083842"
                },
                {
                  "0": "PREDNISONE",
                  "1": "2019",
                  "2": "4",
                  "3": "3026656"
                },
                {
                  "0": "PREDNISONE",
                  "1": "2019",
                  "2": "2",
                  "3": "2876393"
                },
                {
                  "0": "PREDNISONE",
                  "1": "2020",
                  "2": "1",
                  "3": "2792050"
                },
                {
                  "0": "PREDNISONE",
                  "1": "2019",
                  "2": "3",
                  "3": "2696227"
                },
                {
                  "0": "PREDNISONE",
                  "1": "2020",
                  "2": "3",
                  "3": "2235232"
                },
                {
                  "0": "PREDNISONE",
                  "1": "2020",
                  "2": "4",
                  "3": "2014195"
                },
                {
                  "0": "PREDNISONE",
                  "1": "2020",
                  "2": "2",
                  "3": "1951478"
                },
                {
                  "0": "PREDNISONE",
                  "1": "2018",
                  "2": "1",
                  "3": "446026"
                },
                {
                  "0": "PREDNISONE",
                  "1": "2018",
                  "2": "2",
                  "3": "432958"
                },
                {
                  "0": "PREDNISONE",
                  "1": "2018",
                  "2": "3",
                  "3": "420303"
                },
                {
                  "0": "PREDNISONE",
                  "1": "2018",
                  "2": "4",
                  "3": "419982"
                },
                {
                  "0": "PREDNISONE",
                  "1": "2021",
                  "2": "1",
                  "3": "144243"
                },
                {
                  "0": "SOLU-CORTE",
                  "1": "2019",
                  "2": "3",
                  "3": "16917"
                },
                {
                  "0": "SOLU-CORTE",
                  "1": "2020",
                  "2": "1",
                  "3": "16185"
                },
                {
                  "0": "SOLU-CORTE",
                  "1": "2019",
                  "2": "4",
                  "3": "15629"
                },
                {
                  "0": "SOLU-CORTE",
                  "1": "2020",
                  "2": "3",
                  "3": "14885"
                },
                {
                  "0": "SOLU-CORTE",
                  "1": "2019",
                  "2": "2",
                  "3": "14788"
                },
                {
                  "0": "SOLU-CORTE",
                  "1": "2020",
                  "2": "2",
                  "3": "13574"
                },
                {
                  "0": "SOLU-CORTE",
                  "1": "2019",
                  "2": "1",
                  "3": "13526"
                },
                {
                  "0": "SOLU-CORTE",
                  "1": "2020",
                  "2": "4",
                  "3": "10827"
                },
                {
                  "0": "SOLU-CORTE",
                  "1": "2018",
                  "2": "1",
                  "3": "7865"
                },
                {
                  "0": "SOLU-CORTE",
                  "1": "2018",
                  "2": "3",
                  "3": "7844"
                },
                {
                  "0": "SOLU-CORTE",
                  "1": "2018",
                  "2": "4",
                  "3": "7284"
                },
                {
                  "0": "SOLU-CORTE",
                  "1": "2018",
                  "2": "2",
                  "3": "7264"
                },
                {
                  "0": "SOLU-CORTE",
                  "1": "2021",
                  "2": "1",
                  "3": "726"
                },
                {
                  "0": "SOLU-MEDRO",
                  "1": "2019",
                  "2": "4",
                  "3": "158987"
                },
                {
                  "0": "SOLU-MEDRO",
                  "1": "2019",
                  "2": "3",
                  "3": "156341"
                },
                {
                  "0": "SOLU-MEDRO",
                  "1": "2019",
                  "2": "1",
                  "3": "139111"
                },
                {
                  "0": "SOLU-MEDRO",
                  "1": "2019",
                  "2": "2",
                  "3": "133376"
                },
                {
                  "0": "SOLU-MEDRO",
                  "1": "2020",
                  "2": "1",
                  "3": "132115"
                },
                {
                  "0": "SOLU-MEDRO",
                  "1": "2020",
                  "2": "3",
                  "3": "106737"
                },
                {
                  "0": "SOLU-MEDRO",
                  "1": "2020",
                  "2": "2",
                  "3": "88523"
                },
                {
                  "0": "SOLU-MEDRO",
                  "1": "2020",
                  "2": "4",
                  "3": "79223"
                },
                {
                  "0": "SOLU-MEDRO",
                  "1": "2018",
                  "2": "4",
                  "3": "50153"
                },
                {
                  "0": "SOLU-MEDRO",
                  "1": "2018",
                  "2": "3",
                  "3": "46109"
                },
                {
                  "0": "SOLU-MEDRO",
                  "1": "2018",
                  "2": "2",
                  "3": "45537"
                },
                {
                  "0": "SOLU-MEDRO",
                  "1": "2018",
                  "2": "1",
                  "3": "44258"
                },
                {
                  "0": "SOLU-MEDRO",
                  "1": "2021",
                  "2": "1",
                  "3": "5397"
                }
              ],
              "schema": [
                {
                  "key": "0",
                  "name": "Product_Name",
                  "type": "string"
                },
                {
                  "key": "1",
                  "name": "Year",
                  "type": "int"
                },
                {
                  "key": "2",
                  "name": "Quarter",
                  "type": "int"
                },
                {
                  "key": "3",
                  "name": "sum(Number_of_Prescriptions)",
                  "type": "bigint"
                }
              ],
              "truncated": false
            },
            "isSummary": false,
            "language": "scala"
          },
          "persist_state": {
            "view": {
              "type": "details",
              "tableOptions": {},
              "chartOptions": {
                "chartType": "column",
                "aggregationType": "sum",
                "categoryFieldKeys": [
                  "0"
                ],
                "seriesFieldKeys": [
                  "3"
                ],
                "isStacked": false,
                "pivotFieldKey": "2"
              }
            }
          }
        },
        "0c7a8226-b67b-4741-8c64-e78fd2710c3f": {
          "type": "Synapse.DataFrame",
          "sync_state": {
            "table": {
              "rows": [
                {
                  "0": "A-METHAPRE"
                },
                {
                  "0": "ALBUTEROL"
                },
                {
                  "0": "DEPO-MEDRO"
                },
                {
                  "0": "DEXAMETHA"
                },
                {
                  "0": "DEXAMETHAS"
                },
                {
                  "0": "PREDNISON"
                },
                {
                  "0": "PREDNISONE"
                },
                {
                  "0": "SOLU-CORTE"
                },
                {
                  "0": "SOLU-MEDRO"
                }
              ],
              "schema": [
                {
                  "key": "0",
                  "name": "Product_Name",
                  "type": "string"
                }
              ],
              "truncated": false
            },
            "isSummary": false,
            "language": "scala"
          },
          "persist_state": {
            "view": {
              "type": "details",
              "tableOptions": {},
              "chartOptions": {
                "chartType": "bar",
                "aggregationType": "count",
                "categoryFieldKeys": [
                  "0"
                ],
                "seriesFieldKeys": [
                  "0"
                ],
                "isStacked": false
              }
            }
          }
        },
        "d7e803da-1bc9-4c3d-82bf-0a780b8a9796": {
          "type": "Synapse.DataFrame",
          "sync_state": {
            "table": {
              "rows": [
                {
                  "0": "A-METHAPRE",
                  "1": "2018",
                  "2": "1",
                  "3": "18"
                },
                {
                  "0": "ALBUTEROL",
                  "1": "2018",
                  "2": "1",
                  "3": "305814"
                },
                {
                  "0": "DEPO-MEDRO",
                  "1": "2018",
                  "2": "1",
                  "3": "112111"
                },
                {
                  "0": "DEXAMETHA",
                  "1": "2018",
                  "2": "1",
                  "3": "27057"
                },
                {
                  "0": "DEXAMETHAS",
                  "1": "2018",
                  "2": "1",
                  "3": "213056"
                },
                {
                  "0": "PREDNISON",
                  "1": "2018",
                  "2": "1",
                  "3": "4286"
                },
                {
                  "0": "PREDNISONE",
                  "1": "2018",
                  "2": "1",
                  "3": "446026"
                },
                {
                  "0": "SOLU-CORTE",
                  "1": "2018",
                  "2": "1",
                  "3": "7865"
                },
                {
                  "0": "SOLU-MEDRO",
                  "1": "2018",
                  "2": "1",
                  "3": "44258"
                },
                {
                  "0": "A-METHAPRE",
                  "1": "2018",
                  "2": "2",
                  "3": "21"
                },
                {
                  "0": "ALBUTEROL",
                  "1": "2018",
                  "2": "2",
                  "3": "276987"
                },
                {
                  "0": "DEPO-MEDRO",
                  "1": "2018",
                  "2": "2",
                  "3": "112990"
                },
                {
                  "0": "DEXAMETHA",
                  "1": "2018",
                  "2": "2",
                  "3": "25723"
                },
                {
                  "0": "DEXAMETHAS",
                  "1": "2018",
                  "2": "2",
                  "3": "209964"
                },
                {
                  "0": "PREDNISON",
                  "1": "2018",
                  "2": "2",
                  "3": "3647"
                },
                {
                  "0": "PREDNISONE",
                  "1": "2018",
                  "2": "2",
                  "3": "432958"
                },
                {
                  "0": "SOLU-CORTE",
                  "1": "2018",
                  "2": "2",
                  "3": "7264"
                },
                {
                  "0": "SOLU-MEDRO",
                  "1": "2018",
                  "2": "2",
                  "3": "45537"
                },
                {
                  "0": "A-METHAPRE",
                  "1": "2018",
                  "2": "3",
                  "3": "17"
                },
                {
                  "0": "ALBUTEROL",
                  "1": "2018",
                  "2": "3",
                  "3": "253105"
                },
                {
                  "0": "DEPO-MEDRO",
                  "1": "2018",
                  "2": "3",
                  "3": "109580"
                },
                {
                  "0": "DEXAMETHA",
                  "1": "2018",
                  "2": "3",
                  "3": "25302"
                },
                {
                  "0": "DEXAMETHAS",
                  "1": "2018",
                  "2": "3",
                  "3": "213688"
                },
                {
                  "0": "PREDNISON",
                  "1": "2018",
                  "2": "3",
                  "3": "3247"
                },
                {
                  "0": "PREDNISONE",
                  "1": "2018",
                  "2": "3",
                  "3": "420303"
                },
                {
                  "0": "SOLU-CORTE",
                  "1": "2018",
                  "2": "3",
                  "3": "7844"
                },
                {
                  "0": "SOLU-MEDRO",
                  "1": "2018",
                  "2": "3",
                  "3": "46109"
                },
                {
                  "0": "A-METHAPRE",
                  "1": "2018",
                  "2": "4",
                  "3": "14"
                },
                {
                  "0": "ALBUTEROL",
                  "1": "2018",
                  "2": "4",
                  "3": "265628"
                },
                {
                  "0": "DEPO-MEDRO",
                  "1": "2018",
                  "2": "4",
                  "3": "111028"
                },
                {
                  "0": "DEXAMETHA",
                  "1": "2018",
                  "2": "4",
                  "3": "29545"
                },
                {
                  "0": "DEXAMETHAS",
                  "1": "2018",
                  "2": "4",
                  "3": "231486"
                },
                {
                  "0": "PREDNISON",
                  "1": "2018",
                  "2": "4",
                  "3": "4103"
                },
                {
                  "0": "PREDNISONE",
                  "1": "2018",
                  "2": "4",
                  "3": "419982"
                },
                {
                  "0": "SOLU-CORTE",
                  "1": "2018",
                  "2": "4",
                  "3": "7284"
                },
                {
                  "0": "SOLU-MEDRO",
                  "1": "2018",
                  "2": "4",
                  "3": "50153"
                },
                {
                  "0": "A-METHAPRE",
                  "1": "2019",
                  "2": "1",
                  "3": "30"
                },
                {
                  "0": "ALBUTEROL",
                  "1": "2019",
                  "2": "1",
                  "3": "4831077"
                },
                {
                  "0": "DEPO-MEDRO",
                  "1": "2019",
                  "2": "1",
                  "3": "348480"
                },
                {
                  "0": "DEXAMETHA",
                  "1": "2019",
                  "2": "1",
                  "3": "56200"
                },
                {
                  "0": "DEXAMETHAS",
                  "1": "2019",
                  "2": "1",
                  "3": "918380"
                },
                {
                  "0": "PREDNISON",
                  "1": "2019",
                  "2": "1",
                  "3": "4236"
                },
                {
                  "0": "PREDNISONE",
                  "1": "2019",
                  "2": "1",
                  "3": "3083842"
                },
                {
                  "0": "SOLU-CORTE",
                  "1": "2019",
                  "2": "1",
                  "3": "13526"
                },
                {
                  "0": "SOLU-MEDRO",
                  "1": "2019",
                  "2": "1",
                  "3": "139111"
                },
                {
                  "0": "A-METHAPRE",
                  "1": "2019",
                  "2": "2",
                  "3": "46"
                },
                {
                  "0": "ALBUTEROL",
                  "1": "2019",
                  "2": "2",
                  "3": "6313940"
                },
                {
                  "0": "DEPO-MEDRO",
                  "1": "2019",
                  "2": "2",
                  "3": "360958"
                },
                {
                  "0": "DEXAMETHA",
                  "1": "2019",
                  "2": "2",
                  "3": "51789"
                },
                {
                  "0": "DEXAMETHAS",
                  "1": "2019",
                  "2": "2",
                  "3": "910602"
                },
                {
                  "0": "PREDNISON",
                  "1": "2019",
                  "2": "2",
                  "3": "3901"
                },
                {
                  "0": "PREDNISONE",
                  "1": "2019",
                  "2": "2",
                  "3": "2876393"
                },
                {
                  "0": "SOLU-CORTE",
                  "1": "2019",
                  "2": "2",
                  "3": "14788"
                },
                {
                  "0": "SOLU-MEDRO",
                  "1": "2019",
                  "2": "2",
                  "3": "133376"
                },
                {
                  "0": "A-METHAPRE",
                  "1": "2019",
                  "2": "3",
                  "3": "32"
                },
                {
                  "0": "ALBUTEROL",
                  "1": "2019",
                  "2": "3",
                  "3": "6321731"
                },
                {
                  "0": "DEPO-MEDRO",
                  "1": "2019",
                  "2": "3",
                  "3": "356570"
                },
                {
                  "0": "DEXAMETHA",
                  "1": "2019",
                  "2": "3",
                  "3": "46882"
                },
                {
                  "0": "DEXAMETHAS",
                  "1": "2019",
                  "2": "3",
                  "3": "916711"
                },
                {
                  "0": "PREDNISON",
                  "1": "2019",
                  "2": "3",
                  "3": "3271"
                },
                {
                  "0": "PREDNISONE",
                  "1": "2019",
                  "2": "3",
                  "3": "2696227"
                },
                {
                  "0": "SOLU-CORTE",
                  "1": "2019",
                  "2": "3",
                  "3": "16917"
                },
                {
                  "0": "SOLU-MEDRO",
                  "1": "2019",
                  "2": "3",
                  "3": "156341"
                },
                {
                  "0": "A-METHAPRE",
                  "1": "2019",
                  "2": "4"
                },
                {
                  "0": "ALBUTEROL",
                  "1": "2019",
                  "2": "4",
                  "3": "8025591"
                },
                {
                  "0": "DEPO-MEDRO",
                  "1": "2019",
                  "2": "4",
                  "3": "323039"
                },
                {
                  "0": "DEXAMETHA",
                  "1": "2019",
                  "2": "4",
                  "3": "55059"
                },
                {
                  "0": "DEXAMETHAS",
                  "1": "2019",
                  "2": "4",
                  "3": "1019853"
                },
                {
                  "0": "PREDNISON",
                  "1": "2019",
                  "2": "4",
                  "3": "4480"
                },
                {
                  "0": "PREDNISONE",
                  "1": "2019",
                  "2": "4",
                  "3": "3026656"
                },
                {
                  "0": "SOLU-CORTE",
                  "1": "2019",
                  "2": "4",
                  "3": "15629"
                },
                {
                  "0": "SOLU-MEDRO",
                  "1": "2019",
                  "2": "4",
                  "3": "158987"
                },
                {
                  "0": "A-METHAPRE",
                  "1": "2020",
                  "2": "1",
                  "3": "26"
                },
                {
                  "0": "ALBUTEROL",
                  "1": "2020",
                  "2": "1",
                  "3": "8198970"
                },
                {
                  "0": "DEPO-MEDRO",
                  "1": "2020",
                  "2": "1",
                  "3": "277494"
                },
                {
                  "0": "DEXAMETHA",
                  "1": "2020",
                  "2": "1",
                  "3": "54894"
                },
                {
                  "0": "DEXAMETHAS",
                  "1": "2020",
                  "2": "1",
                  "3": "909401"
                },
                {
                  "0": "PREDNISON",
                  "1": "2020",
                  "2": "1",
                  "3": "4067"
                },
                {
                  "0": "PREDNISONE",
                  "1": "2020",
                  "2": "1",
                  "3": "2792050"
                },
                {
                  "0": "SOLU-CORTE",
                  "1": "2020",
                  "2": "1",
                  "3": "16185"
                },
                {
                  "0": "SOLU-MEDRO",
                  "1": "2020",
                  "2": "1",
                  "3": "132115"
                },
                {
                  "0": "A-METHAPRE",
                  "1": "2020",
                  "2": "2",
                  "3": "33"
                },
                {
                  "0": "ALBUTEROL",
                  "1": "2020",
                  "2": "2",
                  "3": "6403596"
                },
                {
                  "0": "DEPO-MEDRO",
                  "1": "2020",
                  "2": "2",
                  "3": "214740"
                },
                {
                  "0": "DEXAMETHA",
                  "1": "2020",
                  "2": "2",
                  "3": "32398"
                },
                {
                  "0": "DEXAMETHAS",
                  "1": "2020",
                  "2": "2",
                  "3": "585521"
                },
                {
                  "0": "PREDNISON",
                  "1": "2020",
                  "2": "2",
                  "3": "1506"
                },
                {
                  "0": "PREDNISONE",
                  "1": "2020",
                  "2": "2",
                  "3": "1951478"
                },
                {
                  "0": "SOLU-CORTE",
                  "1": "2020",
                  "2": "2",
                  "3": "13574"
                },
                {
                  "0": "SOLU-MEDRO",
                  "1": "2020",
                  "2": "2",
                  "3": "88523"
                },
                {
                  "0": "A-METHAPRE",
                  "1": "2020",
                  "2": "3"
                },
                {
                  "0": "ALBUTEROL",
                  "1": "2020",
                  "2": "3",
                  "3": "6855125"
                },
                {
                  "0": "DEPO-MEDRO",
                  "1": "2020",
                  "2": "3",
                  "3": "277153"
                },
                {
                  "0": "DEXAMETHA",
                  "1": "2020",
                  "2": "3",
                  "3": "48095"
                },
                {
                  "0": "DEXAMETHAS",
                  "1": "2020",
                  "2": "3",
                  "3": "753673"
                },
                {
                  "0": "PREDNISON",
                  "1": "2020",
                  "2": "3",
                  "3": "1897"
                },
                {
                  "0": "PREDNISONE",
                  "1": "2020",
                  "2": "3",
                  "3": "2235232"
                },
                {
                  "0": "SOLU-CORTE",
                  "1": "2020",
                  "2": "3",
                  "3": "14885"
                },
                {
                  "0": "SOLU-MEDRO",
                  "1": "2020",
                  "2": "3",
                  "3": "106737"
                },
                {
                  "0": "A-METHAPRE",
                  "1": "2020",
                  "2": "4"
                },
                {
                  "0": "ALBUTEROL",
                  "1": "2020",
                  "2": "4",
                  "3": "5793664"
                },
                {
                  "0": "DEPO-MEDRO",
                  "1": "2020",
                  "2": "4",
                  "3": "213435"
                },
                {
                  "0": "DEXAMETHA",
                  "1": "2020",
                  "2": "4",
                  "3": "50267"
                },
                {
                  "0": "DEXAMETHAS",
                  "1": "2020",
                  "2": "4",
                  "3": "667924"
                },
                {
                  "0": "PREDNISON",
                  "1": "2020",
                  "2": "4",
                  "3": "1432"
                },
                {
                  "0": "PREDNISONE",
                  "1": "2020",
                  "2": "4",
                  "3": "2014195"
                },
                {
                  "0": "SOLU-CORTE",
                  "1": "2020",
                  "2": "4",
                  "3": "10827"
                },
                {
                  "0": "SOLU-MEDRO",
                  "1": "2020",
                  "2": "4",
                  "3": "79223"
                },
                {
                  "0": "A-METHAPRE",
                  "1": "2021",
                  "2": "1"
                },
                {
                  "0": "ALBUTEROL",
                  "1": "2021",
                  "2": "1",
                  "3": "324268"
                },
                {
                  "0": "DEPO-MEDRO",
                  "1": "2021",
                  "2": "1",
                  "3": "17134"
                },
                {
                  "0": "DEXAMETHA",
                  "1": "2021",
                  "2": "1",
                  "3": "259"
                },
                {
                  "0": "DEXAMETHAS",
                  "1": "2021",
                  "2": "1",
                  "3": "49151"
                },
                {
                  "0": "PREDNISON",
                  "1": "2021",
                  "2": "1"
                },
                {
                  "0": "PREDNISONE",
                  "1": "2021",
                  "2": "1",
                  "3": "144243"
                },
                {
                  "0": "SOLU-CORTE",
                  "1": "2021",
                  "2": "1",
                  "3": "726"
                },
                {
                  "0": "SOLU-MEDRO",
                  "1": "2021",
                  "2": "1",
                  "3": "5397"
                }
              ],
              "schema": [
                {
                  "key": "0",
                  "name": "Product_Name",
                  "type": "string"
                },
                {
                  "key": "1",
                  "name": "Year",
                  "type": "int"
                },
                {
                  "key": "2",
                  "name": "Quarter",
                  "type": "int"
                },
                {
                  "key": "3",
                  "name": "sum(Number_of_Prescriptions)",
                  "type": "bigint"
                }
              ],
              "truncated": false
            },
            "isSummary": false,
            "language": "scala"
          },
          "persist_state": {
            "view": {
              "type": "details",
              "tableOptions": {},
              "chartOptions": {
                "chartType": "bar",
                "aggregationType": "sum",
                "categoryFieldKeys": [
                  "0"
                ],
                "seriesFieldKeys": [
                  "1"
                ],
                "isStacked": false
              }
            }
          }
        },
        "63afa080-684c-4b49-bdb0-7ca249691523": {
          "type": "Synapse.DataFrame",
          "sync_state": {
            "table": {
              "rows": [
                {
                  "0": "ALBUTEROL"
                },
                {
                  "0": "DEXAMETHASONE"
                },
                {
                  "0": "HYDROCORTISONE"
                },
                {
                  "0": "METHYLPREDNISOLONE"
                },
                {
                  "0": "PREDNISONE"
                }
              ],
              "schema": [
                {
                  "key": "0",
                  "name": "Product_Name",
                  "type": "string"
                }
              ],
              "truncated": false
            },
            "isSummary": false,
            "language": "scala"
          },
          "persist_state": {
            "view": {
              "type": "details",
              "tableOptions": {},
              "chartOptions": {
                "chartType": "bar",
                "aggregationType": "count",
                "categoryFieldKeys": [
                  "0"
                ],
                "seriesFieldKeys": [
                  "0"
                ],
                "isStacked": false
              }
            }
          }
        },
        "bfd2c05e-6aec-4f67-b9f7-da3725c52f41": {
          "type": "Synapse.DataFrame",
          "sync_state": {
            "table": {
              "rows": [
                {
                  "0": "ALBUTEROL",
                  "1": "2020",
                  "2": "1",
                  "3": "8198970"
                },
                {
                  "0": "ALBUTEROL",
                  "1": "2020",
                  "2": "3",
                  "3": "6855125"
                },
                {
                  "0": "ALBUTEROL",
                  "1": "2020",
                  "2": "2",
                  "3": "6403596"
                },
                {
                  "0": "ALBUTEROL",
                  "1": "2020",
                  "2": "4",
                  "3": "5793664"
                },
                {
                  "0": "DEXAMETHASONE",
                  "1": "2019",
                  "2": "4",
                  "3": "1074912"
                },
                {
                  "0": "DEXAMETHASONE",
                  "1": "2019",
                  "2": "1",
                  "3": "974580"
                },
                {
                  "0": "DEXAMETHASONE",
                  "1": "2020",
                  "2": "1",
                  "3": "964295"
                },
                {
                  "0": "DEXAMETHASONE",
                  "1": "2019",
                  "2": "3",
                  "3": "963593"
                },
                {
                  "0": "DEXAMETHASONE",
                  "1": "2019",
                  "2": "2",
                  "3": "962391"
                },
                {
                  "0": "DEXAMETHASONE",
                  "1": "2020",
                  "2": "3",
                  "3": "801768"
                },
                {
                  "0": "DEXAMETHASONE",
                  "1": "2020",
                  "2": "4",
                  "3": "718191"
                },
                {
                  "0": "DEXAMETHASONE",
                  "1": "2020",
                  "2": "2",
                  "3": "617919"
                },
                {
                  "0": "DEXAMETHASONE",
                  "1": "2018",
                  "2": "4",
                  "3": "261031"
                },
                {
                  "0": "DEXAMETHASONE",
                  "1": "2018",
                  "2": "1",
                  "3": "240113"
                },
                {
                  "0": "DEXAMETHASONE",
                  "1": "2018",
                  "2": "3",
                  "3": "238990"
                },
                {
                  "0": "DEXAMETHASONE",
                  "1": "2018",
                  "2": "2",
                  "3": "235687"
                },
                {
                  "0": "DEXAMETHASONE",
                  "1": "2021",
                  "2": "1",
                  "3": "49410"
                },
                {
                  "0": "HYDROCORTISONE",
                  "1": "2019",
                  "2": "3",
                  "3": "16917"
                },
                {
                  "0": "HYDROCORTISONE",
                  "1": "2020",
                  "2": "1",
                  "3": "16185"
                },
                {
                  "0": "HYDROCORTISONE",
                  "1": "2019",
                  "2": "4",
                  "3": "15629"
                },
                {
                  "0": "HYDROCORTISONE",
                  "1": "2020",
                  "2": "3",
                  "3": "14885"
                },
                {
                  "0": "HYDROCORTISONE",
                  "1": "2019",
                  "2": "2",
                  "3": "14788"
                },
                {
                  "0": "HYDROCORTISONE",
                  "1": "2020",
                  "2": "2",
                  "3": "13574"
                },
                {
                  "0": "HYDROCORTISONE",
                  "1": "2019",
                  "2": "1",
                  "3": "13526"
                },
                {
                  "0": "HYDROCORTISONE",
                  "1": "2020",
                  "2": "4",
                  "3": "10827"
                },
                {
                  "0": "HYDROCORTISONE",
                  "1": "2018",
                  "2": "1",
                  "3": "7865"
                },
                {
                  "0": "HYDROCORTISONE",
                  "1": "2018",
                  "2": "3",
                  "3": "7844"
                },
                {
                  "0": "HYDROCORTISONE",
                  "1": "2018",
                  "2": "4",
                  "3": "7284"
                },
                {
                  "0": "HYDROCORTISONE",
                  "1": "2018",
                  "2": "2",
                  "3": "7264"
                },
                {
                  "0": "HYDROCORTISONE",
                  "1": "2021",
                  "2": "1",
                  "3": "726"
                },
                {
                  "0": "METHYLPREDNISOLONE",
                  "1": "2019",
                  "2": "3",
                  "3": "512911"
                },
                {
                  "0": "METHYLPREDNISOLONE",
                  "1": "2019",
                  "2": "2",
                  "3": "494334"
                },
                {
                  "0": "METHYLPREDNISOLONE",
                  "1": "2019",
                  "2": "1",
                  "3": "487591"
                },
                {
                  "0": "METHYLPREDNISOLONE",
                  "1": "2019",
                  "2": "4",
                  "3": "482026"
                },
                {
                  "0": "METHYLPREDNISOLONE",
                  "1": "2020",
                  "2": "1",
                  "3": "409609"
                },
                {
                  "0": "METHYLPREDNISOLONE",
                  "1": "2020",
                  "2": "3",
                  "3": "383890"
                },
                {
                  "0": "METHYLPREDNISOLONE",
                  "1": "2020",
                  "2": "2",
                  "3": "303263"
                },
                {
                  "0": "METHYLPREDNISOLONE",
                  "1": "2020",
                  "2": "4",
                  "3": "292658"
                },
                {
                  "0": "METHYLPREDNISOLONE",
                  "1": "2018",
                  "2": "4",
                  "3": "161181"
                },
                {
                  "0": "METHYLPREDNISOLONE",
                  "1": "2018",
                  "2": "2",
                  "3": "158527"
                },
                {
                  "0": "METHYLPREDNISOLONE",
                  "1": "2018",
                  "2": "1",
                  "3": "156369"
                },
                {
                  "0": "METHYLPREDNISOLONE",
                  "1": "2018",
                  "2": "3",
                  "3": "155689"
                },
                {
                  "0": "METHYLPREDNISOLONE",
                  "1": "2021",
                  "2": "1",
                  "3": "22531"
                },
                {
                  "0": "PREDNISONE",
                  "1": "2019",
                  "2": "1",
                  "3": "3088078"
                },
                {
                  "0": "PREDNISONE",
                  "1": "2019",
                  "2": "4",
                  "3": "3031136"
                },
                {
                  "0": "PREDNISONE",
                  "1": "2019",
                  "2": "2",
                  "3": "2880294"
                },
                {
                  "0": "PREDNISONE",
                  "1": "2020",
                  "2": "1",
                  "3": "2796117"
                },
                {
                  "0": "PREDNISONE",
                  "1": "2019",
                  "2": "3",
                  "3": "2699498"
                },
                {
                  "0": "PREDNISONE",
                  "1": "2020",
                  "2": "3",
                  "3": "2237129"
                },
                {
                  "0": "PREDNISONE",
                  "1": "2020",
                  "2": "4",
                  "3": "2015627"
                },
                {
                  "0": "PREDNISONE",
                  "1": "2020",
                  "2": "2",
                  "3": "1952984"
                },
                {
                  "0": "PREDNISONE",
                  "1": "2018",
                  "2": "1",
                  "3": "450312"
                },
                {
                  "0": "PREDNISONE",
                  "1": "2018",
                  "2": "2",
                  "3": "436605"
                },
                {
                  "0": "PREDNISONE",
                  "1": "2018",
                  "2": "4",
                  "3": "424085"
                },
                {
                  "0": "PREDNISONE",
                  "1": "2018",
                  "2": "3",
                  "3": "423550"
                },
                {
                  "0": "PREDNISONE",
                  "1": "2021",
                  "2": "1",
                  "3": "144243"
                }
              ],
              "schema": [
                {
                  "key": "0",
                  "name": "Product_Name",
                  "type": "string"
                },
                {
                  "key": "1",
                  "name": "Year",
                  "type": "int"
                },
                {
                  "key": "2",
                  "name": "Quarter",
                  "type": "int"
                },
                {
                  "key": "3",
                  "name": "sum(Number_of_Prescriptions)",
                  "type": "bigint"
                }
              ],
              "truncated": false
            },
            "isSummary": false,
            "language": "scala"
          },
          "persist_state": {
            "view": {
              "type": "details",
              "tableOptions": {},
              "chartOptions": {
                "chartType": "column",
                "aggregationType": "sum",
                "categoryFieldKeys": [
                  "0"
                ],
                "seriesFieldKeys": [
                  "3"
                ],
                "isStacked": false,
                "pivotFieldKey": "2"
              }
            }
          }
        }
      }
    }
  },
  "nbformat": 4,
  "nbformat_minor": 2
}