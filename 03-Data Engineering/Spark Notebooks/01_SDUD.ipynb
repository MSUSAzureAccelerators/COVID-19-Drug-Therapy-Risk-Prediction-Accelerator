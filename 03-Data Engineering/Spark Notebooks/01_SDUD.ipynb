{
  "cells": [
    {
      "cell_type": "markdown",
      "source": [
        "## Update variables"
      ],
      "metadata": {
        "nteract": {
          "transient": {
            "deleting": false
          }
        }
      }
    },
    {
      "cell_type": "code",
      "source": [
        "# list all tables in spark db\r\n",
        "\r\n",
        "from pyspark.sql import SparkSession\r\n",
        "\r\n",
        "for table in spark.catalog.listTables():\r\n",
        "    print(table.name)"
      ],
      "outputs": [
        {
          "output_type": "display_data",
          "data": {
            "application/vnd.livy.statement-meta+json": {
              "spark_pool": "SparkPool01",
              "session_id": 0,
              "statement_id": 1,
              "state": "finished",
              "livy_statement_state": "available",
              "queued_time": "2022-03-30T01:53:28.3270461Z",
              "session_start_time": "2022-03-30T01:53:28.3657429Z",
              "execution_start_time": "2022-03-30T01:55:42.632702Z",
              "execution_finish_time": "2022-03-30T01:55:55.2452096Z"
            },
            "text/plain": "StatementMeta(SparkPool01, 0, 1, Finished, Available)"
          },
          "metadata": {}
        }
      ],
      "execution_count": 1,
      "metadata": {
        "jupyter": {
          "source_hidden": false,
          "outputs_hidden": false
        },
        "nteract": {
          "transient": {
            "deleting": false
          }
        }
      }
    },
    {
      "cell_type": "code",
      "source": [
        "# drop tables\r\n",
        "\r\n",
        "from pyspark.sql import HiveContext\r\n",
        "sqlContext = HiveContext(sc)\r\n",
        "sqlContext.sql('drop table tb2')"
      ],
      "outputs": [
        {
          "output_type": "display_data",
          "data": {
            "application/vnd.livy.statement-meta+json": {
              "spark_pool": "SparkPool01",
              "session_id": 0,
              "statement_id": 2,
              "state": "finished",
              "livy_statement_state": "available",
              "queued_time": "2022-03-30T01:53:28.3283545Z",
              "session_start_time": null,
              "execution_start_time": "2022-03-30T01:55:55.3534056Z",
              "execution_finish_time": "2022-03-30T01:55:55.8443021Z"
            },
            "text/plain": "StatementMeta(SparkPool01, 0, 2, Finished, Available)"
          },
          "metadata": {}
        },
        {
          "output_type": "error",
          "ename": "AnalysisException",
          "evalue": "Table or view not found: tb2;",
          "traceback": [
            "AnalysisException: Table or view not found: tb2;",
            "Traceback (most recent call last):\n",
            "  File \"/opt/spark/python/lib/pyspark.zip/pyspark/sql/context.py\", line 358, in sql\n    return self.sparkSession.sql(sqlQuery)\n",
            "  File \"/opt/spark/python/lib/pyspark.zip/pyspark/sql/session.py\", line 767, in sql\n    return DataFrame(self._jsparkSession.sql(sqlQuery), self._wrapped)\n",
            "  File \"/opt/spark/python/lib/py4j-0.10.7-src.zip/py4j/java_gateway.py\", line 1257, in __call__\n    answer, self.gateway_client, self.target_id, self.name)\n",
            "  File \"/opt/spark/python/lib/pyspark.zip/pyspark/sql/utils.py\", line 75, in deco\n    raise AnalysisException(s.split(': ', 1)[1], stackTrace)\n",
            "pyspark.sql.utils.AnalysisException: Table or view not found: tb2;\n"
          ]
        }
      ],
      "execution_count": 2,
      "metadata": {
        "jupyter": {
          "source_hidden": false,
          "outputs_hidden": false
        },
        "nteract": {
          "transient": {
            "deleting": false
          }
        }
      }
    },
    {
      "cell_type": "code",
      "source": [
        "storage_account_name = 'asastgssuaefdbhdg2dbc4'\r\n",
        "container_name = 'raw'\r\n",
        "#sql_pool_name = 'SQLPool01'"
      ],
      "outputs": [
        {
          "output_type": "display_data",
          "data": {
            "application/vnd.livy.statement-meta+json": {
              "spark_pool": "SparkPool01",
              "session_id": 0,
              "statement_id": 8,
              "state": "finished",
              "livy_statement_state": "available",
              "queued_time": "2022-03-30T02:00:01.1032069Z",
              "session_start_time": null,
              "execution_start_time": "2022-03-30T02:00:01.2187631Z",
              "execution_finish_time": "2022-03-30T02:00:01.3673769Z"
            },
            "text/plain": "StatementMeta(SparkPool01, 0, 8, Finished, Available)"
          },
          "metadata": {}
        }
      ],
      "execution_count": 8,
      "metadata": {
        "jupyter": {
          "source_hidden": false,
          "outputs_hidden": false
        },
        "nteract": {
          "transient": {
            "deleting": false
          }
        }
      }
    },
    {
      "cell_type": "markdown",
      "source": [
        "## Load datasets"
      ],
      "metadata": {
        "application/vnd.databricks.v1+cell": {
          "title": "",
          "showTitle": false,
          "inputWidgets": {},
          "nuid": "d4987a88-a78a-4782-874f-1dfa326265a3"
        }
      }
    },
    {
      "cell_type": "code",
      "source": [
        "# load 2018-2021 SDUD data from ADLS2 into Spark dataframe and join\r\n",
        "\r\n",
        "df_18 = spark.read.format('csv').options(header='true', inferschema='true').load(f\"abfss://{container_name}@{storage_account_name}.dfs.core.windows.net/SDUD/state-drug-utilization-data-2018.csv\")\r\n",
        "df_19 = spark.read.format('csv').options(header='true', inferschema='true').load(f\"abfss://{container_name}@{storage_account_name}.dfs.core.windows.net/SDUD/state-drug-utilization-data-2019.csv\")\r\n",
        "df_20 = spark.read.format('csv').options(header='true', inferschema='true').load(f\"abfss://{container_name}@{storage_account_name}.dfs.core.windows.net/SDUD/state-drug-utilization-data-2020.csv\")\r\n",
        "df_21 = spark.read.format('csv').options(header='true', inferschema='true').load(f\"abfss://{container_name}@{storage_account_name}.dfs.core.windows.net/SDUD/state-drug-utilization-data-2021.csv\")\r\n",
        "\r\n",
        "\r\n",
        "df = df_18.union(df_19).union(df_20).union(df_21)"
      ],
      "outputs": [
        {
          "output_type": "display_data",
          "data": {
            "application/vnd.livy.statement-meta+json": {
              "spark_pool": "SparkPool01",
              "session_id": 0,
              "statement_id": 11,
              "state": "finished",
              "livy_statement_state": "available",
              "queued_time": "2022-03-30T02:10:38.9652298Z",
              "session_start_time": null,
              "execution_start_time": "2022-03-30T02:10:39.0678123Z",
              "execution_finish_time": "2022-03-30T02:10:51.8341418Z"
            },
            "text/plain": "StatementMeta(SparkPool01, 0, 11, Finished, Available)"
          },
          "metadata": {}
        }
      ],
      "execution_count": 11,
      "metadata": {
        "jupyter": {
          "source_hidden": false,
          "outputs_hidden": false
        },
        "nteract": {
          "transient": {
            "deleting": false
          }
        },
        "microsoft": {}
      }
    },
    {
      "cell_type": "markdown",
      "source": [
        "## Explore the data"
      ],
      "metadata": {
        "nteract": {
          "transient": {
            "deleting": false
          }
        }
      }
    },
    {
      "cell_type": "code",
      "source": [
        "# display joined dataframe\r\n",
        "\r\n",
        "display(df.limit(10))"
      ],
      "outputs": [
        {
          "output_type": "display_data",
          "data": {
            "application/vnd.livy.statement-meta+json": {
              "spark_pool": "SparkPool01",
              "session_id": 0,
              "statement_id": 12,
              "state": "finished",
              "livy_statement_state": "available",
              "queued_time": "2022-03-30T02:10:39.2799828Z",
              "session_start_time": null,
              "execution_start_time": "2022-03-30T02:10:51.9335314Z",
              "execution_finish_time": "2022-03-30T02:10:55.2553817Z"
            },
            "text/plain": "StatementMeta(SparkPool01, 0, 12, Finished, Available)"
          },
          "metadata": {}
        },
        {
          "output_type": "display_data",
          "data": {
            "application/vnd.synapse.widget-view+json": {
              "widget_id": "cc949b13-180d-4a60-97ee-254fac42c0e5",
              "widget_type": "Synapse.DataFrame"
            },
            "text/plain": "SynapseWidget(Synapse.DataFrame, cc949b13-180d-4a60-97ee-254fac42c0e5)"
          },
          "metadata": {}
        }
      ],
      "execution_count": 12,
      "metadata": {
        "jupyter": {
          "source_hidden": false,
          "outputs_hidden": false
        },
        "nteract": {
          "transient": {
            "deleting": false
          }
        },
        "collapsed": false
      }
    },
    {
      "cell_type": "code",
      "source": [
        "# how many rows, columns\r\n",
        "\r\n",
        "print((df.count(), len(df.columns)))"
      ],
      "outputs": [
        {
          "output_type": "display_data",
          "data": {
            "application/vnd.livy.statement-meta+json": {
              "spark_pool": "SparkPool01",
              "session_id": 0,
              "statement_id": 13,
              "state": "finished",
              "livy_statement_state": "available",
              "queued_time": "2022-03-30T02:10:39.7130209Z",
              "session_start_time": null,
              "execution_start_time": "2022-03-30T02:10:55.3833284Z",
              "execution_finish_time": "2022-03-30T02:11:03.172098Z"
            },
            "text/plain": "StatementMeta(SparkPool01, 0, 13, Finished, Available)"
          },
          "metadata": {}
        },
        {
          "output_type": "stream",
          "name": "stdout",
          "text": [
            "(15841411, 15)"
          ]
        }
      ],
      "execution_count": 13,
      "metadata": {
        "application/vnd.databricks.v1+cell": {
          "title": "",
          "showTitle": false,
          "inputWidgets": {},
          "nuid": "30457283-8715-45ba-b839-9dc321ba8e92"
        },
        "microsoft": {}
      }
    },
    {
      "cell_type": "markdown",
      "source": [
        "### Print schema and modify"
      ],
      "metadata": {
        "nteract": {
          "transient": {
            "deleting": false
          }
        }
      }
    },
    {
      "cell_type": "code",
      "source": [
        "# current schema\r\n",
        "\r\n",
        "df.printSchema()"
      ],
      "outputs": [
        {
          "output_type": "display_data",
          "data": {
            "application/vnd.livy.statement-meta+json": {
              "spark_pool": "SparkPool01",
              "session_id": 0,
              "statement_id": 14,
              "state": "finished",
              "livy_statement_state": "available",
              "queued_time": "2022-03-30T02:10:39.9693646Z",
              "session_start_time": null,
              "execution_start_time": "2022-03-30T02:11:04.425752Z",
              "execution_finish_time": "2022-03-30T02:11:04.5744305Z"
            },
            "text/plain": "StatementMeta(SparkPool01, 0, 14, Finished, Available)"
          },
          "metadata": {}
        },
        {
          "output_type": "stream",
          "name": "stdout",
          "text": [
            "root\n |-- Utilization Type: string (nullable = true)\n |-- State: string (nullable = true)\n |-- NDC: long (nullable = true)\n |-- Labeler Code: integer (nullable = true)\n |-- Product Code: integer (nullable = true)\n |-- Package Size: integer (nullable = true)\n |-- Year: integer (nullable = true)\n |-- Quarter: integer (nullable = true)\n |-- Suppression Used: boolean (nullable = true)\n |-- Product Name: string (nullable = true)\n |-- Units Reimbursed: double (nullable = true)\n |-- Number of Prescriptions: integer (nullable = true)\n |-- Total Amount Reimbursed: double (nullable = true)\n |-- Medicaid Amount Reimbursed: double (nullable = true)\n |-- Non Medicaid Amount Reimbursed: double (nullable = true)"
          ]
        }
      ],
      "execution_count": 14,
      "metadata": {
        "jupyter": {
          "source_hidden": false,
          "outputs_hidden": false
        },
        "nteract": {
          "transient": {
            "deleting": false
          }
        },
        "microsoft": {}
      }
    },
    {
      "cell_type": "code",
      "source": [
        "# cast Number_of_Prescriptions from string to int\r\n",
        "\r\n",
        "df1 = df.withColumn(\"Number of Prescriptions\", df[\"Number of Prescriptions\"].cast('int'))"
      ],
      "outputs": [
        {
          "output_type": "display_data",
          "data": {
            "application/vnd.livy.statement-meta+json": {
              "spark_pool": "SparkPool01",
              "session_id": 0,
              "statement_id": 15,
              "state": "finished",
              "livy_statement_state": "available",
              "queued_time": "2022-03-30T02:10:40.1958561Z",
              "session_start_time": null,
              "execution_start_time": "2022-03-30T02:11:04.6940506Z",
              "execution_finish_time": "2022-03-30T02:11:04.8435107Z"
            },
            "text/plain": "StatementMeta(SparkPool01, 0, 15, Finished, Available)"
          },
          "metadata": {}
        }
      ],
      "execution_count": 15,
      "metadata": {
        "jupyter": {
          "source_hidden": false,
          "outputs_hidden": false
        },
        "nteract": {
          "transient": {
            "deleting": false
          }
        }
      }
    },
    {
      "cell_type": "code",
      "source": [
        "# rename columns\r\n",
        "\r\n",
        "oldColumns = df1.schema.names\r\n",
        "newColumns = [\"Utilization_Type\", \"State\", \"NDC\", \"Labeler_Code\", \"Product_Code\",\r\n",
        "       \"Package_Size\", \"Year\", \"Quarter\", \"Supression_Used\", \"Product_Name\",\r\n",
        "       \"Units_Reimbursed\", \"Number_of_Prescriptions\",\r\n",
        "       \"Total_Amount_Reimbursed\", \"Medicaid_Amount_Reimbursed\",\r\n",
        "       \"Non_Medicaid_Amount_Reimbursed\"]\r\n",
        "\r\n",
        "from functools import reduce\r\n",
        "\r\n",
        "df2 = reduce(lambda df1, idx: df1.withColumnRenamed(oldColumns[idx], newColumns[idx]), range(len(oldColumns)), df1)"
      ],
      "outputs": [
        {
          "output_type": "display_data",
          "data": {
            "application/vnd.livy.statement-meta+json": {
              "spark_pool": "SparkPool01",
              "session_id": 0,
              "statement_id": 41,
              "state": "finished",
              "livy_statement_state": "available",
              "queued_time": "2022-03-30T02:27:42.0575164Z",
              "session_start_time": null,
              "execution_start_time": "2022-03-30T02:27:42.2237918Z",
              "execution_finish_time": "2022-03-30T02:27:42.3635813Z"
            },
            "text/plain": "StatementMeta(SparkPool01, 0, 41, Finished, Available)"
          },
          "metadata": {}
        }
      ],
      "execution_count": 41,
      "metadata": {
        "jupyter": {
          "source_hidden": false,
          "outputs_hidden": false
        },
        "nteract": {
          "transient": {
            "deleting": false
          }
        },
        "microsoft": {}
      }
    },
    {
      "cell_type": "code",
      "source": [
        "# new schema\r\n",
        "\r\n",
        "df2.printSchema()\r\n"
      ],
      "outputs": [
        {
          "output_type": "display_data",
          "data": {
            "application/vnd.livy.statement-meta+json": {
              "spark_pool": "SparkPool01",
              "session_id": 0,
              "statement_id": 42,
              "state": "finished",
              "livy_statement_state": "available",
              "queued_time": "2022-03-30T02:27:46.2669778Z",
              "session_start_time": null,
              "execution_start_time": "2022-03-30T02:27:46.3628195Z",
              "execution_finish_time": "2022-03-30T02:27:46.5079897Z"
            },
            "text/plain": "StatementMeta(SparkPool01, 0, 42, Finished, Available)"
          },
          "metadata": {}
        },
        {
          "output_type": "stream",
          "name": "stdout",
          "text": [
            "root\n |-- Utilization_Type: string (nullable = true)\n |-- State: string (nullable = true)\n |-- NDC: long (nullable = true)\n |-- Labeler_Code: integer (nullable = true)\n |-- Product_Code: integer (nullable = true)\n |-- Package_Size: integer (nullable = true)\n |-- Year: integer (nullable = true)\n |-- Quarter: integer (nullable = true)\n |-- Supression_Used: boolean (nullable = true)\n |-- Product_Name: string (nullable = true)\n |-- Units_Reimbursed: double (nullable = true)\n |-- Number_of_Prescriptions: integer (nullable = true)\n |-- Total_Amount_Reimbursed: double (nullable = true)\n |-- Medicaid_Amount_Reimbursed: double (nullable = true)\n |-- Non_Medicaid_Amount_Reimbursed: double (nullable = true)"
          ]
        }
      ],
      "execution_count": 42,
      "metadata": {
        "jupyter": {
          "source_hidden": false,
          "outputs_hidden": false
        },
        "nteract": {
          "transient": {
            "deleting": false
          }
        }
      }
    },
    {
      "cell_type": "markdown",
      "source": [
        "### Create temp table for downstream querying"
      ],
      "metadata": {
        "nteract": {
          "transient": {
            "deleting": false
          }
        }
      }
    },
    {
      "cell_type": "code",
      "source": [
        "#df2.write.saveAsTable(\"tb1\")"
      ],
      "outputs": [
        {
          "output_type": "display_data",
          "data": {
            "application/vnd.livy.statement-meta+json": {
              "spark_pool": "SparkPool01",
              "session_id": 0,
              "statement_id": 43,
              "state": "finished",
              "livy_statement_state": "available",
              "queued_time": "2022-03-30T02:27:51.3853165Z",
              "session_start_time": null,
              "execution_start_time": "2022-03-30T02:27:51.5120612Z",
              "execution_finish_time": "2022-03-30T02:27:51.6682828Z"
            },
            "text/plain": "StatementMeta(SparkPool01, 0, 43, Finished, Available)"
          },
          "metadata": {}
        },
        {
          "output_type": "error",
          "ename": "AnalysisException",
          "evalue": "Table `tb1` already exists.;",
          "traceback": [
            "AnalysisException: Table `tb1` already exists.;",
            "Traceback (most recent call last):\n",
            "  File \"/opt/spark/python/lib/pyspark.zip/pyspark/sql/readwriter.py\", line 781, in saveAsTable\n    self._jwrite.saveAsTable(name)\n",
            "  File \"/opt/spark/python/lib/py4j-0.10.7-src.zip/py4j/java_gateway.py\", line 1257, in __call__\n    answer, self.gateway_client, self.target_id, self.name)\n",
            "  File \"/opt/spark/python/lib/pyspark.zip/pyspark/sql/utils.py\", line 75, in deco\n    raise AnalysisException(s.split(': ', 1)[1], stackTrace)\n",
            "pyspark.sql.utils.AnalysisException: Table `tb1` already exists.;\n"
          ]
        }
      ],
      "execution_count": 43,
      "metadata": {
        "jupyter": {
          "source_hidden": false,
          "outputs_hidden": false
        },
        "nteract": {
          "transient": {
            "deleting": false
          }
        }
      }
    },
    {
      "cell_type": "code",
      "source": [
        "# temp view\r\n",
        "\r\n",
        "df2.createOrReplaceTempView(\"tb1\")"
      ],
      "outputs": [
        {
          "output_type": "display_data",
          "data": {
            "application/vnd.livy.statement-meta+json": {
              "spark_pool": "SparkPool01",
              "session_id": 0,
              "statement_id": 44,
              "state": "finished",
              "livy_statement_state": "available",
              "queued_time": "2022-03-30T02:28:35.8383291Z",
              "session_start_time": null,
              "execution_start_time": "2022-03-30T02:28:35.9377096Z",
              "execution_finish_time": "2022-03-30T02:28:36.147714Z"
            },
            "text/plain": "StatementMeta(SparkPool01, 0, 44, Finished, Available)"
          },
          "metadata": {}
        }
      ],
      "execution_count": 44,
      "metadata": {
        "jupyter": {
          "source_hidden": false,
          "outputs_hidden": false
        },
        "nteract": {
          "transient": {
            "deleting": false
          }
        }
      }
    },
    {
      "cell_type": "markdown",
      "source": [
        "### Get top prescriptions by product from 2018-2021"
      ],
      "metadata": {
        "nteract": {
          "transient": {
            "deleting": false
          }
        }
      }
    },
    {
      "cell_type": "code",
      "source": [
        "# top Rx by product - 2018-2020\r\n",
        "\r\n",
        "display(spark.sql(\"select Product_Name, sum(Number_of_Prescriptions) \\\r\n",
        "    from tb1 \\\r\n",
        "    where Product_Name <> 'UNKNOWN' \\\r\n",
        "    group by Product_Name \\\r\n",
        "    order by sum(Number_of_Prescriptions) desc\").limit(25))"
      ],
      "outputs": [
        {
          "output_type": "display_data",
          "data": {
            "application/vnd.livy.statement-meta+json": {
              "spark_pool": "SparkPool01",
              "session_id": 0,
              "statement_id": 45,
              "state": "finished",
              "livy_statement_state": "available",
              "queued_time": "2022-03-30T02:28:39.8088067Z",
              "session_start_time": null,
              "execution_start_time": "2022-03-30T02:28:39.9048933Z",
              "execution_finish_time": "2022-03-30T02:28:46.7166145Z"
            },
            "text/plain": "StatementMeta(SparkPool01, 0, 45, Finished, Available)"
          },
          "metadata": {}
        },
        {
          "output_type": "display_data",
          "data": {
            "application/vnd.synapse.widget-view+json": {
              "widget_id": "dd40c89d-e63d-4209-bef0-4f48aa84d16d",
              "widget_type": "Synapse.DataFrame"
            },
            "text/plain": "SynapseWidget(Synapse.DataFrame, dd40c89d-e63d-4209-bef0-4f48aa84d16d)"
          },
          "metadata": {}
        }
      ],
      "execution_count": 45,
      "metadata": {
        "jupyter": {
          "source_hidden": false,
          "outputs_hidden": false
        },
        "nteract": {
          "transient": {
            "deleting": false
          }
        },
        "collapsed": false
      }
    },
    {
      "cell_type": "markdown",
      "source": [
        "### Note that Albuterol (respiratory inhaler) had one of the highest prespription counts between 2018-2021.  It was a common drug used to treat COVID-19 symptoms, such as breathing difficulties.  Let's try to find additional trends by looking a little closer at the top prescriptions in 2020."
      ],
      "metadata": {
        "nteract": {
          "transient": {
            "deleting": false
          }
        }
      }
    },
    {
      "cell_type": "code",
      "source": [
        "# top Rx by product - 2020\r\n",
        "\r\n",
        "display(spark.sql(\"select Product_Name, sum(Number_of_Prescriptions) \\\r\n",
        "    from tb1 \\\r\n",
        "    where Year = '2020' \\\r\n",
        "    and Product_Name <> 'UNKNOWN' \\\r\n",
        "    group by Product_Name \\\r\n",
        "    order by sum(Number_of_Prescriptions) desc\").limit(50))"
      ],
      "outputs": [
        {
          "output_type": "display_data",
          "data": {
            "application/vnd.livy.statement-meta+json": {
              "spark_pool": "SparkPool01",
              "session_id": 0,
              "statement_id": 46,
              "state": "finished",
              "livy_statement_state": "available",
              "queued_time": "2022-03-30T02:28:56.8220679Z",
              "session_start_time": null,
              "execution_start_time": "2022-03-30T02:28:56.9334802Z",
              "execution_finish_time": "2022-03-30T02:29:02.2243306Z"
            },
            "text/plain": "StatementMeta(SparkPool01, 0, 46, Finished, Available)"
          },
          "metadata": {}
        },
        {
          "output_type": "display_data",
          "data": {
            "application/vnd.synapse.widget-view+json": {
              "widget_id": "24d8da50-058c-4060-869f-d30a734cab02",
              "widget_type": "Synapse.DataFrame"
            },
            "text/plain": "SynapseWidget(Synapse.DataFrame, 24d8da50-058c-4060-869f-d30a734cab02)"
          },
          "metadata": {}
        }
      ],
      "execution_count": 46,
      "metadata": {
        "jupyter": {
          "source_hidden": false,
          "outputs_hidden": false
        },
        "nteract": {
          "transient": {
            "deleting": false
          }
        },
        "collapsed": false
      }
    },
    {
      "cell_type": "markdown",
      "source": [
        "### In addition to using Albuterol to treat common COVID-19 symptoms, Corticosteroids (e.g., Dexamethasone, Prednisone, Methylprednisolone, Hydrocortisone) were also used to control inflammation in severe cases*.  Let's look at these drug trends from 2018-2021.  "
      ],
      "metadata": {
        "nteract": {
          "transient": {
            "deleting": false
          }
        }
      }
    },
    {
      "cell_type": "code",
      "source": [
        "# top Rx by product by year (Albuterol + Corticosteroids) - 2018-2021\r\n",
        "\r\n",
        "# methyprednisolone - Brand Names: A-Methapred, DEPO-Medrol, SOLU-Medrol. See https://www.drugs.com/mtm/methylprednisolone-injection.html\r\n",
        "# hydrocortisone - Brand Names: Solu-CORTEF.  See https://www.drugs.com/mtm/solu-cortef-injection.html\r\n",
        "\r\n",
        "display(spark.sql(\"select Product_Name, Year, sum(Number_of_Prescriptions) \\\r\n",
        "                   from tb1 \\\r\n",
        "                   where Product_Name LIKE 'ALBUTEROL%' \\\r\n",
        "                   OR \\\r\n",
        "                   Product_Name LIKE ('DEXAMETHA%') \\\r\n",
        "                   OR \\\r\n",
        "                   Product_Name LIKE ('PREDNISON%') \\\r\n",
        "                   OR \\\r\n",
        "                   Product_Name LIKE ('A-METHA%') \\\r\n",
        "                   OR \\\r\n",
        "                   Product_Name LIKE ('SOLU-MEDR%') \\\r\n",
        "                   OR \\\r\n",
        "                   Product_Name LIKE ('DEPO-MEDR%') \\\r\n",
        "                   OR \\\r\n",
        "                   Product_Name LIKE ('SOLU-CORTE%') \\\r\n",
        "                   group by Product_Name, Year \\\r\n",
        "                   order by Year asc, Product_Name asc, sum(Number_of_Prescriptions) desc\"))"
      ],
      "outputs": [
        {
          "output_type": "display_data",
          "data": {
            "application/vnd.livy.statement-meta+json": {
              "spark_pool": "SparkPool01",
              "session_id": 0,
              "statement_id": 62,
              "state": "finished",
              "livy_statement_state": "available",
              "queued_time": "2022-03-30T02:52:15.6462494Z",
              "session_start_time": null,
              "execution_start_time": "2022-03-30T02:52:15.7945227Z",
              "execution_finish_time": "2022-03-30T02:52:22.6210782Z"
            },
            "text/plain": "StatementMeta(SparkPool01, 0, 62, Finished, Available)"
          },
          "metadata": {}
        },
        {
          "output_type": "display_data",
          "data": {
            "application/vnd.synapse.widget-view+json": {
              "widget_id": "43e0c4a1-6a2d-495c-a69f-ee53555f1b3b",
              "widget_type": "Synapse.DataFrame"
            },
            "text/plain": "SynapseWidget(Synapse.DataFrame, 43e0c4a1-6a2d-495c-a69f-ee53555f1b3b)"
          },
          "metadata": {}
        }
      ],
      "execution_count": 61,
      "metadata": {
        "jupyter": {
          "source_hidden": false,
          "outputs_hidden": false
        },
        "nteract": {
          "transient": {
            "deleting": false
          }
        },
        "collapsed": false
      }
    },
    {
      "cell_type": "markdown",
      "source": [
        "### Albuterol + Corticosteroid trends for 2020 only."
      ],
      "metadata": {
        "nteract": {
          "transient": {
            "deleting": false
          }
        }
      }
    },
    {
      "cell_type": "code",
      "source": [
        "# top Rx by product by year quarter (Albuterol + Corticosteroids) - 2020\r\n",
        "\r\n",
        "display(spark.sql(\"select Product_Name, Year, Quarter, sum(Number_of_Prescriptions) \\\r\n",
        "                  from tb1 \\\r\n",
        "                  where Year = '2020' \\\r\n",
        "                  and Product_Name LIKE ('ALBUTER%') \\\r\n",
        "                        OR \\\r\n",
        "                        Product_Name LIKE ('DEXAMETH%') \\\r\n",
        "                        OR \\\r\n",
        "                        Product_Name LIKE ('PREDNISON%') \\\r\n",
        "                        OR \\\r\n",
        "                        Product_Name LIKE ('A-METHA%') \\\r\n",
        "                        OR \\\r\n",
        "                        Product_Name LIKE ('SOLU-MEDR%') \\\r\n",
        "                        OR \\\r\n",
        "                        Product_Name LIKE ('DEPO-MEDR%') \\\r\n",
        "                        OR \\\r\n",
        "                        Product_Name LIKE ('SOLU-CORTE%') \\\r\n",
        "                  group by Product_Name, Year, Quarter \\\r\n",
        "                  order by Product_Name asc, sum(Number_of_Prescriptions) desc\"))"
      ],
      "outputs": [
        {
          "output_type": "display_data",
          "data": {
            "application/vnd.livy.statement-meta+json": {
              "spark_pool": "SparkPool01",
              "session_id": 0,
              "statement_id": 48,
              "state": "finished",
              "livy_statement_state": "available",
              "queued_time": "2022-03-30T02:29:51.0402645Z",
              "session_start_time": null,
              "execution_start_time": "2022-03-30T02:29:51.2261263Z",
              "execution_finish_time": "2022-03-30T02:29:58.1254771Z"
            },
            "text/plain": "StatementMeta(SparkPool01, 0, 48, Finished, Available)"
          },
          "metadata": {}
        },
        {
          "output_type": "display_data",
          "data": {
            "application/vnd.synapse.widget-view+json": {
              "widget_id": "cbadd871-48ad-4138-8c59-d3b0c5eb84e1",
              "widget_type": "Synapse.DataFrame"
            },
            "text/plain": "SynapseWidget(Synapse.DataFrame, cbadd871-48ad-4138-8c59-d3b0c5eb84e1)"
          },
          "metadata": {}
        }
      ],
      "execution_count": 48,
      "metadata": {
        "jupyter": {
          "source_hidden": false,
          "outputs_hidden": false
        },
        "nteract": {
          "transient": {
            "deleting": false
          }
        },
        "collapsed": false
      }
    },
    {
      "cell_type": "markdown",
      "source": [
        "## Pre-process the data"
      ],
      "metadata": {
        "nteract": {
          "transient": {
            "deleting": false
          }
        }
      }
    },
    {
      "cell_type": "markdown",
      "source": [
        "### We've noted some interesting Rx trends among Albuterol + Corticosteroid drugs throughout 2020.   Note the drop in Albuterol Rx from Q1 to Q4.  Prednisone was also more widely prescribed vs other Corticosteroids.  We will consolidate these product groups for cleaner reporting."
      ],
      "metadata": {
        "nteract": {
          "transient": {
            "deleting": false
          }
        }
      }
    },
    {
      "cell_type": "code",
      "source": [
        "# check for similar Corticosteroid Product_Names\r\n",
        "\r\n",
        "display(spark.sql(\"select DISTINCT Product_Name, NDC \\\r\n",
        "                    from tb1 \\\r\n",
        "                    where Product_Name LIKE ('ALBUTER%') \\\r\n",
        "                        OR \\\r\n",
        "                        Product_Name LIKE ('DEXAMETHA%') \\\r\n",
        "                        OR \\\r\n",
        "                        Product_Name LIKE ('PREDNISON%') \\\r\n",
        "                        OR \\\r\n",
        "                        Product_Name LIKE ('A-METHA%') \\\r\n",
        "                        OR \\\r\n",
        "                        Product_Name LIKE ('SOLU-MEDR%') \\\r\n",
        "                        OR \\\r\n",
        "                        Product_Name LIKE ('DEPO-MEDR%') \\\r\n",
        "                        OR \\\r\n",
        "                        Product_Name LIKE ('SOLU-CORTE%') \\\r\n",
        "                    order by Product_Name asc\" ))"
      ],
      "outputs": [
        {
          "output_type": "display_data",
          "data": {
            "application/vnd.livy.statement-meta+json": {
              "spark_pool": "SparkPool01",
              "session_id": 0,
              "statement_id": 49,
              "state": "finished",
              "livy_statement_state": "available",
              "queued_time": "2022-03-30T02:30:38.5057677Z",
              "session_start_time": null,
              "execution_start_time": "2022-03-30T02:30:38.6055496Z",
              "execution_finish_time": "2022-03-30T02:30:45.4393874Z"
            },
            "text/plain": "StatementMeta(SparkPool01, 0, 49, Finished, Available)"
          },
          "metadata": {}
        },
        {
          "output_type": "display_data",
          "data": {
            "application/vnd.synapse.widget-view+json": {
              "widget_id": "fed65717-fe00-4490-aaff-c8b892574545",
              "widget_type": "Synapse.DataFrame"
            },
            "text/plain": "SynapseWidget(Synapse.DataFrame, fed65717-fe00-4490-aaff-c8b892574545)"
          },
          "metadata": {}
        }
      ],
      "execution_count": 49,
      "metadata": {
        "jupyter": {
          "source_hidden": false,
          "outputs_hidden": false
        },
        "nteract": {
          "transient": {
            "deleting": false
          }
        },
        "collapsed": false
      }
    },
    {
      "cell_type": "markdown",
      "source": [
        "### Consolidate Product Names"
      ],
      "metadata": {
        "nteract": {
          "transient": {
            "deleting": false
          }
        }
      }
    },
    {
      "cell_type": "code",
      "source": [
        "# write spark table out as dataframe and consolidate Product_Name\r\n",
        "\r\n",
        "from pyspark.sql.functions import when\r\n",
        "\r\n",
        "df2 = spark.read.table(\"tb1\")\r\n",
        "\r\n",
        "df3 = df2.withColumn('Product_Name', \r\n",
        "      when(df2.Product_Name.startswith(\"DEXAMETHA\"), \"DEXAMETHASONE\") \\\r\n",
        "      .when(df2.Product_Name.startswith(\"PREDNISON\"), \"PREDNISONE\") \\\r\n",
        "      .when(df2.Product_Name == \"A-METHAPRED\", \"METHYLPREDNISOLONE\") \\\r\n",
        "      .when(df2.Product_Name == \"DEPO-MEDRO\", \"METHYLPREDNISOLONE\") \\\r\n",
        "      .when(df2.Product_Name == \"SOLU-MEDRO\", \"METHYLPREDNISOLONE\") \\\r\n",
        "      .when(df2.Product_Name == \"SOLU-CORTE\", \"HYDROCORTISONE\") \\\r\n",
        "      .otherwise(df2.Product_Name))\r\n",
        "\r\n",
        "#display(df3)\r\n"
      ],
      "outputs": [
        {
          "output_type": "display_data",
          "data": {
            "application/vnd.livy.statement-meta+json": {
              "spark_pool": "SparkPool01",
              "session_id": 0,
              "statement_id": 53,
              "state": "finished",
              "livy_statement_state": "available",
              "queued_time": "2022-03-30T02:32:24.5565457Z",
              "session_start_time": null,
              "execution_start_time": "2022-03-30T02:32:24.6656956Z",
              "execution_finish_time": "2022-03-30T02:32:24.8350307Z"
            },
            "text/plain": "StatementMeta(SparkPool01, 0, 53, Finished, Available)"
          },
          "metadata": {}
        }
      ],
      "execution_count": 53,
      "metadata": {
        "jupyter": {
          "source_hidden": false,
          "outputs_hidden": false
        },
        "nteract": {
          "transient": {
            "deleting": false
          }
        },
        "collapsed": false
      }
    },
    {
      "cell_type": "code",
      "source": [
        "# temporary view\r\n",
        "\r\n",
        "df3.createOrReplaceTempView(\"tb2\")"
      ],
      "outputs": [
        {
          "output_type": "display_data",
          "data": {
            "application/vnd.livy.statement-meta+json": {
              "spark_pool": "SparkPool01",
              "session_id": 0,
              "statement_id": 55,
              "state": "finished",
              "livy_statement_state": "available",
              "queued_time": "2022-03-30T02:32:45.3041905Z",
              "session_start_time": null,
              "execution_start_time": "2022-03-30T02:32:45.4328178Z",
              "execution_finish_time": "2022-03-30T02:32:45.5861218Z"
            },
            "text/plain": "StatementMeta(SparkPool01, 0, 55, Finished, Available)"
          },
          "metadata": {}
        }
      ],
      "execution_count": 55,
      "metadata": {
        "jupyter": {
          "source_hidden": false,
          "outputs_hidden": false
        },
        "nteract": {
          "transient": {
            "deleting": false
          }
        }
      }
    },
    {
      "cell_type": "code",
      "source": [
        "# view after operation\r\n",
        "\r\n",
        "display(spark.sql(\"select DISTINCT Product_Name \\\r\n",
        "                   from tb2 \\\r\n",
        "                   where Product_Name =='ALBUTEROL' \\\r\n",
        "                         OR \\\r\n",
        "                         Product_Name =='DEXAMETHASONE' \\\r\n",
        "                         OR \\\r\n",
        "                         Product_Name == 'PREDNISONE' \\\r\n",
        "                         OR \\\r\n",
        "                         Product_Name == 'METHYLPREDNISOLONE' \\\r\n",
        "                         OR \\\r\n",
        "                         Product_Name == 'HYDROCORTISONE' \\\r\n",
        "                    order by Product_Name asc\" ))"
      ],
      "outputs": [
        {
          "output_type": "display_data",
          "data": {
            "application/vnd.livy.statement-meta+json": {
              "spark_pool": "SparkPool01",
              "session_id": 0,
              "statement_id": 56,
              "state": "finished",
              "livy_statement_state": "available",
              "queued_time": "2022-03-30T02:32:47.7649902Z",
              "session_start_time": null,
              "execution_start_time": "2022-03-30T02:32:47.8717634Z",
              "execution_finish_time": "2022-03-30T02:32:55.4628161Z"
            },
            "text/plain": "StatementMeta(SparkPool01, 0, 56, Finished, Available)"
          },
          "metadata": {}
        },
        {
          "output_type": "display_data",
          "data": {
            "application/vnd.synapse.widget-view+json": {
              "widget_id": "d36d2568-7293-421a-92e9-66565e502d5d",
              "widget_type": "Synapse.DataFrame"
            },
            "text/plain": "SynapseWidget(Synapse.DataFrame, d36d2568-7293-421a-92e9-66565e502d5d)"
          },
          "metadata": {}
        }
      ],
      "execution_count": 56,
      "metadata": {
        "jupyter": {
          "source_hidden": false,
          "outputs_hidden": false
        },
        "nteract": {
          "transient": {
            "deleting": false
          }
        },
        "collapsed": false
      }
    },
    {
      "cell_type": "markdown",
      "source": [
        "### Re-run query (Albuterol + Corticosteroid trends for 2020 only.)"
      ],
      "metadata": {
        "nteract": {
          "transient": {
            "deleting": false
          }
        }
      }
    },
    {
      "cell_type": "code",
      "source": [
        "# run query again\r\n",
        "\r\n",
        "display(spark.sql(\"select Product_Name, Year, Quarter, sum(Number_of_Prescriptions) \\\r\n",
        "                   from tb2 \\\r\n",
        "                   where Year = '2020' \\\r\n",
        "                   and Product_Name =='ALBUTEROL' \\\r\n",
        "                         OR \\\r\n",
        "                         Product_Name =='DEXAMETHASONE' \\\r\n",
        "                         OR \\\r\n",
        "                         Product_Name == 'PREDNISONE' \\\r\n",
        "                         OR \\\r\n",
        "                         Product_Name == 'METHYLPREDNISOLONE' \\\r\n",
        "                         OR \\\r\n",
        "                         Product_Name == 'HYDROCORTISONE' \\\r\n",
        "                   group by Product_Name, Year, Quarter \\\r\n",
        "                   order by Product_Name asc, sum(Number_of_Prescriptions) desc\"))"
      ],
      "outputs": [
        {
          "output_type": "display_data",
          "data": {
            "application/vnd.livy.statement-meta+json": {
              "spark_pool": "SparkPool01",
              "session_id": 0,
              "statement_id": 57,
              "state": "finished",
              "livy_statement_state": "available",
              "queued_time": "2022-03-30T02:32:59.6950729Z",
              "session_start_time": null,
              "execution_start_time": "2022-03-30T02:32:59.7969269Z",
              "execution_finish_time": "2022-03-30T02:33:08.4974396Z"
            },
            "text/plain": "StatementMeta(SparkPool01, 0, 57, Finished, Available)"
          },
          "metadata": {}
        },
        {
          "output_type": "display_data",
          "data": {
            "application/vnd.synapse.widget-view+json": {
              "widget_id": "60eb29c9-133a-47b7-a69c-991a432fd9ac",
              "widget_type": "Synapse.DataFrame"
            },
            "text/plain": "SynapseWidget(Synapse.DataFrame, 60eb29c9-133a-47b7-a69c-991a432fd9ac)"
          },
          "metadata": {}
        }
      ],
      "execution_count": 57,
      "metadata": {
        "jupyter": {
          "source_hidden": false,
          "outputs_hidden": false
        },
        "nteract": {
          "transient": {
            "deleting": false
          }
        },
        "collapsed": false
      }
    },
    {
      "cell_type": "code",
      "source": [
        "# save to ADLS2 as parquet\r\n",
        "\r\n",
        "df_all_mod.write.parquet(f\"abfss://{container_name}@{storage_account_name}.dfs.core.windows.net/SDUD/State_Drug_Utilization_Data_All.parquet\")"
      ],
      "outputs": [
        {
          "output_type": "display_data",
          "data": {
            "application/vnd.livy.statement-meta+json": {
              "spark_pool": null,
              "session_id": null,
              "statement_id": null,
              "state": "cancelled",
              "livy_statement_state": null,
              "queued_time": "2022-03-30T02:24:37.42927Z",
              "session_start_time": null,
              "execution_start_time": null,
              "execution_finish_time": "2022-03-30T02:25:10.529999Z"
            },
            "text/plain": "StatementMeta(, , , Cancelled, )"
          },
          "metadata": {}
        }
      ],
      "execution_count": null,
      "metadata": {
        "jupyter": {
          "source_hidden": false,
          "outputs_hidden": false
        },
        "nteract": {
          "transient": {
            "deleting": false
          }
        }
      }
    },
    {
      "cell_type": "markdown",
      "source": [
        "## Write Spark dataframe into SQL Pool table"
      ],
      "metadata": {
        "nteract": {
          "transient": {
            "deleting": false
          }
        }
      }
    },
    {
      "cell_type": "code",
      "source": [
        "%%spark\r\n",
        "//create Scala dataframe - use %%spark magic command\r\n",
        "\r\n",
        "val df_scala = spark.sql(\"SELECT * FROM tb2\")"
      ],
      "outputs": [
        {
          "output_type": "display_data",
          "data": {
            "application/vnd.livy.statement-meta+json": {
              "spark_pool": "SparkPool01",
              "session_id": 0,
              "statement_id": 59,
              "state": "finished",
              "livy_statement_state": "available",
              "queued_time": "2022-03-30T02:34:40.3149983Z",
              "session_start_time": null,
              "execution_start_time": "2022-03-30T02:34:42.4690338Z",
              "execution_finish_time": "2022-03-30T02:34:42.9832916Z"
            },
            "text/plain": "StatementMeta(SparkPool01, 0, 59, Finished, Available)"
          },
          "metadata": {}
        },
        {
          "output_type": "stream",
          "name": "stdout",
          "text": [
            "df_scala: org.apache.spark.sql.DataFrame = [Utilization_Type: string, State: string ... 13 more fields]\n"
          ]
        }
      ],
      "execution_count": 58,
      "metadata": {
        "jupyter": {
          "source_hidden": false,
          "outputs_hidden": false
        },
        "nteract": {
          "transient": {
            "deleting": false
          }
        },
        "microsoft": {
          "language": "scala"
        }
      }
    },
    {
      "cell_type": "code",
      "source": [
        "%%spark\r\n",
        "// write the dataframe into sql pool \r\n",
        "\r\n",
        "import org.apache.spark.sql.SqlAnalyticsConnector._\r\n",
        "import com.microsoft.spark.sqlanalytics.utils.Constants\r\n",
        "\r\n",
        "val sql_pool_name = \"SQLPool01\"\r\n",
        "\r\n",
        "df_scala.write.sqlanalytics(s\"$sql_pool_name.dbo.mergeSDUD\", Constants.INTERNAL)\r\n"
      ],
      "outputs": [
        {
          "output_type": "display_data",
          "data": {
            "application/vnd.livy.statement-meta+json": {
              "spark_pool": "SparkPool01",
              "session_id": 0,
              "statement_id": 60,
              "state": "finished",
              "livy_statement_state": "available",
              "queued_time": "2022-03-30T02:34:47.1000302Z",
              "session_start_time": null,
              "execution_start_time": "2022-03-30T02:34:47.4640084Z",
              "execution_finish_time": "2022-03-30T02:48:42.2760989Z"
            },
            "text/plain": "StatementMeta(SparkPool01, 0, 60, Finished, Available)"
          },
          "metadata": {}
        },
        {
          "output_type": "stream",
          "name": "stdout",
          "text": [
            "import org.apache.spark.sql.SqlAnalyticsConnector._\nimport com.microsoft.spark.sqlanalytics.utils.Constants\nsql_pool_name: String = SQLPool01\n"
          ]
        }
      ],
      "execution_count": 59,
      "metadata": {
        "jupyter": {
          "source_hidden": false,
          "outputs_hidden": false
        },
        "nteract": {
          "transient": {
            "deleting": false
          }
        },
        "microsoft": {
          "language": "scala"
        }
      }
    }
  ],
  "metadata": {
    "kernelspec": {
      "name": "synapse_pyspark",
      "language": "Python",
      "display_name": "Synapse PySpark"
    },
    "language_info": {
      "name": "python"
    },
    "kernel_info": {
      "name": "synapse_pyspark"
    },
    "description": null,
    "save_output": true,
    "synapse_widget": {
      "version": "0.1",
      "state": {
        "cc949b13-180d-4a60-97ee-254fac42c0e5": {
          "type": "Synapse.DataFrame",
          "sync_state": {
            "table": {
              "rows": [
                {
                  "0": "FFSU",
                  "1": "MN",
                  "2": "43547035611",
                  "3": "43547",
                  "4": "356",
                  "5": "11",
                  "6": "2018",
                  "7": "3",
                  "8": "false",
                  "9": "LISINOPRIL",
                  "10": "8271.0",
                  "11": "283",
                  "12": "1407.9",
                  "13": "1258.43",
                  "14": "149.47"
                },
                {
                  "0": "MCOU",
                  "1": "KS",
                  "2": "378534001",
                  "3": "378",
                  "4": "5340",
                  "5": "1",
                  "6": "2018",
                  "7": "2",
                  "8": "false",
                  "9": "DILTIAZEM",
                  "10": "390.0",
                  "11": "13",
                  "12": "358.75",
                  "13": "340.75",
                  "14": "18.0"
                },
                {
                  "0": "MCOU",
                  "1": "NV",
                  "2": "591354601",
                  "3": "591",
                  "4": "3546",
                  "5": "1",
                  "6": "2018",
                  "7": "3",
                  "8": "false",
                  "9": "BUTALBITAL",
                  "10": "910.0",
                  "11": "16",
                  "12": "1392.46",
                  "13": "1392.46",
                  "14": "0.0"
                },
                {
                  "0": "MCOU",
                  "1": "PA",
                  "2": "65862000505",
                  "3": "65862",
                  "4": "5",
                  "5": "5",
                  "6": "2018",
                  "7": "4",
                  "8": "false",
                  "9": "CITALOPRAM",
                  "10": "17645.0",
                  "11": "561",
                  "12": "1620.3",
                  "13": "1501.07",
                  "14": "119.23"
                },
                {
                  "0": "MCOU",
                  "1": "KY",
                  "2": "65862042001",
                  "3": "65862",
                  "4": "420",
                  "5": "1",
                  "6": "2018",
                  "7": "1",
                  "8": "false",
                  "9": "SULFAMETHO",
                  "10": "4965.0",
                  "11": "271",
                  "12": "339.53",
                  "13": "339.27",
                  "14": "0.26"
                },
                {
                  "0": "FFSU",
                  "1": "NY",
                  "2": "781572001",
                  "3": "781",
                  "4": "5720",
                  "5": "1",
                  "6": "2018",
                  "7": "1",
                  "8": "false",
                  "9": "POTASSIUM",
                  "10": "8676.0",
                  "11": "185",
                  "12": "4131.59",
                  "13": "4001.81",
                  "14": "129.78"
                },
                {
                  "0": "FFSU",
                  "1": "CO",
                  "2": "555087302",
                  "3": "555",
                  "4": "873",
                  "5": "2",
                  "6": "2018",
                  "7": "1",
                  "8": "false",
                  "9": "MEDROXYPRO",
                  "10": "2251.0",
                  "11": "64",
                  "12": "694.92",
                  "13": "694.92",
                  "14": "0.0"
                },
                {
                  "0": "MCOU",
                  "1": "GA",
                  "2": "68727010001",
                  "3": "68727",
                  "4": "100",
                  "5": "1",
                  "6": "2018",
                  "7": "3",
                  "8": "false",
                  "9": "XYREM",
                  "10": "7290.0",
                  "11": "15",
                  "12": "188464.3",
                  "13": "188464.3",
                  "14": "0.0"
                },
                {
                  "0": "MCOU",
                  "1": "MN",
                  "2": "51079010501",
                  "3": "51079",
                  "4": "105",
                  "5": "1",
                  "6": "2018",
                  "7": "2",
                  "8": "true",
                  "9": "FOLIC ACID"
                },
                {
                  "0": "MCOU",
                  "1": "IA",
                  "2": "68001016200",
                  "3": "68001",
                  "4": "162",
                  "5": "0",
                  "6": "2018",
                  "7": "3",
                  "8": "false",
                  "9": "Promethazi",
                  "10": "1056.0",
                  "11": "40",
                  "12": "48.29",
                  "13": "48.29",
                  "14": "0.0"
                }
              ],
              "schema": [
                {
                  "key": "0",
                  "name": "Utilization Type",
                  "type": "string"
                },
                {
                  "key": "1",
                  "name": "State",
                  "type": "string"
                },
                {
                  "key": "2",
                  "name": "NDC",
                  "type": "bigint"
                },
                {
                  "key": "3",
                  "name": "Labeler Code",
                  "type": "int"
                },
                {
                  "key": "4",
                  "name": "Product Code",
                  "type": "int"
                },
                {
                  "key": "5",
                  "name": "Package Size",
                  "type": "int"
                },
                {
                  "key": "6",
                  "name": "Year",
                  "type": "int"
                },
                {
                  "key": "7",
                  "name": "Quarter",
                  "type": "int"
                },
                {
                  "key": "8",
                  "name": "Suppression Used",
                  "type": "boolean"
                },
                {
                  "key": "9",
                  "name": "Product Name",
                  "type": "string"
                },
                {
                  "key": "10",
                  "name": "Units Reimbursed",
                  "type": "double"
                },
                {
                  "key": "11",
                  "name": "Number of Prescriptions",
                  "type": "int"
                },
                {
                  "key": "12",
                  "name": "Total Amount Reimbursed",
                  "type": "double"
                },
                {
                  "key": "13",
                  "name": "Medicaid Amount Reimbursed",
                  "type": "double"
                },
                {
                  "key": "14",
                  "name": "Non Medicaid Amount Reimbursed",
                  "type": "double"
                }
              ],
              "truncated": false
            },
            "isSummary": false,
            "language": "scala"
          },
          "persist_state": {
            "view": {
              "type": "details",
              "tableOptions": {},
              "chartOptions": {
                "chartType": "bar",
                "aggregationType": "sum",
                "categoryFieldKeys": [
                  "0"
                ],
                "seriesFieldKeys": [
                  "2"
                ],
                "isStacked": false
              }
            }
          }
        },
        "dd40c89d-e63d-4209-bef0-4f48aa84d16d": {
          "type": "Synapse.DataFrame",
          "sync_state": {
            "table": {
              "rows": [
                {
                  "0": "AMOXICILLI",
                  "1": "93837162"
                },
                {
                  "0": "IBUPROFEN",
                  "1": "83480679"
                },
                {
                  "0": "ATORVASTAT",
                  "1": "80934996"
                },
                {
                  "0": "LISINOPRIL",
                  "1": "80350626"
                },
                {
                  "0": "GABAPENTIN",
                  "1": "77613426"
                },
                {
                  "0": "ALBUTEROL",
                  "1": "71796936"
                },
                {
                  "0": "METFORMIN",
                  "1": "66953486"
                },
                {
                  "0": "CETIRIZINE",
                  "1": "63914750"
                },
                {
                  "0": "OMEPRAZOLE",
                  "1": "62780995"
                },
                {
                  "0": "FLUTICASON",
                  "1": "62758932"
                },
                {
                  "0": "AMLODIPINE",
                  "1": "56522090"
                },
                {
                  "0": "LORATADINE",
                  "1": "54626284"
                },
                {
                  "0": "LEVOTHYROX",
                  "1": "54307341"
                },
                {
                  "0": "SERTRALINE",
                  "1": "52842656"
                },
                {
                  "0": "MONTELUKAS",
                  "1": "49887026"
                },
                {
                  "0": "HYDROCODON",
                  "1": "48751026"
                },
                {
                  "0": "ONDANSETRO",
                  "1": "46636333"
                },
                {
                  "0": "TRAZODONE",
                  "1": "45204828"
                },
                {
                  "0": "METOPROLOL",
                  "1": "44374249"
                },
                {
                  "0": "VITAMIN D2",
                  "1": "40239313"
                },
                {
                  "0": "HYDROXYZIN",
                  "1": "37723755"
                },
                {
                  "0": "FLUOXETINE",
                  "1": "37597408"
                },
                {
                  "0": "AZITHROMYC",
                  "1": "36844288"
                },
                {
                  "0": "CLONIDINE",
                  "1": "34920848"
                },
                {
                  "0": "BUPROPION",
                  "1": "34460872"
                }
              ],
              "schema": [
                {
                  "key": "0",
                  "name": "Product_Name",
                  "type": "string"
                },
                {
                  "key": "1",
                  "name": "sum(Number_of_Prescriptions)",
                  "type": "bigint"
                }
              ],
              "truncated": false
            },
            "isSummary": false,
            "language": "scala"
          },
          "persist_state": {
            "view": {
              "type": "details",
              "tableOptions": {},
              "chartOptions": {
                "chartType": "bar",
                "aggregationType": "sum",
                "categoryFieldKeys": [
                  "0"
                ],
                "seriesFieldKeys": [
                  "1"
                ],
                "isStacked": false
              }
            }
          }
        },
        "24d8da50-058c-4060-869f-d30a734cab02": {
          "type": "Synapse.DataFrame",
          "sync_state": {
            "table": {
              "rows": [
                {
                  "0": "ALBUTEROL",
                  "1": "28316366"
                },
                {
                  "0": "ATORVASTAT",
                  "1": "25394201"
                },
                {
                  "0": "LISINOPRIL",
                  "1": "23433329"
                },
                {
                  "0": "GABAPENTIN",
                  "1": "23389867"
                },
                {
                  "0": "IBUPROFEN",
                  "1": "22824898"
                },
                {
                  "0": "AMOXICILLI",
                  "1": "22236180"
                },
                {
                  "0": "METFORMIN",
                  "1": "20375137"
                },
                {
                  "0": "OMEPRAZOLE",
                  "1": "19680320"
                },
                {
                  "0": "CETIRIZINE",
                  "1": "19026190"
                },
                {
                  "0": "FLUTICASON",
                  "1": "18798602"
                },
                {
                  "0": "AMLODIPINE",
                  "1": "16867442"
                },
                {
                  "0": "SERTRALINE",
                  "1": "16599336"
                },
                {
                  "0": "LORATADINE",
                  "1": "16017911"
                },
                {
                  "0": "LEVOTHYROX",
                  "1": "15331239"
                },
                {
                  "0": "MONTELUKAS",
                  "1": "14849797"
                },
                {
                  "0": "TRAZODONE",
                  "1": "14213334"
                },
                {
                  "0": "ONDANSETRO",
                  "1": "13343388"
                },
                {
                  "0": "METOPROLOL",
                  "1": "13161234"
                },
                {
                  "0": "HYDROCODON",
                  "1": "13070178"
                },
                {
                  "0": "HYDROXYZIN",
                  "1": "12817752"
                },
                {
                  "0": "VITAMIN D2",
                  "1": "12276052"
                },
                {
                  "0": "FLUOXETINE",
                  "1": "11827848"
                },
                {
                  "0": "CLONIDINE",
                  "1": "11038906"
                },
                {
                  "0": "BUPROPION",
                  "1": "10456481"
                },
                {
                  "0": "QUETIAPINE",
                  "1": "10374746"
                },
                {
                  "0": "ESCITALOPR",
                  "1": "10254788"
                },
                {
                  "0": "PREDNISONE",
                  "1": "9351620"
                },
                {
                  "0": "PANTOPRAZO",
                  "1": "9121018"
                },
                {
                  "0": "HYDROCHLOR",
                  "1": "9032807"
                },
                {
                  "0": "CYCLOBENZA",
                  "1": "8850240"
                },
                {
                  "0": "AZITHROMYC",
                  "1": "8664780"
                },
                {
                  "0": "TRIAMCINOL",
                  "1": "7995492"
                },
                {
                  "0": "BUPRENORPH",
                  "1": "7926397"
                },
                {
                  "0": "DEXTROAMPH",
                  "1": "7827829"
                },
                {
                  "0": "FAMOTIDINE",
                  "1": "7543584"
                },
                {
                  "0": "DULOXETINE",
                  "1": "7535305"
                },
                {
                  "0": "BUSPIRONE",
                  "1": "7332501"
                },
                {
                  "0": "ALPRAZOLAM",
                  "1": "7213585"
                },
                {
                  "0": "CLONAZEPAM",
                  "1": "7193235"
                },
                {
                  "0": "FUROSEMIDE",
                  "1": "7187686"
                },
                {
                  "0": "PROAIR HFA",
                  "1": "7065516"
                },
                {
                  "0": "LOSARTAN P",
                  "1": "6974989"
                },
                {
                  "0": "ARIPIPRAZO",
                  "1": "6908513"
                },
                {
                  "0": "LAMOTRIGIN",
                  "1": "6816249"
                },
                {
                  "0": "METHYLPHEN",
                  "1": "6713100"
                },
                {
                  "0": "CEPHALEXIN",
                  "1": "6657428"
                },
                {
                  "0": "FOLIC ACID",
                  "1": "6571161"
                },
                {
                  "0": "CITALOPRAM",
                  "1": "6358703"
                },
                {
                  "0": "GUANFACINE",
                  "1": "6322325"
                },
                {
                  "0": "RISPERIDON",
                  "1": "6316577"
                }
              ],
              "schema": [
                {
                  "key": "0",
                  "name": "Product_Name",
                  "type": "string"
                },
                {
                  "key": "1",
                  "name": "sum(Number_of_Prescriptions)",
                  "type": "bigint"
                }
              ],
              "truncated": false
            },
            "isSummary": false,
            "language": "scala"
          },
          "persist_state": {
            "view": {
              "type": "details",
              "tableOptions": {},
              "chartOptions": {
                "chartType": "bar",
                "aggregationType": "sum",
                "categoryFieldKeys": [
                  "0"
                ],
                "seriesFieldKeys": [
                  "1"
                ],
                "isStacked": false
              }
            }
          }
        },
        "cbadd871-48ad-4138-8c59-d3b0c5eb84e1": {
          "type": "Synapse.DataFrame",
          "sync_state": {
            "table": {
              "rows": [
                {
                  "0": "A-METHAPRE",
                  "1": "2019",
                  "2": "2",
                  "3": "46"
                },
                {
                  "0": "A-METHAPRE",
                  "1": "2020",
                  "2": "2",
                  "3": "33"
                },
                {
                  "0": "A-METHAPRE",
                  "1": "2019",
                  "2": "3",
                  "3": "32"
                },
                {
                  "0": "A-METHAPRE",
                  "1": "2019",
                  "2": "1",
                  "3": "30"
                },
                {
                  "0": "A-METHAPRE",
                  "1": "2020",
                  "2": "1",
                  "3": "26"
                },
                {
                  "0": "A-METHAPRE",
                  "1": "2018",
                  "2": "2",
                  "3": "21"
                },
                {
                  "0": "A-METHAPRE",
                  "1": "2018",
                  "2": "4",
                  "3": "20"
                },
                {
                  "0": "A-METHAPRE",
                  "1": "2018",
                  "2": "1",
                  "3": "18"
                },
                {
                  "0": "A-METHAPRE",
                  "1": "2018",
                  "2": "3",
                  "3": "17"
                },
                {
                  "0": "A-METHAPRE",
                  "1": "2020",
                  "2": "4"
                },
                {
                  "0": "A-METHAPRE",
                  "1": "2020",
                  "2": "3"
                },
                {
                  "0": "A-METHAPRE",
                  "1": "2019",
                  "2": "4"
                },
                {
                  "0": "A-METHAPRE",
                  "1": "2021",
                  "2": "1"
                },
                {
                  "0": "ALBUTEROL",
                  "1": "2020",
                  "2": "1",
                  "3": "8188072"
                },
                {
                  "0": "ALBUTEROL",
                  "1": "2020",
                  "2": "3",
                  "3": "6870387"
                },
                {
                  "0": "ALBUTEROL",
                  "1": "2020",
                  "2": "4",
                  "3": "6868337"
                },
                {
                  "0": "ALBUTEROL",
                  "1": "2020",
                  "2": "2",
                  "3": "6389570"
                },
                {
                  "0": "DEPO-MEDRO",
                  "1": "2018",
                  "2": "1",
                  "3": "383768"
                },
                {
                  "0": "DEPO-MEDRO",
                  "1": "2018",
                  "2": "2",
                  "3": "381104"
                },
                {
                  "0": "DEPO-MEDRO",
                  "1": "2019",
                  "2": "2",
                  "3": "361966"
                },
                {
                  "0": "DEPO-MEDRO",
                  "1": "2019",
                  "2": "3",
                  "3": "357850"
                },
                {
                  "0": "DEPO-MEDRO",
                  "1": "2018",
                  "2": "3",
                  "3": "357141"
                },
                {
                  "0": "DEPO-MEDRO",
                  "1": "2018",
                  "2": "4",
                  "3": "355566"
                },
                {
                  "0": "DEPO-MEDRO",
                  "1": "2019",
                  "2": "1",
                  "3": "348884"
                },
                {
                  "0": "DEPO-MEDRO",
                  "1": "2019",
                  "2": "4",
                  "3": "324299"
                },
                {
                  "0": "DEPO-MEDRO",
                  "1": "2020",
                  "2": "3",
                  "3": "284160"
                },
                {
                  "0": "DEPO-MEDRO",
                  "1": "2020",
                  "2": "1",
                  "3": "279247"
                },
                {
                  "0": "DEPO-MEDRO",
                  "1": "2020",
                  "2": "4",
                  "3": "271740"
                },
                {
                  "0": "DEPO-MEDRO",
                  "1": "2021",
                  "2": "1",
                  "3": "218146"
                },
                {
                  "0": "DEPO-MEDRO",
                  "1": "2020",
                  "2": "2",
                  "3": "216653"
                },
                {
                  "0": "DEXAMETHA",
                  "1": "2020",
                  "2": "4",
                  "3": "70445"
                },
                {
                  "0": "DEXAMETHA",
                  "1": "2021",
                  "2": "1",
                  "3": "59951"
                },
                {
                  "0": "DEXAMETHA",
                  "1": "2020",
                  "2": "1",
                  "3": "55598"
                },
                {
                  "0": "DEXAMETHA",
                  "1": "2019",
                  "2": "4",
                  "3": "54442"
                },
                {
                  "0": "DEXAMETHA",
                  "1": "2018",
                  "2": "4",
                  "3": "53655"
                },
                {
                  "0": "DEXAMETHA",
                  "1": "2018",
                  "2": "1",
                  "3": "50941"
                },
                {
                  "0": "DEXAMETHA",
                  "1": "2019",
                  "2": "1",
                  "3": "50557"
                },
                {
                  "0": "DEXAMETHA",
                  "1": "2019",
                  "2": "2",
                  "3": "49107"
                },
                {
                  "0": "DEXAMETHA",
                  "1": "2020",
                  "2": "3",
                  "3": "48317"
                },
                {
                  "0": "DEXAMETHA",
                  "1": "2019",
                  "2": "3",
                  "3": "46968"
                },
                {
                  "0": "DEXAMETHA",
                  "1": "2018",
                  "2": "2",
                  "3": "46413"
                },
                {
                  "0": "DEXAMETHA",
                  "1": "2018",
                  "2": "3",
                  "3": "43752"
                },
                {
                  "0": "DEXAMETHA",
                  "1": "2020",
                  "2": "2",
                  "3": "32627"
                },
                {
                  "0": "DEXAMETHAS",
                  "1": "2019",
                  "2": "4",
                  "3": "1023970"
                },
                {
                  "0": "DEXAMETHAS",
                  "1": "2018",
                  "2": "4",
                  "3": "922664"
                },
                {
                  "0": "DEXAMETHAS",
                  "1": "2019",
                  "2": "3",
                  "3": "921505"
                },
                {
                  "0": "DEXAMETHAS",
                  "1": "2020",
                  "2": "1",
                  "3": "915003"
                },
                {
                  "0": "DEXAMETHAS",
                  "1": "2019",
                  "2": "1",
                  "3": "913215"
                },
                {
                  "0": "DEXAMETHAS",
                  "1": "2019",
                  "2": "2",
                  "3": "912291"
                },
                {
                  "0": "DEXAMETHAS",
                  "1": "2020",
                  "2": "4",
                  "3": "841416"
                },
                {
                  "0": "DEXAMETHAS",
                  "1": "2018",
                  "2": "2",
                  "3": "821838"
                },
                {
                  "0": "DEXAMETHAS",
                  "1": "2018",
                  "2": "1",
                  "3": "817292"
                },
                {
                  "0": "DEXAMETHAS",
                  "1": "2018",
                  "2": "3",
                  "3": "802234"
                },
                {
                  "0": "DEXAMETHAS",
                  "1": "2020",
                  "2": "3",
                  "3": "768346"
                },
                {
                  "0": "DEXAMETHAS",
                  "1": "2021",
                  "2": "1",
                  "3": "720843"
                },
                {
                  "0": "DEXAMETHAS",
                  "1": "2020",
                  "2": "2",
                  "3": "585350"
                },
                {
                  "0": "PREDNISON",
                  "1": "2019",
                  "2": "4",
                  "3": "4410"
                },
                {
                  "0": "PREDNISON",
                  "1": "2018",
                  "2": "1",
                  "3": "4286"
                },
                {
                  "0": "PREDNISON",
                  "1": "2019",
                  "2": "1",
                  "3": "4236"
                },
                {
                  "0": "PREDNISON",
                  "1": "2018",
                  "2": "4",
                  "3": "4103"
                },
                {
                  "0": "PREDNISON",
                  "1": "2020",
                  "2": "1",
                  "3": "4081"
                },
                {
                  "0": "PREDNISON",
                  "1": "2019",
                  "2": "2",
                  "3": "3901"
                },
                {
                  "0": "PREDNISON",
                  "1": "2018",
                  "2": "2",
                  "3": "3647"
                },
                {
                  "0": "PREDNISON",
                  "1": "2018",
                  "2": "3",
                  "3": "3247"
                },
                {
                  "0": "PREDNISON",
                  "1": "2019",
                  "2": "3",
                  "3": "3241"
                },
                {
                  "0": "PREDNISON",
                  "1": "2020",
                  "2": "3",
                  "3": "1886"
                },
                {
                  "0": "PREDNISON",
                  "1": "2020",
                  "2": "4",
                  "3": "1788"
                },
                {
                  "0": "PREDNISON",
                  "1": "2021",
                  "2": "1",
                  "3": "1511"
                },
                {
                  "0": "PREDNISON",
                  "1": "2020",
                  "2": "2",
                  "3": "1509"
                },
                {
                  "0": "PREDNISONE",
                  "1": "2019",
                  "2": "1",
                  "3": "3083805"
                },
                {
                  "0": "PREDNISONE",
                  "1": "2019",
                  "2": "4",
                  "3": "3041900"
                },
                {
                  "0": "PREDNISONE",
                  "1": "2018",
                  "2": "1",
                  "3": "3027720"
                },
                {
                  "0": "PREDNISONE",
                  "1": "2018",
                  "2": "4",
                  "3": "2893862"
                },
                {
                  "0": "PREDNISONE",
                  "1": "2019",
                  "2": "2",
                  "3": "2875004"
                },
                {
                  "0": "PREDNISONE",
                  "1": "2020",
                  "2": "1",
                  "3": "2799199"
                },
                {
                  "0": "PREDNISONE",
                  "1": "2018",
                  "2": "2",
                  "3": "2735980"
                },
                {
                  "0": "PREDNISONE",
                  "1": "2019",
                  "2": "3",
                  "3": "2698928"
                },
                {
                  "0": "PREDNISONE",
                  "1": "2018",
                  "2": "3",
                  "3": "2551365"
                },
                {
                  "0": "PREDNISONE",
                  "1": "2020",
                  "2": "4",
                  "3": "2351609"
                },
                {
                  "0": "PREDNISONE",
                  "1": "2020",
                  "2": "3",
                  "3": "2244664"
                },
                {
                  "0": "PREDNISONE",
                  "1": "2021",
                  "2": "1",
                  "3": "2014299"
                },
                {
                  "0": "PREDNISONE",
                  "1": "2020",
                  "2": "2",
                  "3": "1956148"
                },
                {
                  "0": "SOLU-CORTE",
                  "1": "2019",
                  "2": "3",
                  "3": "17044"
                },
                {
                  "0": "SOLU-CORTE",
                  "1": "2020",
                  "2": "1",
                  "3": "16348"
                },
                {
                  "0": "SOLU-CORTE",
                  "1": "2019",
                  "2": "4",
                  "3": "15653"
                },
                {
                  "0": "SOLU-CORTE",
                  "1": "2020",
                  "2": "3",
                  "3": "15094"
                },
                {
                  "0": "SOLU-CORTE",
                  "1": "2019",
                  "2": "2",
                  "3": "14910"
                },
                {
                  "0": "SOLU-CORTE",
                  "1": "2018",
                  "2": "3",
                  "3": "14690"
                },
                {
                  "0": "SOLU-CORTE",
                  "1": "2018",
                  "2": "4",
                  "3": "13896"
                },
                {
                  "0": "SOLU-CORTE",
                  "1": "2018",
                  "2": "2",
                  "3": "13851"
                },
                {
                  "0": "SOLU-CORTE",
                  "1": "2020",
                  "2": "2",
                  "3": "13797"
                },
                {
                  "0": "SOLU-CORTE",
                  "1": "2020",
                  "2": "4",
                  "3": "13654"
                },
                {
                  "0": "SOLU-CORTE",
                  "1": "2018",
                  "2": "1",
                  "3": "13649"
                },
                {
                  "0": "SOLU-CORTE",
                  "1": "2019",
                  "2": "1",
                  "3": "13574"
                },
                {
                  "0": "SOLU-CORTE",
                  "1": "2021",
                  "2": "1",
                  "3": "12830"
                },
                {
                  "0": "SOLU-MEDRO",
                  "1": "2019",
                  "2": "4",
                  "3": "159439"
                },
                {
                  "0": "SOLU-MEDRO",
                  "1": "2019",
                  "2": "3",
                  "3": "157022"
                },
                {
                  "0": "SOLU-MEDRO",
                  "1": "2019",
                  "2": "1",
                  "3": "139232"
                },
                {
                  "0": "SOLU-MEDRO",
                  "1": "2018",
                  "2": "4",
                  "3": "138567"
                },
                {
                  "0": "SOLU-MEDRO",
                  "1": "2018",
                  "2": "3",
                  "3": "134587"
                },
                {
                  "0": "SOLU-MEDRO",
                  "1": "2019",
                  "2": "2",
                  "3": "134136"
                },
                {
                  "0": "SOLU-MEDRO",
                  "1": "2020",
                  "2": "1",
                  "3": "133602"
                },
                {
                  "0": "SOLU-MEDRO",
                  "1": "2018",
                  "2": "1",
                  "3": "131674"
                },
                {
                  "0": "SOLU-MEDRO",
                  "1": "2018",
                  "2": "2",
                  "3": "130941"
                },
                {
                  "0": "SOLU-MEDRO",
                  "1": "2020",
                  "2": "3",
                  "3": "109469"
                },
                {
                  "0": "SOLU-MEDRO",
                  "1": "2020",
                  "2": "4",
                  "3": "101473"
                },
                {
                  "0": "SOLU-MEDRO",
                  "1": "2020",
                  "2": "2",
                  "3": "89281"
                },
                {
                  "0": "SOLU-MEDRO",
                  "1": "2021",
                  "2": "1",
                  "3": "78877"
                }
              ],
              "schema": [
                {
                  "key": "0",
                  "name": "Product_Name",
                  "type": "string"
                },
                {
                  "key": "1",
                  "name": "Year",
                  "type": "int"
                },
                {
                  "key": "2",
                  "name": "Quarter",
                  "type": "int"
                },
                {
                  "key": "3",
                  "name": "sum(Number_of_Prescriptions)",
                  "type": "bigint"
                }
              ],
              "truncated": false
            },
            "isSummary": false,
            "language": "scala"
          },
          "persist_state": {
            "view": {
              "type": "details",
              "tableOptions": {},
              "chartOptions": {
                "chartType": "column",
                "aggregationType": "sum",
                "categoryFieldKeys": [
                  "0"
                ],
                "seriesFieldKeys": [
                  "3"
                ],
                "isStacked": false,
                "pivotFieldKey": "2"
              }
            }
          }
        },
        "fed65717-fe00-4490-aaff-c8b892574545": {
          "type": "Synapse.DataFrame",
          "sync_state": {
            "table": {
              "rows": [
                {
                  "0": "A-METHAPRE",
                  "1": "409568502"
                },
                {
                  "0": "A-METHAPRE",
                  "1": "409321705"
                },
                {
                  "0": "A-METHAPRE",
                  "1": "409568401"
                },
                {
                  "0": "A-METHAPRE",
                  "1": "409568423"
                },
                {
                  "0": "A-METHAPRE",
                  "1": "409568523"
                },
                {
                  "0": "A-METHAPRE",
                  "1": "409321805"
                },
                {
                  "0": "ALBUTEROL",
                  "1": "16252009733"
                },
                {
                  "0": "ALBUTEROL",
                  "1": "69097014260"
                },
                {
                  "0": "ALBUTEROL",
                  "1": "49502069729"
                },
                {
                  "0": "ALBUTEROL",
                  "1": "378827093"
                },
                {
                  "0": "ALBUTEROL",
                  "1": "591379783"
                },
                {
                  "0": "ALBUTEROL",
                  "1": "76204020001"
                },
                {
                  "0": "ALBUTEROL",
                  "1": "254100752"
                },
                {
                  "0": "ALBUTEROL",
                  "1": "68084094995"
                },
                {
                  "0": "ALBUTEROL",
                  "1": "378699093"
                },
                {
                  "0": "ALBUTEROL",
                  "1": "68084095225"
                },
                {
                  "0": "ALBUTEROL",
                  "1": "182601465"
                },
                {
                  "0": "ALBUTEROL",
                  "1": "68180096301"
                },
                {
                  "0": "ALBUTEROL",
                  "1": "378412401"
                },
                {
                  "0": "ALBUTEROL",
                  "1": "53489017701"
                },
                {
                  "0": "ALBUTEROL",
                  "1": "53489017605"
                },
                {
                  "0": "ALBUTEROL",
                  "1": "69238134501"
                },
                {
                  "0": "ALBUTEROL",
                  "1": "378827055"
                },
                {
                  "0": "ALBUTEROL",
                  "1": "378699252"
                },
                {
                  "0": "ALBUTEROL",
                  "1": "66689010016"
                },
                {
                  "0": "ALBUTEROL",
                  "1": "487950101"
                },
                {
                  "0": "ALBUTEROL",
                  "1": "378057205"
                },
                {
                  "0": "ALBUTEROL",
                  "1": "69543029110"
                },
                {
                  "0": "ALBUTEROL",
                  "1": "487030102"
                },
                {
                  "0": "ALBUTEROL",
                  "1": "378699298"
                },
                {
                  "0": "ALBUTEROL",
                  "1": "781715529"
                },
                {
                  "0": "ALBUTEROL",
                  "1": "70752010212"
                },
                {
                  "0": "ALBUTEROL",
                  "1": "487990401"
                },
                {
                  "0": "ALBUTEROL",
                  "1": "51079065720"
                },
                {
                  "0": "ALBUTEROL",
                  "1": "487950103"
                },
                {
                  "0": "ALBUTEROL",
                  "1": "378699058"
                },
                {
                  "0": "ALBUTEROL",
                  "1": "60687039579"
                },
                {
                  "0": "ALBUTEROL",
                  "1": "378827031"
                },
                {
                  "0": "ALBUTEROL",
                  "1": "378699152"
                },
                {
                  "0": "ALBUTEROL",
                  "1": "76204020030"
                },
                {
                  "0": "ALBUTEROL",
                  "1": "66794000130"
                },
                {
                  "0": "ALBUTEROL",
                  "1": "16252009766"
                },
                {
                  "0": "ALBUTEROL",
                  "1": "378827064"
                },
                {
                  "0": "ALBUTEROL",
                  "1": "591379760"
                },
                {
                  "0": "ALBUTEROL",
                  "1": "378699091"
                },
                {
                  "0": "ALBUTEROL",
                  "1": "70710106101"
                },
                {
                  "0": "ALBUTEROL",
                  "1": "93066116"
                },
                {
                  "0": "ALBUTEROL",
                  "1": "172640544"
                },
                {
                  "0": "ALBUTEROL",
                  "1": "472082516"
                },
                {
                  "0": "ALBUTEROL",
                  "1": "16252009722"
                },
                {
                  "0": "ALBUTEROL",
                  "1": "487950160"
                },
                {
                  "0": "ALBUTEROL",
                  "1": "50383074120"
                },
                {
                  "0": "ALBUTEROL",
                  "1": "68084095295"
                },
                {
                  "0": "ALBUTEROL",
                  "1": "591346853"
                },
                {
                  "0": "ALBUTEROL",
                  "1": "69543029018"
                },
                {
                  "0": "ALBUTEROL",
                  "1": "68084094925"
                },
                {
                  "0": "ALBUTEROL",
                  "1": "24208034720"
                },
                {
                  "0": "ALBUTEROL",
                  "1": "487990130"
                },
                {
                  "0": "ALBUTEROL",
                  "1": "51079065820"
                },
                {
                  "0": "ALBUTEROL",
                  "1": "378827052"
                },
                {
                  "0": "ALBUTEROL",
                  "1": "781715586"
                },
                {
                  "0": "ALBUTEROL",
                  "1": "378025505"
                },
                {
                  "0": "ALBUTEROL",
                  "1": "54806311"
                },
                {
                  "0": "ALBUTEROL",
                  "1": "591346753"
                },
                {
                  "0": "ALBUTEROL",
                  "1": "76204020025"
                },
                {
                  "0": "ALBUTEROL",
                  "1": "603100858"
                },
                {
                  "0": "ALBUTEROL",
                  "1": "76204020060"
                },
                {
                  "0": "ALBUTEROL",
                  "1": "378057201"
                },
                {
                  "0": "ALBUTEROL",
                  "1": "69238134401"
                },
                {
                  "0": "ALBUTEROL",
                  "1": "51079065701"
                },
                {
                  "0": "ALBUTEROL",
                  "1": "45802008801"
                },
                {
                  "0": "ALBUTEROL",
                  "1": "487950125"
                },
                {
                  "0": "ALBUTEROL",
                  "1": "487990402"
                },
                {
                  "0": "ALBUTEROL",
                  "1": "378699052"
                },
                {
                  "0": "ALBUTEROL",
                  "1": "172640549"
                },
                {
                  "0": "ALBUTEROL",
                  "1": "69543029010"
                },
                {
                  "0": "ALBUTEROL",
                  "1": "60687039583"
                },
                {
                  "0": "ALBUTEROL",
                  "1": "591379730"
                },
                {
                  "0": "ALBUTEROL",
                  "1": "378025501"
                },
                {
                  "0": "ALBUTEROL",
                  "1": "378827091"
                },
                {
                  "0": "ALBUTEROL",
                  "1": "50383074016"
                },
                {
                  "0": "ALBUTEROL",
                  "1": "53489017601"
                },
                {
                  "0": "ALBUTEROL",
                  "1": "781715564"
                },
                {
                  "0": "ALBUTEROL",
                  "1": "472083123"
                },
                {
                  "0": "ALBUTEROL",
                  "1": "53489017705"
                },
                {
                  "0": "ALBUTEROL",
                  "1": "93317431"
                },
                {
                  "0": "ALBUTEROL",
                  "1": "64980044301"
                },
                {
                  "0": "ALBUTEROL",
                  "1": "66993001968"
                },
                {
                  "0": "ALBUTEROL",
                  "1": "70710106201"
                },
                {
                  "0": "ALBUTEROL",
                  "1": "69543029118"
                },
                {
                  "0": "ALBUTEROL",
                  "1": "49502069724"
                },
                {
                  "0": "ALBUTEROL",
                  "1": "487950102"
                },
                {
                  "0": "ALBUTEROL",
                  "1": "487030101"
                },
                {
                  "0": "ALBUTEROL",
                  "1": "378412201"
                },
                {
                  "0": "ALBUTEROL",
                  "1": "49502069761"
                },
                {
                  "0": "ALBUTEROL",
                  "1": "64980044201"
                },
                {
                  "0": "ALBUTEROL",
                  "1": "487990425"
                },
                {
                  "0": "ALBUTEROL",
                  "1": "487950100"
                },
                {
                  "0": "ALBUTEROL",
                  "1": "487990102"
                },
                {
                  "0": "ALBUTEROL",
                  "1": "378827062"
                },
                {
                  "0": "ALBUTEROL",
                  "1": "781729685"
                },
                {
                  "0": "ALBUTEROL",
                  "1": "68774040001"
                },
                {
                  "0": "DEPO-MEDRO",
                  "1": "9028033"
                },
                {
                  "0": "DEPO-MEDRO",
                  "1": "9028032"
                },
                {
                  "0": "DEPO-MEDRO",
                  "1": "9028051"
                },
                {
                  "0": "DEPO-MEDRO",
                  "1": "9027401"
                },
                {
                  "0": "DEPO-MEDRO",
                  "1": "9307301"
                },
                {
                  "0": "DEPO-MEDRO",
                  "1": "9307322"
                },
                {
                  "0": "DEPO-MEDRO",
                  "1": "9347522"
                },
                {
                  "0": "DEPO-MEDRO",
                  "1": "9030612"
                },
                {
                  "0": "DEPO-MEDRO",
                  "1": "9347503"
                },
                {
                  "0": "DEPO-MEDRO",
                  "1": "9028052"
                },
                {
                  "0": "DEPO-MEDRO",
                  "1": "9347501"
                },
                {
                  "0": "DEPO-MEDRO",
                  "1": "9347523"
                },
                {
                  "0": "DEPO-MEDRO",
                  "1": "9030602"
                },
                {
                  "0": "DEPO-MEDRO",
                  "1": "9307323"
                },
                {
                  "0": "DEPO-MEDRO",
                  "1": "9028002"
                },
                {
                  "0": "DEPO-MEDRO",
                  "1": "9307303"
                },
                {
                  "0": "DEPO-MEDRO",
                  "1": "9030601"
                },
                {
                  "0": "DEPO-MEDRO",
                  "1": "9028003"
                },
                {
                  "0": "DEPO-MEDRO",
                  "1": "9028001"
                },
                {
                  "0": "DEXAMETHA",
                  "1": "54817925"
                },
                {
                  "0": "DEXAMETHA",
                  "1": "54817525"
                },
                {
                  "0": "DEXAMETHA",
                  "1": "54818025"
                },
                {
                  "0": "DEXAMETHA",
                  "1": "54418325"
                },
                {
                  "0": "DEXAMETHA",
                  "1": "54818325"
                },
                {
                  "0": "DEXAMETHA",
                  "1": "54418425"
                },
                {
                  "0": "DEXAMETHA",
                  "1": "54818125"
                },
                {
                  "0": "DEXAMETHA",
                  "1": "54817425"
                },
                {
                  "0": "DEXAMETHA",
                  "1": "54418225"
                },
                {
                  "0": "DEXAMETHA",
                  "1": "54417925"
                },
                {
                  "0": "DEXAMETHA",
                  "1": "54817625"
                },
                {
                  "0": "DEXAMETHA",
                  "1": "54418125"
                },
                {
                  "0": "DEXAMETHA",
                  "1": "54418025"
                },
                {
                  "0": "DEXAMETHA",
                  "1": "54418625"
                },
                {
                  "0": "DEXAMETHAS",
                  "1": "54817925"
                },
                {
                  "0": "DEXAMETHAS",
                  "1": "67457041800"
                },
                {
                  "0": "DEXAMETHAS",
                  "1": "70069002125"
                },
                {
                  "0": "DEXAMETHAS",
                  "1": "54818125"
                },
                {
                  "0": "DEXAMETHAS",
                  "1": "67457042312"
                },
                {
                  "0": "DEXAMETHAS",
                  "1": "69454302"
                },
                {
                  "0": "DEXAMETHAS",
                  "1": "60432046608"
                },
                {
                  "0": "DEXAMETHAS",
                  "1": "48102004720"
                },
                {
                  "0": "DEXAMETHAS",
                  "1": "69454102"
                },
                {
                  "0": "DEXAMETHAS",
                  "1": "48102004711"
                },
                {
                  "0": "DEXAMETHAS",
                  "1": "69017702"
                },
                {
                  "0": "DEXAMETHAS",
                  "1": "703352403"
                },
                {
                  "0": "DEXAMETHAS",
                  "1": "703351304"
                },
                {
                  "0": "DEXAMETHAS",
                  "1": "38779007103"
                },
                {
                  "0": "DEXAMETHAS",
                  "1": "24208072002"
                },
                {
                  "0": "DEXAMETHAS",
                  "1": "67457041900"
                },
                {
                  "0": "DEXAMETHAS",
                  "1": "63323016502"
                },
                {
                  "0": "DEXAMETHAS",
                  "1": "54817525"
                },
                {
                  "0": "DEXAMETHAS",
                  "1": "67457041805"
                },
                {
                  "0": "DEXAMETHAS",
                  "1": "55150030401"
                },
                {
                  "0": "DEXAMETHAS",
                  "1": "641614601"
                },
                {
                  "0": "DEXAMETHAS",
                  "1": "48102004701"
                },
                {
                  "0": "DEXAMETHAS",
                  "1": "517490125"
                },
                {
                  "0": "DEXAMETHAS",
                  "1": "76045010910"
                },
                {
                  "0": "DEXAMETHAS",
                  "1": "64980050924"
                },
                {
                  "0": "DEXAMETHAS",
                  "1": "69454301"
                },
                {
                  "0": "DEXAMETHAS",
                  "1": "67457041901"
                },
                {
                  "0": "DEXAMETHAS",
                  "1": "517493025"
                },
                {
                  "0": "DEXAMETHAS",
                  "1": "54418325"
                },
                {
                  "0": "DEXAMETHAS",
                  "1": "63323016505"
                },
                {
                  "0": "DEXAMETHAS",
                  "1": "67457048400"
                },
                {
                  "0": "DEXAMETHAS",
                  "1": "67457042000"
                },
                {
                  "0": "DEXAMETHAS",
                  "1": "54879000308"
                },
                {
                  "0": "DEXAMETHAS",
                  "1": "42195015110"
                },
                {
                  "0": "DEXAMETHAS",
                  "1": "63323050616"
                },
                {
                  "0": "DEXAMETHAS",
                  "1": "67457042200"
                },
                {
                  "0": "DEXAMETHAS",
                  "1": "703352401"
                },
                {
                  "0": "DEXAMETHAS",
                  "1": "641036721"
                },
                {
                  "0": "DEXAMETHAS",
                  "1": "641614525"
                },
                {
                  "0": "DEXAMETHAS",
                  "1": "48102004601"
                },
                {
                  "0": "DEXAMETHAS",
                  "1": "67457048310"
                },
                {
                  "0": "DEXAMETHAS",
                  "1": "54817625"
                },
                {
                  "0": "DEXAMETHAS",
                  "1": "76045010610"
                },
                {
                  "0": "DEXAMETHAS",
                  "1": "48102004801"
                },
                {
                  "0": "DEXAMETHAS",
                  "1": "68047070251"
                },
                {
                  "0": "DEXAMETHAS",
                  "1": "72572012001"
                },
                {
                  "0": "DEXAMETHAS",
                  "1": "68047070221"
                },
                {
                  "0": "DEXAMETHAS",
                  "1": "63323016530"
                },
                {
                  "0": "DEXAMETHAS",
                  "1": "69454702"
                },
                {
                  "0": "DEXAMETHAS",
                  "1": "69017802"
                },
                {
                  "0": "DEXAMETHAS",
                  "1": "54317644"
                },
                {
                  "0": "DEXAMETHAS",
                  "1": "54418225"
                },
                {
                  "0": "DEXAMETHAS",
                  "1": "69019201"
                },
                {
                  "0": "DEXAMETHAS",
                  "1": "54818025"
                },
                {
                  "0": "DEXAMETHAS",
                  "1": "54317763"
                },
                {
                  "0": "DEXAMETHAS",
                  "1": "49884012901"
                },
                {
                  "0": "DEXAMETHAS",
                  "1": "69454501"
                },
                {
                  "0": "DEXAMETHAS",
                  "1": "69017801"
                },
                {
                  "0": "DEXAMETHAS",
                  "1": "67457042300"
                },
                {
                  "0": "DEXAMETHAS",
                  "1": "70069002501"
                },
                {
                  "0": "DEXAMETHAS",
                  "1": "72572012225"
                },
                {
                  "0": "DEXAMETHAS",
                  "1": "54418625"
                },
                {
                  "0": "DEXAMETHAS",
                  "1": "63323051610"
                },
                {
                  "0": "DEXAMETHAS",
                  "1": "641036725"
                },
                {
                  "0": "DEXAMETHAS",
                  "1": "54418125"
                },
                {
                  "0": "DEXAMETHAS",
                  "1": "48102004501"
                },
                {
                  "0": "DEXAMETHAS",
                  "1": "54418425"
                },
                {
                  "0": "DEXAMETHAS",
                  "1": "55150023930"
                },
                {
                  "0": "DEXAMETHAS",
                  "1": "54818325"
                },
                {
                  "0": "DEXAMETHAS",
                  "1": "72572012201"
                },
                {
                  "0": "DEXAMETHAS",
                  "1": "70069002101"
                },
                {
                  "0": "DEXAMETHAS",
                  "1": "69017701"
                },
                {
                  "0": "DEXAMETHAS",
                  "1": "641614625"
                },
                {
                  "0": "DEXAMETHAS",
                  "1": "603114756"
                },
                {
                  "0": "DEXAMETHAS",
                  "1": "641037225"
                },
                {
                  "0": "DEXAMETHAS",
                  "1": "54418025"
                },
                {
                  "0": "DEXAMETHAS",
                  "1": "68047070235"
                },
                {
                  "0": "DEXAMETHAS",
                  "1": "69454701"
                },
                {
                  "0": "DEXAMETHAS",
                  "1": "63323016501"
                },
                {
                  "0": "DEXAMETHAS",
                  "1": "63323050601"
                },
                {
                  "0": "DEXAMETHAS",
                  "1": "67457042254"
                },
                {
                  "0": "DEXAMETHAS",
                  "1": "517490525"
                },
                {
                  "0": "DEXAMETHAS",
                  "1": "49884008701"
                },
                {
                  "0": "DEXAMETHAS",
                  "1": "69019202"
                },
                {
                  "0": "DEXAMETHAS",
                  "1": "72572012025"
                },
                {
                  "0": "DEXAMETHAS",
                  "1": "67457042010"
                },
                {
                  "0": "DEXAMETHAS",
                  "1": "55150030510"
                },
                {
                  "0": "DEXAMETHAS",
                  "1": "69017901"
                },
                {
                  "0": "DEXAMETHAS",
                  "1": "70069002510"
                },
                {
                  "0": "DEXAMETHAS",
                  "1": "55150023805"
                },
                {
                  "0": "DEXAMETHAS",
                  "1": "49884008501"
                },
                {
                  "0": "DEXAMETHAS",
                  "1": "69454101"
                },
                {
                  "0": "DEXAMETHAS",
                  "1": "49884037301"
                },
                {
                  "0": "DEXAMETHAS",
                  "1": "54817425"
                },
                {
                  "0": "DEXAMETHAS",
                  "1": "66758050122"
                },
                {
                  "0": "DEXAMETHAS",
                  "1": "55150023701"
                },
                {
                  "0": "DEXAMETHAS",
                  "1": "68047070201"
                },
                {
                  "0": "DEXAMETHAS",
                  "1": "55150030425"
                },
                {
                  "0": "DEXAMETHAS",
                  "1": "54317757"
                },
                {
                  "0": "DEXAMETHAS",
                  "1": "641614501"
                },
                {
                  "0": "DEXAMETHAS",
                  "1": "67457048300"
                },
                {
                  "0": "DEXAMETHAS",
                  "1": "63323016526"
                },
                {
                  "0": "DEXAMETHAS",
                  "1": "63323016516"
                },
                {
                  "0": "DEXAMETHAS",
                  "1": "469165020"
                },
                {
                  "0": "DEXAMETHAS",
                  "1": "49884008601"
                },
                {
                  "0": "DEXAMETHAS",
                  "1": "67457048430"
                },
                {
                  "0": "DEXAMETHAS",
                  "1": "67457042130"
                },
                {
                  "0": "DEXAMETHAS",
                  "1": "55150030501"
                },
                {
                  "0": "DEXAMETHAS",
                  "1": "49884008401"
                },
                {
                  "0": "DEXAMETHAS",
                  "1": "67457042100"
                },
                {
                  "0": "DEXAMETHAS",
                  "1": "63323016503"
                },
                {
                  "0": "DEXAMETHAS",
                  "1": "69017902"
                },
                {
                  "0": "DEXAMETHAS",
                  "1": "54417925"
                },
                {
                  "0": "PREDNISON",
                  "1": "54372263"
                },
                {
                  "0": "PREDNISON",
                  "1": "54372144"
                },
                {
                  "0": "PREDNISON",
                  "1": "54372250"
                },
                {
                  "0": "PREDNISONE",
                  "1": "63739051810"
                },
                {
                  "0": "PREDNISONE",
                  "1": "904692361"
                },
                {
                  "0": "PREDNISONE",
                  "1": "603533821"
                },
                {
                  "0": "PREDNISONE",
                  "1": "70954006020"
                },
                {
                  "0": "PREDNISONE",
                  "1": "527293341"
                },
                {
                  "0": "PREDNISONE",
                  "1": "70954006010"
                },
                {
                  "0": "PREDNISONE",
                  "1": "59746017110"
                },
                {
                  "0": "PREDNISONE",
                  "1": "143973910"
                },
                {
                  "0": "PREDNISONE",
                  "1": "70954005710"
                },
                {
                  "0": "PREDNISONE",
                  "1": "591544310"
                },
                {
                  "0": "PREDNISONE",
                  "1": "54872425"
                },
                {
                  "0": "PREDNISONE",
                  "1": "143973805"
                },
                {
                  "0": "PREDNISONE",
                  "1": "591544201"
                },
                {
                  "0": "PREDNISONE",
                  "1": "603533815"
                },
                {
                  "0": "PREDNISONE",
                  "1": "54372263"
                },
                {
                  "0": "PREDNISONE",
                  "1": "603533732"
                },
                {
                  "0": "PREDNISONE",
                  "1": "591505221"
                },
                {
                  "0": "PREDNISONE",
                  "1": "70954005920"
                },
                {
                  "0": "PREDNISONE",
                  "1": "378064001"
                },
                {
                  "0": "PREDNISONE",
                  "1": "54872625"
                },
                {
                  "0": "PREDNISONE",
                  "1": "59746017206"
                },
                {
                  "0": "PREDNISONE",
                  "1": "54001725"
                },
                {
                  "0": "PREDNISONE",
                  "1": "603533932"
                },
                {
                  "0": "PREDNISONE",
                  "1": "182133489"
                },
                {
                  "0": "PREDNISONE",
                  "1": "70954005830"
                },
                {
                  "0": "PREDNISONE",
                  "1": "70954005820"
                },
                {
                  "0": "PREDNISONE",
                  "1": "603533832"
                },
                {
                  "0": "PREDNISONE",
                  "1": "54001920"
                },
                {
                  "0": "PREDNISONE",
                  "1": "63739052010"
                },
                {
                  "0": "PREDNISONE",
                  "1": "527293243"
                },
                {
                  "0": "PREDNISONE",
                  "1": "60687014511"
                },
                {
                  "0": "PREDNISONE",
                  "1": "54981725"
                },
                {
                  "0": "PREDNISONE",
                  "1": "60687012201"
                },
                {
                  "0": "PREDNISONE",
                  "1": "143142501"
                },
                {
                  "0": "PREDNISONE",
                  "1": "70954005940"
                },
                {
                  "0": "PREDNISONE",
                  "1": "143147510"
                },
                {
                  "0": "PREDNISONE",
                  "1": "51991045801"
                },
                {
                  "0": "PREDNISONE",
                  "1": "59746017306"
                },
                {
                  "0": "PREDNISONE",
                  "1": "143147710"
                },
                {
                  "0": "PREDNISONE",
                  "1": "54472825"
                },
                {
                  "0": "PREDNISONE",
                  "1": "378064110"
                },
                {
                  "0": "PREDNISONE",
                  "1": "60687014501"
                },
                {
                  "0": "PREDNISONE",
                  "1": "603533731"
                },
                {
                  "0": "PREDNISONE",
                  "1": "591544205"
                },
                {
                  "0": "PREDNISONE",
                  "1": "63739020810"
                },
                {
                  "0": "PREDNISONE",
                  "1": "59746017506"
                },
                {
                  "0": "PREDNISONE",
                  "1": "527293037"
                },
                {
                  "0": "PREDNISONE",
                  "1": "143973810"
                },
                {
                  "0": "PREDNISONE",
                  "1": "59746017509"
                },
                {
                  "0": "PREDNISONE",
                  "1": "60687013411"
                },
                {
                  "0": "PREDNISONE",
                  "1": "143974010"
                },
                {
                  "0": "PREDNISONE",
                  "1": "60687012211"
                },
                {
                  "0": "PREDNISONE",
                  "1": "527293043"
                },
                {
                  "0": "PREDNISONE",
                  "1": "143147705"
                },
                {
                  "0": "PREDNISONE",
                  "1": "378064210"
                },
                {
                  "0": "PREDNISONE",
                  "1": "143147701"
                },
                {
                  "0": "PREDNISONE",
                  "1": "143147301"
                },
                {
                  "0": "PREDNISONE",
                  "1": "54474225"
                },
                {
                  "0": "PREDNISONE",
                  "1": "603533721"
                },
                {
                  "0": "PREDNISONE",
                  "1": "70954005910"
                },
                {
                  "0": "PREDNISONE",
                  "1": "591544221"
                },
                {
                  "0": "PREDNISONE",
                  "1": "527293137"
                },
                {
                  "0": "PREDNISONE",
                  "1": "54874025"
                },
                {
                  "0": "PREDNISONE",
                  "1": "591544243"
                },
                {
                  "0": "PREDNISONE",
                  "1": "59746017309"
                },
                {
                  "0": "PREDNISONE",
                  "1": "54982825"
                },
                {
                  "0": "PREDNISONE",
                  "1": "591505243"
                },
                {
                  "0": "PREDNISONE",
                  "1": "378064010"
                },
                {
                  "0": "PREDNISONE",
                  "1": "54873925"
                },
                {
                  "0": "PREDNISONE",
                  "1": "54001925"
                },
                {
                  "0": "PREDNISONE",
                  "1": "54001825"
                },
                {
                  "0": "PREDNISONE",
                  "1": "143147501"
                },
                {
                  "0": "PREDNISONE",
                  "1": "70954005840"
                },
                {
                  "0": "PREDNISONE",
                  "1": "59746017310"
                },
                {
                  "0": "PREDNISONE",
                  "1": "59746017210"
                },
                {
                  "0": "PREDNISONE",
                  "1": "54872216"
                },
                {
                  "0": "PREDNISONE",
                  "1": "603533921"
                },
                {
                  "0": "PREDNISONE",
                  "1": "63739058810"
                },
                {
                  "0": "PREDNISONE",
                  "1": "54372250"
                },
                {
                  "0": "PREDNISONE",
                  "1": "527293237"
                },
                {
                  "0": "PREDNISONE",
                  "1": "143973801"
                },
                {
                  "0": "PREDNISONE",
                  "1": "143973901"
                },
                {
                  "0": "PREDNISONE",
                  "1": "54474131"
                },
                {
                  "0": "PREDNISONE",
                  "1": "378064101"
                },
                {
                  "0": "PREDNISONE",
                  "1": "70954005930"
                },
                {
                  "0": "PREDNISONE",
                  "1": "54001720"
                },
                {
                  "0": "PREDNISONE",
                  "1": "70882011730"
                },
                {
                  "0": "PREDNISONE",
                  "1": "603533831"
                },
                {
                  "0": "PREDNISONE",
                  "1": "527293337"
                },
                {
                  "0": "PREDNISONE",
                  "1": "591544305"
                },
                {
                  "0": "PREDNISONE",
                  "1": "527293437"
                },
                {
                  "0": "PREDNISONE",
                  "1": "60687013401"
                },
                {
                  "0": "PREDNISONE",
                  "1": "70954006110"
                },
                {
                  "0": "PREDNISONE",
                  "1": "603533521"
                },
                {
                  "0": "PREDNISONE",
                  "1": "591505201"
                },
                {
                  "0": "PREDNISONE",
                  "1": "591544210"
                },
                {
                  "0": "PREDNISONE",
                  "1": "182108689"
                },
                {
                  "0": "PREDNISONE",
                  "1": "63739051910"
                },
                {
                  "0": "PREDNISONE",
                  "1": "603533621"
                },
                {
                  "0": "PREDNISONE",
                  "1": "143974001"
                },
                {
                  "0": "PREDNISONE",
                  "1": "59746017106"
                },
                {
                  "0": "PREDNISONE",
                  "1": "54872925"
                },
                {
                  "0": "PREDNISONE",
                  "1": "70954005810"
                },
                {
                  "0": "PREDNISONE",
                  "1": "54472831"
                },
                {
                  "0": "PREDNISONE",
                  "1": "378064205"
                },
                {
                  "0": "PREDNISONE",
                  "1": "54001820"
                },
                {
                  "0": "PREDNISONE",
                  "1": "527293441"
                },
                {
                  "0": "PREDNISONE",
                  "1": "54372144"
                },
                {
                  "0": "PREDNISONE",
                  "1": "54982831"
                },
                {
                  "0": "PREDNISONE",
                  "1": "54001729"
                },
                {
                  "0": "PREDNISONE",
                  "1": "603533828"
                },
                {
                  "0": "PREDNISONE",
                  "1": "143147310"
                },
                {
                  "0": "PREDNISONE",
                  "1": "603533715"
                },
                {
                  "0": "PREDNISONE",
                  "1": "591505210"
                },
                {
                  "0": "PREDNISONE",
                  "1": "527293537"
                },
                {
                  "0": "PREDNISONE",
                  "1": "70954006030"
                },
                {
                  "0": "PREDNISONE",
                  "1": "54981729"
                },
                {
                  "0": "PREDNISONE",
                  "1": "603533532"
                },
                {
                  "0": "PREDNISONE",
                  "1": "378064201"
                },
                {
                  "0": "PREDNISONE",
                  "1": "603533928"
                },
                {
                  "0": "PREDNISONE",
                  "1": "54001829"
                },
                {
                  "0": "PREDNISONE",
                  "1": "54474125"
                },
                {
                  "0": "PREDNISONE",
                  "1": "591544301"
                },
                {
                  "0": "SOLU-CORTE",
                  "1": "9001103"
                },
                {
                  "0": "SOLU-CORTE",
                  "1": "9001104"
                },
                {
                  "0": "SOLU-CORTE",
                  "1": "9001612"
                },
                {
                  "0": "SOLU-CORTE",
                  "1": "9090013"
                },
                {
                  "0": "SOLU-CORTE",
                  "1": "9001305"
                },
                {
                  "0": "SOLU-CORTE",
                  "1": "9091205"
                },
                {
                  "0": "SOLU-CORTE",
                  "1": "9090916"
                },
                {
                  "0": "SOLU-CORTE",
                  "1": "9090020"
                },
                {
                  "0": "SOLU-CORTE",
                  "1": "9092003"
                },
                {
                  "0": "SOLU-CORTE",
                  "1": "9090908"
                },
                {
                  "0": "SOLU-CORTE",
                  "1": "9000501"
                },
                {
                  "0": "SOLU-CORTE",
                  "1": "9082501"
                },
                {
                  "0": "SOLU-CORTE",
                  "1": "9001306"
                },
                {
                  "0": "SOLU-MEDRO",
                  "1": "9004704"
                },
                {
                  "0": "SOLU-MEDRO",
                  "1": "9003933"
                },
                {
                  "0": "SOLU-MEDRO",
                  "1": "9003930"
                },
                {
                  "0": "SOLU-MEDRO",
                  "1": "9085001"
                },
                {
                  "0": "SOLU-MEDRO",
                  "1": "9011319"
                },
                {
                  "0": "SOLU-MEDRO",
                  "1": "9011312"
                },
                {
                  "0": "SOLU-MEDRO",
                  "1": "9003932"
                },
                {
                  "0": "SOLU-MEDRO",
                  "1": "9004722"
                },
                {
                  "0": "SOLU-MEDRO",
                  "1": "9004726"
                },
                {
                  "0": "SOLU-MEDRO",
                  "1": "9004703"
                },
                {
                  "0": "SOLU-MEDRO",
                  "1": "9069802"
                },
                {
                  "0": "SOLU-MEDRO",
                  "1": "9075801"
                },
                {
                  "0": "SOLU-MEDRO",
                  "1": "9069801"
                },
                {
                  "0": "SOLU-MEDRO",
                  "1": "9019010"
                },
                {
                  "0": "SOLU-MEDRO",
                  "1": "9004727"
                },
                {
                  "0": "SOLU-MEDRO",
                  "1": "9003906"
                },
                {
                  "0": "SOLU-MEDRO",
                  "1": "9076502"
                },
                {
                  "0": "SOLU-MEDRO",
                  "1": "9001820"
                },
                {
                  "0": "SOLU-MEDRO",
                  "1": "9003905"
                },
                {
                  "0": "SOLU-MEDRO",
                  "1": "9079601"
                },
                {
                  "0": "SOLU-MEDRO",
                  "1": "9019016"
                },
                {
                  "0": "SOLU-MEDRO",
                  "1": "9338901"
                },
                {
                  "0": "SOLU-MEDRO",
                  "1": "9000302"
                },
                {
                  "0": "SOLU-MEDRO",
                  "1": "9003928"
                },
                {
                  "0": "SOLU-MEDRO",
                  "1": "9019009"
                },
                {
                  "0": "SOLU-MEDRO",
                  "1": "9004725"
                }
              ],
              "schema": [
                {
                  "key": "0",
                  "name": "Product_Name",
                  "type": "string"
                },
                {
                  "key": "1",
                  "name": "NDC",
                  "type": "bigint"
                }
              ],
              "truncated": false
            },
            "isSummary": false,
            "language": "scala"
          },
          "persist_state": {
            "view": {
              "type": "details",
              "tableOptions": {},
              "chartOptions": {
                "chartType": "bar",
                "aggregationType": "sum",
                "categoryFieldKeys": [
                  "0"
                ],
                "seriesFieldKeys": [
                  "1"
                ],
                "isStacked": false
              }
            }
          }
        },
        "d36d2568-7293-421a-92e9-66565e502d5d": {
          "type": "Synapse.DataFrame",
          "sync_state": {
            "table": {
              "rows": [
                {
                  "0": "ALBUTEROL"
                },
                {
                  "0": "DEXAMETHASONE"
                },
                {
                  "0": "HYDROCORTISONE"
                },
                {
                  "0": "METHYLPREDNISOLONE"
                },
                {
                  "0": "PREDNISONE"
                }
              ],
              "schema": [
                {
                  "key": "0",
                  "name": "Product_Name",
                  "type": "string"
                }
              ],
              "truncated": false
            },
            "isSummary": false,
            "language": "scala"
          },
          "persist_state": {
            "view": {
              "type": "details",
              "tableOptions": {},
              "chartOptions": {
                "chartType": "bar",
                "aggregationType": "count",
                "categoryFieldKeys": [
                  "0"
                ],
                "seriesFieldKeys": [
                  "0"
                ],
                "isStacked": false
              }
            }
          }
        },
        "60eb29c9-133a-47b7-a69c-991a432fd9ac": {
          "type": "Synapse.DataFrame",
          "sync_state": {
            "table": {
              "rows": [
                {
                  "0": "ALBUTEROL",
                  "1": "2020",
                  "2": "1",
                  "3": "8188072"
                },
                {
                  "0": "ALBUTEROL",
                  "1": "2020",
                  "2": "3",
                  "3": "6870387"
                },
                {
                  "0": "ALBUTEROL",
                  "1": "2020",
                  "2": "4",
                  "3": "6868337"
                },
                {
                  "0": "ALBUTEROL",
                  "1": "2020",
                  "2": "2",
                  "3": "6389570"
                },
                {
                  "0": "DEXAMETHASONE",
                  "1": "2019",
                  "2": "4",
                  "3": "1078412"
                },
                {
                  "0": "DEXAMETHASONE",
                  "1": "2018",
                  "2": "4",
                  "3": "976319"
                },
                {
                  "0": "DEXAMETHASONE",
                  "1": "2020",
                  "2": "1",
                  "3": "970601"
                },
                {
                  "0": "DEXAMETHASONE",
                  "1": "2019",
                  "2": "3",
                  "3": "968473"
                },
                {
                  "0": "DEXAMETHASONE",
                  "1": "2019",
                  "2": "1",
                  "3": "963772"
                },
                {
                  "0": "DEXAMETHASONE",
                  "1": "2019",
                  "2": "2",
                  "3": "961398"
                },
                {
                  "0": "DEXAMETHASONE",
                  "1": "2020",
                  "2": "4",
                  "3": "911861"
                },
                {
                  "0": "DEXAMETHASONE",
                  "1": "2018",
                  "2": "2",
                  "3": "868251"
                },
                {
                  "0": "DEXAMETHASONE",
                  "1": "2018",
                  "2": "1",
                  "3": "868233"
                },
                {
                  "0": "DEXAMETHASONE",
                  "1": "2018",
                  "2": "3",
                  "3": "845986"
                },
                {
                  "0": "DEXAMETHASONE",
                  "1": "2020",
                  "2": "3",
                  "3": "816663"
                },
                {
                  "0": "DEXAMETHASONE",
                  "1": "2021",
                  "2": "1",
                  "3": "780794"
                },
                {
                  "0": "DEXAMETHASONE",
                  "1": "2020",
                  "2": "2",
                  "3": "617977"
                },
                {
                  "0": "HYDROCORTISONE",
                  "1": "2019",
                  "2": "3",
                  "3": "17044"
                },
                {
                  "0": "HYDROCORTISONE",
                  "1": "2020",
                  "2": "1",
                  "3": "16348"
                },
                {
                  "0": "HYDROCORTISONE",
                  "1": "2019",
                  "2": "4",
                  "3": "15653"
                },
                {
                  "0": "HYDROCORTISONE",
                  "1": "2020",
                  "2": "3",
                  "3": "15094"
                },
                {
                  "0": "HYDROCORTISONE",
                  "1": "2019",
                  "2": "2",
                  "3": "14910"
                },
                {
                  "0": "HYDROCORTISONE",
                  "1": "2018",
                  "2": "3",
                  "3": "14690"
                },
                {
                  "0": "HYDROCORTISONE",
                  "1": "2018",
                  "2": "4",
                  "3": "13896"
                },
                {
                  "0": "HYDROCORTISONE",
                  "1": "2018",
                  "2": "2",
                  "3": "13851"
                },
                {
                  "0": "HYDROCORTISONE",
                  "1": "2020",
                  "2": "2",
                  "3": "13797"
                },
                {
                  "0": "HYDROCORTISONE",
                  "1": "2020",
                  "2": "4",
                  "3": "13654"
                },
                {
                  "0": "HYDROCORTISONE",
                  "1": "2018",
                  "2": "1",
                  "3": "13649"
                },
                {
                  "0": "HYDROCORTISONE",
                  "1": "2019",
                  "2": "1",
                  "3": "13574"
                },
                {
                  "0": "HYDROCORTISONE",
                  "1": "2021",
                  "2": "1",
                  "3": "12830"
                },
                {
                  "0": "METHYLPREDNISOLONE",
                  "1": "2018",
                  "2": "1",
                  "3": "515442"
                },
                {
                  "0": "METHYLPREDNISOLONE",
                  "1": "2019",
                  "2": "3",
                  "3": "514872"
                },
                {
                  "0": "METHYLPREDNISOLONE",
                  "1": "2018",
                  "2": "2",
                  "3": "512045"
                },
                {
                  "0": "METHYLPREDNISOLONE",
                  "1": "2019",
                  "2": "2",
                  "3": "496102"
                },
                {
                  "0": "METHYLPREDNISOLONE",
                  "1": "2018",
                  "2": "4",
                  "3": "494133"
                },
                {
                  "0": "METHYLPREDNISOLONE",
                  "1": "2018",
                  "2": "3",
                  "3": "491728"
                },
                {
                  "0": "METHYLPREDNISOLONE",
                  "1": "2019",
                  "2": "1",
                  "3": "488116"
                },
                {
                  "0": "METHYLPREDNISOLONE",
                  "1": "2019",
                  "2": "4",
                  "3": "483738"
                },
                {
                  "0": "METHYLPREDNISOLONE",
                  "1": "2020",
                  "2": "1",
                  "3": "412849"
                },
                {
                  "0": "METHYLPREDNISOLONE",
                  "1": "2020",
                  "2": "3",
                  "3": "393629"
                },
                {
                  "0": "METHYLPREDNISOLONE",
                  "1": "2020",
                  "2": "4",
                  "3": "373213"
                },
                {
                  "0": "METHYLPREDNISOLONE",
                  "1": "2020",
                  "2": "2",
                  "3": "305934"
                },
                {
                  "0": "METHYLPREDNISOLONE",
                  "1": "2021",
                  "2": "1",
                  "3": "297023"
                },
                {
                  "0": "PREDNISONE",
                  "1": "2019",
                  "2": "1",
                  "3": "3088041"
                },
                {
                  "0": "PREDNISONE",
                  "1": "2019",
                  "2": "4",
                  "3": "3046310"
                },
                {
                  "0": "PREDNISONE",
                  "1": "2018",
                  "2": "1",
                  "3": "3032006"
                },
                {
                  "0": "PREDNISONE",
                  "1": "2018",
                  "2": "4",
                  "3": "2897965"
                },
                {
                  "0": "PREDNISONE",
                  "1": "2019",
                  "2": "2",
                  "3": "2878905"
                },
                {
                  "0": "PREDNISONE",
                  "1": "2020",
                  "2": "1",
                  "3": "2803280"
                },
                {
                  "0": "PREDNISONE",
                  "1": "2018",
                  "2": "2",
                  "3": "2739627"
                },
                {
                  "0": "PREDNISONE",
                  "1": "2019",
                  "2": "3",
                  "3": "2702169"
                },
                {
                  "0": "PREDNISONE",
                  "1": "2018",
                  "2": "3",
                  "3": "2554612"
                },
                {
                  "0": "PREDNISONE",
                  "1": "2020",
                  "2": "4",
                  "3": "2353397"
                },
                {
                  "0": "PREDNISONE",
                  "1": "2020",
                  "2": "3",
                  "3": "2246550"
                },
                {
                  "0": "PREDNISONE",
                  "1": "2021",
                  "2": "1",
                  "3": "2015810"
                },
                {
                  "0": "PREDNISONE",
                  "1": "2020",
                  "2": "2",
                  "3": "1957657"
                }
              ],
              "schema": [
                {
                  "key": "0",
                  "name": "Product_Name",
                  "type": "string"
                },
                {
                  "key": "1",
                  "name": "Year",
                  "type": "int"
                },
                {
                  "key": "2",
                  "name": "Quarter",
                  "type": "int"
                },
                {
                  "key": "3",
                  "name": "sum(Number_of_Prescriptions)",
                  "type": "bigint"
                }
              ],
              "truncated": false
            },
            "isSummary": false,
            "language": "scala"
          },
          "persist_state": {
            "view": {
              "type": "details",
              "tableOptions": {},
              "chartOptions": {
                "chartType": "column",
                "aggregationType": "sum",
                "categoryFieldKeys": [
                  "0"
                ],
                "seriesFieldKeys": [
                  "3"
                ],
                "isStacked": false,
                "pivotFieldKey": "2"
              }
            }
          }
        },
        "43e0c4a1-6a2d-495c-a69f-ee53555f1b3b": {
          "type": "Synapse.DataFrame",
          "sync_state": {
            "table": {
              "rows": [
                {
                  "0": "A-METHAPRE",
                  "1": "2018",
                  "2": "76"
                },
                {
                  "0": "ALBUTEROL",
                  "1": "2018",
                  "2": "12124741"
                },
                {
                  "0": "DEPO-MEDRO",
                  "1": "2018",
                  "2": "1477579"
                },
                {
                  "0": "DEXAMETHA",
                  "1": "2018",
                  "2": "194761"
                },
                {
                  "0": "DEXAMETHAS",
                  "1": "2018",
                  "2": "3364028"
                },
                {
                  "0": "PREDNISON",
                  "1": "2018",
                  "2": "15283"
                },
                {
                  "0": "PREDNISONE",
                  "1": "2018",
                  "2": "11208927"
                },
                {
                  "0": "SOLU-CORTE",
                  "1": "2018",
                  "2": "56086"
                },
                {
                  "0": "SOLU-MEDRO",
                  "1": "2018",
                  "2": "535769"
                },
                {
                  "0": "A-METHAPRE",
                  "1": "2019",
                  "2": "108"
                },
                {
                  "0": "ALBUTEROL",
                  "1": "2019",
                  "2": "25498271"
                },
                {
                  "0": "DEPO-MEDRO",
                  "1": "2019",
                  "2": "1392999"
                },
                {
                  "0": "DEXAMETHA",
                  "1": "2019",
                  "2": "201074"
                },
                {
                  "0": "DEXAMETHAS",
                  "1": "2019",
                  "2": "3770981"
                },
                {
                  "0": "PREDNISON",
                  "1": "2019",
                  "2": "15788"
                },
                {
                  "0": "PREDNISONE",
                  "1": "2019",
                  "2": "11699637"
                },
                {
                  "0": "SOLU-CORTE",
                  "1": "2019",
                  "2": "61181"
                },
                {
                  "0": "SOLU-MEDRO",
                  "1": "2019",
                  "2": "589829"
                },
                {
                  "0": "A-METHAPRE",
                  "1": "2020",
                  "2": "59"
                },
                {
                  "0": "ALBUTEROL",
                  "1": "2020",
                  "2": "28316366"
                },
                {
                  "0": "DEPO-MEDRO",
                  "1": "2020",
                  "2": "1051800"
                },
                {
                  "0": "DEXAMETHA",
                  "1": "2020",
                  "2": "206987"
                },
                {
                  "0": "DEXAMETHAS",
                  "1": "2020",
                  "2": "3110115"
                },
                {
                  "0": "PREDNISON",
                  "1": "2020",
                  "2": "9264"
                },
                {
                  "0": "PREDNISONE",
                  "1": "2020",
                  "2": "9351620"
                },
                {
                  "0": "SOLU-CORTE",
                  "1": "2020",
                  "2": "58893"
                },
                {
                  "0": "SOLU-MEDRO",
                  "1": "2020",
                  "2": "433825"
                },
                {
                  "0": "A-METHAPRE",
                  "1": "2021"
                },
                {
                  "0": "ALBUTEROL",
                  "1": "2021",
                  "2": "5857558"
                },
                {
                  "0": "DEPO-MEDRO",
                  "1": "2021",
                  "2": "218146"
                },
                {
                  "0": "DEXAMETHA",
                  "1": "2021",
                  "2": "59951"
                },
                {
                  "0": "DEXAMETHAS",
                  "1": "2021",
                  "2": "720843"
                },
                {
                  "0": "PREDNISON",
                  "1": "2021",
                  "2": "1511"
                },
                {
                  "0": "PREDNISONE",
                  "1": "2021",
                  "2": "2014299"
                },
                {
                  "0": "SOLU-CORTE",
                  "1": "2021",
                  "2": "12830"
                },
                {
                  "0": "SOLU-MEDRO",
                  "1": "2021",
                  "2": "78877"
                }
              ],
              "schema": [
                {
                  "key": "0",
                  "name": "Product_Name",
                  "type": "string"
                },
                {
                  "key": "1",
                  "name": "Year",
                  "type": "int"
                },
                {
                  "key": "2",
                  "name": "sum(Number_of_Prescriptions)",
                  "type": "bigint"
                }
              ],
              "truncated": false
            },
            "isSummary": false,
            "language": "scala"
          },
          "persist_state": {
            "view": {
              "type": "details",
              "tableOptions": {},
              "chartOptions": {
                "chartType": "column",
                "aggregationType": "sum",
                "categoryFieldKeys": [
                  "0"
                ],
                "seriesFieldKeys": [
                  "2"
                ],
                "isStacked": false,
                "pivotFieldKey": "1"
              }
            }
          }
        }
      }
    }
  },
  "nbformat": 4,
  "nbformat_minor": 2
}